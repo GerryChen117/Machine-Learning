{
  "nbformat": 4,
  "nbformat_minor": 0,
  "metadata": {
    "colab": {
      "name": "Lab_4_Data_Imputation.ipynb",
      "provenance": [],
      "collapsed_sections": []
    },
    "kernelspec": {
      "display_name": "Python 3",
      "language": "python",
      "name": "python3"
    },
    "language_info": {
      "codemirror_mode": {
        "name": "ipython",
        "version": 3
      },
      "file_extension": ".py",
      "mimetype": "text/x-python",
      "name": "python",
      "nbconvert_exporter": "python",
      "pygments_lexer": "ipython3",
      "version": "3.7.4"
    }
  },
  "cells": [
    {
      "cell_type": "markdown",
      "metadata": {
        "id": "OhtOdxzd1ppr"
      },
      "source": [
        "# Lab 4: Data Imputation using an Autoencoder\n",
        "\n",
        "**Deadline**: Thursday, June 18, 11:59pm\n",
        "\n",
        "**Late Penalty**: There is a penalty-free grace period of one hour past the deadline. Any work that is submitted between 1 hour and 24 hours past the deadline will receive a 20% grade deduction. No other late work is accepted. Quercus submission time will be used, not your local computer time. You can submit your labs as many times as you want before the deadline, so please submit often and early.\n",
        "\n",
        "**TA**: Chris Lucasius\n",
        "\n",
        "In this lab, you will build and train an autoencoder to impute (or \"fill in\") missing data. \n",
        "\n",
        "We will be using the\n",
        "Adult Data Set provided by the UCI Machine Learning Repository [1], available \n",
        "at https://archive.ics.uci.edu/ml/datasets/adult.\n",
        "The data set contains census record files of adults, including their\n",
        "age, martial status, the type of work they do, and other features. \n",
        "\n",
        "Normally, people use this data set to build a supervised classification\n",
        "model to classify whether a person is a high income earner.\n",
        "We will not use the dataset for this original intended purpose.\n",
        "\n",
        "Instead, we will perform the task of imputing (or \"filling in\") missing values in the dataset. For example,\n",
        "we may be missing one person's martial status, and another person's age, and\n",
        "a third person's level of education. Our model will predict the missing features \n",
        "based on the information that we do have about each person.\n",
        "\n",
        "We will use a variation of a denoising autoencoder to solve this data imputation\n",
        "problem. Our autoencoder will be trained using inputs that have one categorical feature artificially\n",
        "removed, and the goal of the autoencoder is to correctly reconstruct all features,\n",
        "including the one removed from the input.\n",
        "\n",
        "In the process, you are expected to learn to:\n",
        "\n",
        "1. Clean and process continuous and categorical data for machine learning.\n",
        "2. Implement an autoencoder that takes continuous and categorical (one-hot) inputs.\n",
        "3. Tune the hyperparameters of an autoencoder.\n",
        "4. Use baseline models to help interpret model performance.\n",
        "\n",
        "[1] Dua, D. and Karra Taniskidou, E. (2017). UCI Machine Learning Repository [http://archive.ics.uci.edu/ml]. Irvine, CA: University of California, School of Information and Computer Science.\n",
        "\n",
        "\n",
        "### What to submit\n",
        "\n",
        "Submit a PDF file containing all your code, outputs, and write-up. You can produce a PDF of your Google Colab file by going to File > Print and then save as PDF. The Colab instructions have more information (.html files are also acceptable).\n",
        "\n",
        "Do not submit any other files produced by your code.\n",
        "\n",
        "Include a link to your colab file in your submission.\n"
      ]
    },
    {
      "cell_type": "markdown",
      "metadata": {
        "id": "zbnrp2ig1pps"
      },
      "source": [
        "## Colab Link\n",
        "\n",
        "Include a link to your Colab file here. If you would like the TA to look at your\n",
        "Colab file in case your solutions are cut off, **please make sure that your Colab\n",
        "file is publicly accessible at the time of submission**.\n",
        "\n",
        "Colab Link: https://colab.research.google.com/drive/1chi_j6mzK1iL7cemhmp6gATknqx1p1e1"
      ]
    },
    {
      "cell_type": "code",
      "metadata": {
        "id": "z3p8N43E1ppt"
      },
      "source": [
        "import csv\n",
        "import numpy as np\n",
        "import random\n",
        "import torch\n",
        "import torch.utils.data\n",
        "\n",
        "\n",
        "import torch.nn as nn\n",
        "import torch.nn.functional as F\n",
        "\n",
        "import matplotlib.pyplot as plt # for plotting\n",
        "import torch.optim as optim #for gradient descent"
      ],
      "execution_count": null,
      "outputs": []
    },
    {
      "cell_type": "markdown",
      "metadata": {
        "id": "8ROwtHcz1ppx"
      },
      "source": [
        "## Part 0\n",
        "\n",
        "We will be using a package called `pandas` for this assignment. \n",
        "\n",
        "If you are using Colab, `pandas` should already be available.\n",
        "If you are using your own computer,\n",
        "installation instructions for `pandas` are available here: \n",
        "https://pandas.pydata.org/pandas-docs/stable/install.html"
      ]
    },
    {
      "cell_type": "code",
      "metadata": {
        "id": "IXQ7BP151ppz"
      },
      "source": [
        "import pandas as pd"
      ],
      "execution_count": null,
      "outputs": []
    },
    {
      "cell_type": "markdown",
      "metadata": {
        "id": "hqXihb4Q1pp2"
      },
      "source": [
        "# Part 1. Data Cleaning [15 pt]\n",
        "\n",
        "The adult.data file is available at `https://archive.ics.uci.edu/ml/machine-learning-databases/adult/adult.data`\n",
        "\n",
        "The function `pd.read_csv` loads the adult.data file into a pandas dataframe.\n",
        "You can read about the pandas documentation for `pd.read_csv` at\n",
        "https://pandas.pydata.org/pandas-docs/stable/reference/api/pandas.read_csv.html"
      ]
    },
    {
      "cell_type": "code",
      "metadata": {
        "id": "EOMItFKn1pp3"
      },
      "source": [
        "header = ['age', 'work', 'fnlwgt', 'edu', 'yredu', 'marriage', 'occupation',\n",
        " 'relationship', 'race', 'sex', 'capgain', 'caploss', 'workhr', 'country']\n",
        "df = pd.read_csv(\n",
        "    \"https://archive.ics.uci.edu/ml/machine-learning-databases/adult/adult.data\",\n",
        "    names=header,\n",
        "    index_col=False)"
      ],
      "execution_count": null,
      "outputs": []
    },
    {
      "cell_type": "code",
      "metadata": {
        "id": "62Ot405q1pp5",
        "scrolled": true,
        "outputId": "106fc1a2-35b6-4087-bbab-d39c5e93c4b9",
        "colab": {
          "base_uri": "https://localhost:8080/",
          "height": 34
        }
      },
      "source": [
        "df.shape # there are 32561 rows (records) in the data frame, and 14 columns (features)"
      ],
      "execution_count": null,
      "outputs": [
        {
          "output_type": "execute_result",
          "data": {
            "text/plain": [
              "(32561, 14)"
            ]
          },
          "metadata": {
            "tags": []
          },
          "execution_count": 64
        }
      ]
    },
    {
      "cell_type": "markdown",
      "metadata": {
        "id": "Tr7YG-QY1pp8"
      },
      "source": [
        "### Part (a) Continuous Features [3 pt]\n",
        "\n",
        "For each of the columns `[\"age\", \"yredu\", \"capgain\", \"caploss\", \"workhr\"]`, report the minimum, maximum, and average value across the dataset. \n",
        "\n",
        "Then, normalize each of the features `[\"age\", \"yredu\", \"capgain\", \"caploss\", \"workhr\"]`\n",
        "so that their values are always between 0 and 1.\n",
        "Make sure that you are actually modifying the dataframe `df`. \n",
        "\n",
        "Like numpy arrays and torch tensors, \n",
        "pandas data frames can be sliced. For example, we can\n",
        "display the first 3 rows of the data frame (3 records) below."
      ]
    },
    {
      "cell_type": "code",
      "metadata": {
        "id": "9evSLsSa1pp9",
        "scrolled": false,
        "outputId": "2b412bd2-659b-4473-feec-f4d241e444e1",
        "colab": {
          "base_uri": "https://localhost:8080/",
          "height": 142
        }
      },
      "source": [
        "df[:3] # show the first 3 records"
      ],
      "execution_count": null,
      "outputs": [
        {
          "output_type": "execute_result",
          "data": {
            "text/html": [
              "<div>\n",
              "<style scoped>\n",
              "    .dataframe tbody tr th:only-of-type {\n",
              "        vertical-align: middle;\n",
              "    }\n",
              "\n",
              "    .dataframe tbody tr th {\n",
              "        vertical-align: top;\n",
              "    }\n",
              "\n",
              "    .dataframe thead th {\n",
              "        text-align: right;\n",
              "    }\n",
              "</style>\n",
              "<table border=\"1\" class=\"dataframe\">\n",
              "  <thead>\n",
              "    <tr style=\"text-align: right;\">\n",
              "      <th></th>\n",
              "      <th>age</th>\n",
              "      <th>work</th>\n",
              "      <th>fnlwgt</th>\n",
              "      <th>edu</th>\n",
              "      <th>yredu</th>\n",
              "      <th>marriage</th>\n",
              "      <th>occupation</th>\n",
              "      <th>relationship</th>\n",
              "      <th>race</th>\n",
              "      <th>sex</th>\n",
              "      <th>capgain</th>\n",
              "      <th>caploss</th>\n",
              "      <th>workhr</th>\n",
              "      <th>country</th>\n",
              "    </tr>\n",
              "  </thead>\n",
              "  <tbody>\n",
              "    <tr>\n",
              "      <th>0</th>\n",
              "      <td>39</td>\n",
              "      <td>State-gov</td>\n",
              "      <td>77516</td>\n",
              "      <td>Bachelors</td>\n",
              "      <td>13</td>\n",
              "      <td>Never-married</td>\n",
              "      <td>Adm-clerical</td>\n",
              "      <td>Not-in-family</td>\n",
              "      <td>White</td>\n",
              "      <td>Male</td>\n",
              "      <td>2174</td>\n",
              "      <td>0</td>\n",
              "      <td>40</td>\n",
              "      <td>United-States</td>\n",
              "    </tr>\n",
              "    <tr>\n",
              "      <th>1</th>\n",
              "      <td>50</td>\n",
              "      <td>Self-emp-not-inc</td>\n",
              "      <td>83311</td>\n",
              "      <td>Bachelors</td>\n",
              "      <td>13</td>\n",
              "      <td>Married-civ-spouse</td>\n",
              "      <td>Exec-managerial</td>\n",
              "      <td>Husband</td>\n",
              "      <td>White</td>\n",
              "      <td>Male</td>\n",
              "      <td>0</td>\n",
              "      <td>0</td>\n",
              "      <td>13</td>\n",
              "      <td>United-States</td>\n",
              "    </tr>\n",
              "    <tr>\n",
              "      <th>2</th>\n",
              "      <td>38</td>\n",
              "      <td>Private</td>\n",
              "      <td>215646</td>\n",
              "      <td>HS-grad</td>\n",
              "      <td>9</td>\n",
              "      <td>Divorced</td>\n",
              "      <td>Handlers-cleaners</td>\n",
              "      <td>Not-in-family</td>\n",
              "      <td>White</td>\n",
              "      <td>Male</td>\n",
              "      <td>0</td>\n",
              "      <td>0</td>\n",
              "      <td>40</td>\n",
              "      <td>United-States</td>\n",
              "    </tr>\n",
              "  </tbody>\n",
              "</table>\n",
              "</div>"
            ],
            "text/plain": [
              "   age               work  fnlwgt  ... caploss  workhr         country\n",
              "0   39          State-gov   77516  ...       0      40   United-States\n",
              "1   50   Self-emp-not-inc   83311  ...       0      13   United-States\n",
              "2   38            Private  215646  ...       0      40   United-States\n",
              "\n",
              "[3 rows x 14 columns]"
            ]
          },
          "metadata": {
            "tags": []
          },
          "execution_count": 65
        }
      ]
    },
    {
      "cell_type": "markdown",
      "metadata": {
        "id": "gBOojI6W1pqA"
      },
      "source": [
        "Alternatively, we can slice based on column names, \n",
        "for example `df[\"race\"]`, `df[\"hr\"]`, or even index multiple columns \n",
        "like below."
      ]
    },
    {
      "cell_type": "code",
      "metadata": {
        "id": "4v6pp73A1pqB",
        "outputId": "f18fc1d6-4dc2-4d7c-dc37-550ea6ca0a88",
        "colab": {
          "base_uri": "https://localhost:8080/",
          "height": 142
        }
      },
      "source": [
        "subdf = df[[\"age\", \"yredu\", \"capgain\", \"caploss\", \"workhr\"]]\n",
        "subdf[:3] # show the first 3 records"
      ],
      "execution_count": null,
      "outputs": [
        {
          "output_type": "execute_result",
          "data": {
            "text/html": [
              "<div>\n",
              "<style scoped>\n",
              "    .dataframe tbody tr th:only-of-type {\n",
              "        vertical-align: middle;\n",
              "    }\n",
              "\n",
              "    .dataframe tbody tr th {\n",
              "        vertical-align: top;\n",
              "    }\n",
              "\n",
              "    .dataframe thead th {\n",
              "        text-align: right;\n",
              "    }\n",
              "</style>\n",
              "<table border=\"1\" class=\"dataframe\">\n",
              "  <thead>\n",
              "    <tr style=\"text-align: right;\">\n",
              "      <th></th>\n",
              "      <th>age</th>\n",
              "      <th>yredu</th>\n",
              "      <th>capgain</th>\n",
              "      <th>caploss</th>\n",
              "      <th>workhr</th>\n",
              "    </tr>\n",
              "  </thead>\n",
              "  <tbody>\n",
              "    <tr>\n",
              "      <th>0</th>\n",
              "      <td>39</td>\n",
              "      <td>13</td>\n",
              "      <td>2174</td>\n",
              "      <td>0</td>\n",
              "      <td>40</td>\n",
              "    </tr>\n",
              "    <tr>\n",
              "      <th>1</th>\n",
              "      <td>50</td>\n",
              "      <td>13</td>\n",
              "      <td>0</td>\n",
              "      <td>0</td>\n",
              "      <td>13</td>\n",
              "    </tr>\n",
              "    <tr>\n",
              "      <th>2</th>\n",
              "      <td>38</td>\n",
              "      <td>9</td>\n",
              "      <td>0</td>\n",
              "      <td>0</td>\n",
              "      <td>40</td>\n",
              "    </tr>\n",
              "  </tbody>\n",
              "</table>\n",
              "</div>"
            ],
            "text/plain": [
              "   age  yredu  capgain  caploss  workhr\n",
              "0   39     13     2174        0      40\n",
              "1   50     13        0        0      13\n",
              "2   38      9        0        0      40"
            ]
          },
          "metadata": {
            "tags": []
          },
          "execution_count": 66
        }
      ]
    },
    {
      "cell_type": "markdown",
      "metadata": {
        "id": "2Nru2P0E1pqD"
      },
      "source": [
        "Numpy works nicely with pandas, like below:"
      ]
    },
    {
      "cell_type": "code",
      "metadata": {
        "id": "JXrS6tjp1pqE",
        "outputId": "71c56c32-5524-4729-d495-2aebc268ff08",
        "colab": {
          "base_uri": "https://localhost:8080/",
          "height": 34
        }
      },
      "source": [
        "np.sum(subdf[\"caploss\"])"
      ],
      "execution_count": null,
      "outputs": [
        {
          "output_type": "execute_result",
          "data": {
            "text/plain": [
              "2842700"
            ]
          },
          "metadata": {
            "tags": []
          },
          "execution_count": 67
        }
      ]
    },
    {
      "cell_type": "markdown",
      "metadata": {
        "id": "Mv5mbxDM1pqH"
      },
      "source": [
        "Just like numpy arrays, you can modify\n",
        "entire columns of data rather than one scalar element at a time.\n",
        "For example, the code  \n",
        "\n",
        "`df[\"age\"] = df[\"age\"] + 1` \n",
        "\n",
        "would increment everyone's age by 1."
      ]
    },
    {
      "cell_type": "markdown",
      "metadata": {
        "id": "pB9BP-OB_xGL"
      },
      "source": [
        "For each of the columns [\"age\", \"yredu\", \"capgain\", \"caploss\", \"workhr\"], report the minimum, maximum, and average value across the dataset.\n",
        "\n",
        "Then, normalize each of the features [\"age\", \"yredu\", \"capgain\", \"caploss\", \"workhr\"] so that their values are always between 0 and 1. Make sure that you are actually modifying the dataframe df.\n",
        "\n",
        "Like numpy arrays and torch tensors, pandas data frames can be sliced. For example, we can display the first 3 rows of the data frame (3 records) below."
      ]
    },
    {
      "cell_type": "code",
      "metadata": {
        "id": "k5rlWD7-1pqH",
        "outputId": "77870680-d911-4812-c0cc-2039521894b6",
        "colab": {
          "base_uri": "https://localhost:8080/",
          "height": 102
        }
      },
      "source": [
        "import numpy as np\n",
        "\n",
        "# Select the right columns\n",
        "#selected = df[['age','yredu','capgain','caploss','workhr']]\n",
        "\n",
        "# Show the first three rows\n",
        "#selected[:3]\n",
        "\n",
        "# Isolate each column and find the max, min, and average value using numpy functions \n",
        "\n",
        "## Age\n",
        "age = df[['age']]\n",
        "\n",
        "print(\"For age... Max: {}, Min: {}, Average: {}\".format(np.amax(age)[0], np.amin(age)[0], np.average(age)))\n",
        "\n",
        "## Years of Education\n",
        "yredu = df[['yredu']]\n",
        "\n",
        "print(\"For Years of Education... Max: {}, Min: {}, Average: {}\".format(np.amax(yredu)[0], np.amin(yredu)[0], np.average(yredu)))\n",
        "\n",
        "## Capital Gain\n",
        "capgain = df[['capgain']]\n",
        "\n",
        "print(\"For Capital Gain... Max: {}, Min: {}, Average: {}\".format(np.amax(capgain)[0], np.amin(capgain)[0], np.average(capgain)))\n",
        "\n",
        "## Capital Loss\n",
        "caploss = df[['caploss']]\n",
        "\n",
        "print(\"For Capital Loss... Max: {}, Min: {}, Average: {}\".format(np.amax(caploss)[0], np.amin(caploss)[0], np.average(caploss)))\n",
        "\n",
        "## Work Hours per Week\n",
        "workhr = df[['workhr']]\n",
        "\n",
        "print(\"For Work Hours per Week... Max: {}, Min: {}, Average: {}\".format(np.amax(workhr)[0], np.amin(workhr)[0], np.average(workhr)))"
      ],
      "execution_count": null,
      "outputs": [
        {
          "output_type": "stream",
          "text": [
            "For age... Max: 90, Min: 17, Average: 38.58164675532078\n",
            "For Years of Education... Max: 16, Min: 1, Average: 10.0806793403151\n",
            "For Capital Gain... Max: 99999, Min: 0, Average: 1077.6488437087312\n",
            "For Capital Loss... Max: 4356, Min: 0, Average: 87.303829734959\n",
            "For Work Hours per Week... Max: 99, Min: 1, Average: 40.437455852092995\n"
          ],
          "name": "stdout"
        }
      ]
    },
    {
      "cell_type": "markdown",
      "metadata": {
        "id": "jjCEHuE4GzJE"
      },
      "source": [
        "#### Only Run this ONCE"
      ]
    },
    {
      "cell_type": "code",
      "metadata": {
        "id": "nclsClB3FPq0",
        "outputId": "46d09b42-ae93-4abd-93c8-859995a2904a",
        "colab": {
          "base_uri": "https://localhost:8080/",
          "height": 102
        }
      },
      "source": [
        "# In order to normalize, we would apply a division across all the rows within the column. \n",
        "# I'm assuming there's no negative numbers and zero is the lowest number. \n",
        "# I will divide entire column by the maximum value. \n",
        "\n",
        "\n",
        "df['age'] = df['age']/np.amax(age)[0]\n",
        "df['yredu'] = df['yredu']/np.amax(yredu)[0]\n",
        "df['capgain'] = df['capgain']/np.amax(capgain)[0]\n",
        "df['caploss'] = df['caploss']/np.amax(caploss)[0]\n",
        "df['workhr'] = df['workhr']/np.amax(workhr)[0]\n",
        "\n",
        "# Check with first 3 rows\n",
        "print(np.amax(age)[0])\n",
        "print(df['age'][:3])"
      ],
      "execution_count": null,
      "outputs": [
        {
          "output_type": "stream",
          "text": [
            "90\n",
            "0    0.433333\n",
            "1    0.555556\n",
            "2    0.422222\n",
            "Name: age, dtype: float64\n"
          ],
          "name": "stdout"
        }
      ]
    },
    {
      "cell_type": "markdown",
      "metadata": {
        "id": "qbfMly4R1pqK"
      },
      "source": [
        "### Part (b) Categorical Features [1 pt]\n",
        "\n",
        "What percentage of people in our data set are male? Note that the data labels all have an unfortunate space in the beginning, e.g. \" Male\" instead of \"Male\".\n",
        "\n",
        "What percentage of people in our data set are female?"
      ]
    },
    {
      "cell_type": "code",
      "metadata": {
        "id": "DjAjcsB_1pqK",
        "outputId": "5d20d5b0-aad2-405c-9c3a-282bd0b1fe80",
        "colab": {
          "base_uri": "https://localhost:8080/",
          "height": 34
        }
      },
      "source": [
        "# hint: you can do something like this in pandas\n",
        "np.sum(df[\"sex\"] == \" Male\")"
      ],
      "execution_count": null,
      "outputs": [
        {
          "output_type": "execute_result",
          "data": {
            "text/plain": [
              "21790"
            ]
          },
          "metadata": {
            "tags": []
          },
          "execution_count": 70
        }
      ]
    },
    {
      "cell_type": "code",
      "metadata": {
        "id": "vmBwO_L5J4c0",
        "outputId": "fd548832-d8ba-4542-eb8c-33fbec15ecf0",
        "colab": {
          "base_uri": "https://localhost:8080/",
          "height": 51
        }
      },
      "source": [
        "females = np.sum(df['sex'] == ' Female')\n",
        "male = np.sum(df['sex'] == ' Male')\n",
        "total = females + male\n",
        "\n",
        "print(\"Percent Females: {}%\".format(females/total*100))\n",
        "print(\"Percent Male: {}%\".format(male/total*100))"
      ],
      "execution_count": null,
      "outputs": [
        {
          "output_type": "stream",
          "text": [
            "Percent Females: 33.07945087681583%\n",
            "Percent Male: 66.92054912318419%\n"
          ],
          "name": "stdout"
        }
      ]
    },
    {
      "cell_type": "markdown",
      "metadata": {
        "id": "eGVw7pqL1pqN"
      },
      "source": [
        "### Part (c) [2 pt]\n",
        "\n",
        "Before proceeding, we will modify our data frame in a couple more ways:\n",
        "\n",
        "1. We will restrict ourselves to using a subset of the features (to simplify our autoencoder)\n",
        "2. We will remove any records (rows) already containing missing values, and store them in a second dataframe. We will only use records without missing values to train our autoencoder.\n",
        "\n",
        "Both of these steps are done for you, below.\n",
        "\n",
        "How many records contained missing features? What percentage of records were removed?"
      ]
    },
    {
      "cell_type": "code",
      "metadata": {
        "id": "z6ewPUdv1pqO"
      },
      "source": [
        "contcols = [\"age\", \"yredu\", \"capgain\", \"caploss\", \"workhr\"]\n",
        "catcols = [\"work\", \"marriage\", \"occupation\", \"edu\", \"relationship\", \"sex\"]\n",
        "features = contcols + catcols\n",
        "df = df[features]"
      ],
      "execution_count": null,
      "outputs": []
    },
    {
      "cell_type": "code",
      "metadata": {
        "id": "fjdVll5a1pqQ"
      },
      "source": [
        "missing = pd.concat([df[c] == \" ?\" for c in catcols], axis=1).any(axis=1)\n",
        "df_with_missing = df[missing]\n",
        "df_not_missing = df[~missing]"
      ],
      "execution_count": null,
      "outputs": []
    },
    {
      "cell_type": "code",
      "metadata": {
        "id": "cSWXM4NpLUtM",
        "outputId": "a029bb0f-466c-4569-d170-d02b3918b37f",
        "colab": {
          "base_uri": "https://localhost:8080/",
          "height": 68
        }
      },
      "source": [
        "print(df_not_missing.shape)\n",
        "print(df_with_missing.shape)\n",
        "print(missing.shape)"
      ],
      "execution_count": null,
      "outputs": [
        {
          "output_type": "stream",
          "text": [
            "(30718, 11)\n",
            "(1843, 11)\n",
            "(32561,)\n"
          ],
          "name": "stdout"
        }
      ]
    },
    {
      "cell_type": "code",
      "metadata": {
        "id": "p7CXSzDcLtY4",
        "outputId": "61130b2f-16b4-4266-b11f-635fa0b5f22d",
        "colab": {
          "base_uri": "https://localhost:8080/",
          "height": 34
        }
      },
      "source": [
        "print(\"Percent Records Removed: {}%\".format(df_with_missing.shape[0]/missing.shape[0]*100))"
      ],
      "execution_count": null,
      "outputs": [
        {
          "output_type": "stream",
          "text": [
            "Percent Records Removed: 5.660145572924664%\n"
          ],
          "name": "stdout"
        }
      ]
    },
    {
      "cell_type": "markdown",
      "metadata": {
        "id": "eKrPpS6sLeJJ"
      },
      "source": [
        "**1843 files contained missing features. 5.66 percent of files were removed.**"
      ]
    },
    {
      "cell_type": "markdown",
      "metadata": {
        "id": "XuEpndTQ1pqU"
      },
      "source": [
        "### Part (d) One-Hot Encoding [1 pt]\n",
        "\n",
        "What are all the possible values of the feature \"work\" in `df_not_missing`? You may find the Python function `set` useful."
      ]
    },
    {
      "cell_type": "code",
      "metadata": {
        "id": "iKFh4owE1pqV",
        "outputId": "e7b194a8-5949-4724-870a-d9fc550af7fb",
        "colab": {
          "base_uri": "https://localhost:8080/",
          "height": 34
        }
      },
      "source": [
        "print(set(df_not_missing['work']))"
      ],
      "execution_count": null,
      "outputs": [
        {
          "output_type": "stream",
          "text": [
            "{' Federal-gov', ' Private', ' State-gov', ' Without-pay', ' Local-gov', ' Self-emp-inc', ' Self-emp-not-inc'}\n"
          ],
          "name": "stdout"
        }
      ]
    },
    {
      "cell_type": "markdown",
      "metadata": {
        "id": "yeteRshJMO2v"
      },
      "source": [
        "**The possible values are:**\n",
        "\n",
        "```\n",
        "{' Private', ' Self-emp-inc', ' Without-pay', ' Federal-gov', ' State-gov', ' Self-emp-not-inc', ' Local-gov'} ```\n",
        "\n"
      ]
    },
    {
      "cell_type": "markdown",
      "metadata": {
        "id": "COv3HaKr1pqY"
      },
      "source": [
        "We will be using a one-hot encoding to represent each of the categorical variables.\n",
        "Our autoencoder will be trained using these one-hot encodings.\n",
        "\n",
        "We will use the pandas function `get_dummies` to produce one-hot encodings\n",
        "for all of the categorical variables in `df_not_missing`. "
      ]
    },
    {
      "cell_type": "code",
      "metadata": {
        "id": "eKlSYmJg1pqZ"
      },
      "source": [
        "data = pd.get_dummies(df_not_missing)"
      ],
      "execution_count": null,
      "outputs": []
    },
    {
      "cell_type": "code",
      "metadata": {
        "id": "3y7nTZ7H1pqb",
        "scrolled": true,
        "outputId": "692e7a2d-aa8a-476b-c070-c49d07f18d93",
        "colab": {
          "base_uri": "https://localhost:8080/",
          "height": 230
        }
      },
      "source": [
        "data[:3]"
      ],
      "execution_count": null,
      "outputs": [
        {
          "output_type": "execute_result",
          "data": {
            "text/html": [
              "<div>\n",
              "<style scoped>\n",
              "    .dataframe tbody tr th:only-of-type {\n",
              "        vertical-align: middle;\n",
              "    }\n",
              "\n",
              "    .dataframe tbody tr th {\n",
              "        vertical-align: top;\n",
              "    }\n",
              "\n",
              "    .dataframe thead th {\n",
              "        text-align: right;\n",
              "    }\n",
              "</style>\n",
              "<table border=\"1\" class=\"dataframe\">\n",
              "  <thead>\n",
              "    <tr style=\"text-align: right;\">\n",
              "      <th></th>\n",
              "      <th>age</th>\n",
              "      <th>yredu</th>\n",
              "      <th>capgain</th>\n",
              "      <th>caploss</th>\n",
              "      <th>workhr</th>\n",
              "      <th>work_ Federal-gov</th>\n",
              "      <th>work_ Local-gov</th>\n",
              "      <th>work_ Private</th>\n",
              "      <th>work_ Self-emp-inc</th>\n",
              "      <th>work_ Self-emp-not-inc</th>\n",
              "      <th>work_ State-gov</th>\n",
              "      <th>work_ Without-pay</th>\n",
              "      <th>marriage_ Divorced</th>\n",
              "      <th>marriage_ Married-AF-spouse</th>\n",
              "      <th>marriage_ Married-civ-spouse</th>\n",
              "      <th>marriage_ Married-spouse-absent</th>\n",
              "      <th>marriage_ Never-married</th>\n",
              "      <th>marriage_ Separated</th>\n",
              "      <th>marriage_ Widowed</th>\n",
              "      <th>occupation_ Adm-clerical</th>\n",
              "      <th>occupation_ Armed-Forces</th>\n",
              "      <th>occupation_ Craft-repair</th>\n",
              "      <th>occupation_ Exec-managerial</th>\n",
              "      <th>occupation_ Farming-fishing</th>\n",
              "      <th>occupation_ Handlers-cleaners</th>\n",
              "      <th>occupation_ Machine-op-inspct</th>\n",
              "      <th>occupation_ Other-service</th>\n",
              "      <th>occupation_ Priv-house-serv</th>\n",
              "      <th>occupation_ Prof-specialty</th>\n",
              "      <th>occupation_ Protective-serv</th>\n",
              "      <th>occupation_ Sales</th>\n",
              "      <th>occupation_ Tech-support</th>\n",
              "      <th>occupation_ Transport-moving</th>\n",
              "      <th>edu_ 10th</th>\n",
              "      <th>edu_ 11th</th>\n",
              "      <th>edu_ 12th</th>\n",
              "      <th>edu_ 1st-4th</th>\n",
              "      <th>edu_ 5th-6th</th>\n",
              "      <th>edu_ 7th-8th</th>\n",
              "      <th>edu_ 9th</th>\n",
              "      <th>edu_ Assoc-acdm</th>\n",
              "      <th>edu_ Assoc-voc</th>\n",
              "      <th>edu_ Bachelors</th>\n",
              "      <th>edu_ Doctorate</th>\n",
              "      <th>edu_ HS-grad</th>\n",
              "      <th>edu_ Masters</th>\n",
              "      <th>edu_ Preschool</th>\n",
              "      <th>edu_ Prof-school</th>\n",
              "      <th>edu_ Some-college</th>\n",
              "      <th>relationship_ Husband</th>\n",
              "      <th>relationship_ Not-in-family</th>\n",
              "      <th>relationship_ Other-relative</th>\n",
              "      <th>relationship_ Own-child</th>\n",
              "      <th>relationship_ Unmarried</th>\n",
              "      <th>relationship_ Wife</th>\n",
              "      <th>sex_ Female</th>\n",
              "      <th>sex_ Male</th>\n",
              "    </tr>\n",
              "  </thead>\n",
              "  <tbody>\n",
              "    <tr>\n",
              "      <th>0</th>\n",
              "      <td>0.433333</td>\n",
              "      <td>0.8125</td>\n",
              "      <td>0.02174</td>\n",
              "      <td>0.0</td>\n",
              "      <td>0.404040</td>\n",
              "      <td>0</td>\n",
              "      <td>0</td>\n",
              "      <td>0</td>\n",
              "      <td>0</td>\n",
              "      <td>0</td>\n",
              "      <td>1</td>\n",
              "      <td>0</td>\n",
              "      <td>0</td>\n",
              "      <td>0</td>\n",
              "      <td>0</td>\n",
              "      <td>0</td>\n",
              "      <td>1</td>\n",
              "      <td>0</td>\n",
              "      <td>0</td>\n",
              "      <td>1</td>\n",
              "      <td>0</td>\n",
              "      <td>0</td>\n",
              "      <td>0</td>\n",
              "      <td>0</td>\n",
              "      <td>0</td>\n",
              "      <td>0</td>\n",
              "      <td>0</td>\n",
              "      <td>0</td>\n",
              "      <td>0</td>\n",
              "      <td>0</td>\n",
              "      <td>0</td>\n",
              "      <td>0</td>\n",
              "      <td>0</td>\n",
              "      <td>0</td>\n",
              "      <td>0</td>\n",
              "      <td>0</td>\n",
              "      <td>0</td>\n",
              "      <td>0</td>\n",
              "      <td>0</td>\n",
              "      <td>0</td>\n",
              "      <td>0</td>\n",
              "      <td>0</td>\n",
              "      <td>1</td>\n",
              "      <td>0</td>\n",
              "      <td>0</td>\n",
              "      <td>0</td>\n",
              "      <td>0</td>\n",
              "      <td>0</td>\n",
              "      <td>0</td>\n",
              "      <td>0</td>\n",
              "      <td>1</td>\n",
              "      <td>0</td>\n",
              "      <td>0</td>\n",
              "      <td>0</td>\n",
              "      <td>0</td>\n",
              "      <td>0</td>\n",
              "      <td>1</td>\n",
              "    </tr>\n",
              "    <tr>\n",
              "      <th>1</th>\n",
              "      <td>0.555556</td>\n",
              "      <td>0.8125</td>\n",
              "      <td>0.00000</td>\n",
              "      <td>0.0</td>\n",
              "      <td>0.131313</td>\n",
              "      <td>0</td>\n",
              "      <td>0</td>\n",
              "      <td>0</td>\n",
              "      <td>0</td>\n",
              "      <td>1</td>\n",
              "      <td>0</td>\n",
              "      <td>0</td>\n",
              "      <td>0</td>\n",
              "      <td>0</td>\n",
              "      <td>1</td>\n",
              "      <td>0</td>\n",
              "      <td>0</td>\n",
              "      <td>0</td>\n",
              "      <td>0</td>\n",
              "      <td>0</td>\n",
              "      <td>0</td>\n",
              "      <td>0</td>\n",
              "      <td>1</td>\n",
              "      <td>0</td>\n",
              "      <td>0</td>\n",
              "      <td>0</td>\n",
              "      <td>0</td>\n",
              "      <td>0</td>\n",
              "      <td>0</td>\n",
              "      <td>0</td>\n",
              "      <td>0</td>\n",
              "      <td>0</td>\n",
              "      <td>0</td>\n",
              "      <td>0</td>\n",
              "      <td>0</td>\n",
              "      <td>0</td>\n",
              "      <td>0</td>\n",
              "      <td>0</td>\n",
              "      <td>0</td>\n",
              "      <td>0</td>\n",
              "      <td>0</td>\n",
              "      <td>0</td>\n",
              "      <td>1</td>\n",
              "      <td>0</td>\n",
              "      <td>0</td>\n",
              "      <td>0</td>\n",
              "      <td>0</td>\n",
              "      <td>0</td>\n",
              "      <td>0</td>\n",
              "      <td>1</td>\n",
              "      <td>0</td>\n",
              "      <td>0</td>\n",
              "      <td>0</td>\n",
              "      <td>0</td>\n",
              "      <td>0</td>\n",
              "      <td>0</td>\n",
              "      <td>1</td>\n",
              "    </tr>\n",
              "    <tr>\n",
              "      <th>2</th>\n",
              "      <td>0.422222</td>\n",
              "      <td>0.5625</td>\n",
              "      <td>0.00000</td>\n",
              "      <td>0.0</td>\n",
              "      <td>0.404040</td>\n",
              "      <td>0</td>\n",
              "      <td>0</td>\n",
              "      <td>1</td>\n",
              "      <td>0</td>\n",
              "      <td>0</td>\n",
              "      <td>0</td>\n",
              "      <td>0</td>\n",
              "      <td>1</td>\n",
              "      <td>0</td>\n",
              "      <td>0</td>\n",
              "      <td>0</td>\n",
              "      <td>0</td>\n",
              "      <td>0</td>\n",
              "      <td>0</td>\n",
              "      <td>0</td>\n",
              "      <td>0</td>\n",
              "      <td>0</td>\n",
              "      <td>0</td>\n",
              "      <td>0</td>\n",
              "      <td>1</td>\n",
              "      <td>0</td>\n",
              "      <td>0</td>\n",
              "      <td>0</td>\n",
              "      <td>0</td>\n",
              "      <td>0</td>\n",
              "      <td>0</td>\n",
              "      <td>0</td>\n",
              "      <td>0</td>\n",
              "      <td>0</td>\n",
              "      <td>0</td>\n",
              "      <td>0</td>\n",
              "      <td>0</td>\n",
              "      <td>0</td>\n",
              "      <td>0</td>\n",
              "      <td>0</td>\n",
              "      <td>0</td>\n",
              "      <td>0</td>\n",
              "      <td>0</td>\n",
              "      <td>0</td>\n",
              "      <td>1</td>\n",
              "      <td>0</td>\n",
              "      <td>0</td>\n",
              "      <td>0</td>\n",
              "      <td>0</td>\n",
              "      <td>0</td>\n",
              "      <td>1</td>\n",
              "      <td>0</td>\n",
              "      <td>0</td>\n",
              "      <td>0</td>\n",
              "      <td>0</td>\n",
              "      <td>0</td>\n",
              "      <td>1</td>\n",
              "    </tr>\n",
              "  </tbody>\n",
              "</table>\n",
              "</div>"
            ],
            "text/plain": [
              "        age   yredu  capgain  ...  relationship_ Wife  sex_ Female  sex_ Male\n",
              "0  0.433333  0.8125  0.02174  ...                   0            0          1\n",
              "1  0.555556  0.8125  0.00000  ...                   0            0          1\n",
              "2  0.422222  0.5625  0.00000  ...                   0            0          1\n",
              "\n",
              "[3 rows x 57 columns]"
            ]
          },
          "metadata": {
            "tags": []
          },
          "execution_count": 78
        }
      ]
    },
    {
      "cell_type": "markdown",
      "metadata": {
        "id": "HwjDg1uM1pqe"
      },
      "source": [
        "### Part (e) One-Hot Encoding [2 pt]\n",
        "\n",
        "The dataframe `data` contains the cleaned and normalized data that we will use to train our denoising autoencoder.\n",
        "\n",
        "How many **columns** (features) are in the dataframe `data`?\n",
        "\n",
        "Briefly explain where that number come from."
      ]
    },
    {
      "cell_type": "code",
      "metadata": {
        "id": "yjZ5N0Tl1pqf",
        "outputId": "50efbaea-5073-4eb9-914b-b92cff1335eb",
        "colab": {
          "base_uri": "https://localhost:8080/",
          "height": 34
        }
      },
      "source": [
        "print(data.shape)"
      ],
      "execution_count": null,
      "outputs": [
        {
          "output_type": "stream",
          "text": [
            "(30718, 57)\n"
          ],
          "name": "stdout"
        }
      ]
    },
    {
      "cell_type": "markdown",
      "metadata": {
        "id": "dQwIuhfPMf0D"
      },
      "source": [
        "**The shape of \"data\" is: (30718, 57). That's 30718 rows and 57 columns. The 57 columns includes all the possible values of every feature in \"df_not_missing\".**"
      ]
    },
    {
      "cell_type": "markdown",
      "metadata": {
        "id": "OEJ0Ci3l1pqh"
      },
      "source": [
        "### Part (f) One-Hot Conversion [3 pt]\n",
        "\n",
        "We will convert the pandas data frame `data` into numpy, so that\n",
        "it can be further converted into a PyTorch tensor.\n",
        "However, in doing so, we lose the column label information that\n",
        "a panda data frame automatically stores.\n",
        "\n",
        "Complete the function `get_categorical_value` that will return\n",
        "the named value of a feature given a one-hot embedding.\n",
        "You may find the global variables `cat_index` and `cat_values`\n",
        "useful. (Display them and figure out what they are first.)\n",
        "\n",
        "We will need this function in the next part of the lab\n",
        "to interpret our autoencoder outputs. So, the input\n",
        "to our function `get_categorical_values` might not \n",
        "actually be \"one-hot\" -- the input may instead \n",
        "contain real-valued predictions from our neural network."
      ]
    },
    {
      "cell_type": "code",
      "metadata": {
        "id": "ZmovX6gu1pqi"
      },
      "source": [
        "datanp = data.values.astype(np.float32)"
      ],
      "execution_count": null,
      "outputs": []
    },
    {
      "cell_type": "code",
      "metadata": {
        "id": "YRIa5MBd1pql"
      },
      "source": [
        "cat_index = {}  # Mapping of feature -> start index of feature in a record\n",
        "cat_values = {} # Mapping of feature -> list of categorical values the feature can take\n",
        "\n",
        "# build up the cat_index and cat_values dictionary\n",
        "for i, header in enumerate(data.keys()):\n",
        "    if \"_\" in header: # categorical header\n",
        "        feature, value = header.split()\n",
        "        feature = feature[:-1] # remove the last char; it is always an underscore\n",
        "        if feature not in cat_index:\n",
        "            cat_index[feature] = i\n",
        "            cat_values[feature] = [value]\n",
        "        else:\n",
        "            cat_values[feature].append(value)\n",
        "\n",
        "def get_onehot(record, feature):\n",
        "    \"\"\"\n",
        "    Return the portion of `record` that is the one-hot encoding\n",
        "    of `feature`. For example, since the feature \"work\" is stored\n",
        "    in the indices [5:12] in each record, calling `get_range(record, \"work\")`\n",
        "    is equivalent to accessing `record[5:12]`.\n",
        "    \n",
        "    Args:\n",
        "        - record: a numpy array representing one record, formatted\n",
        "                  the same way as a row in `data.np`\n",
        "        - feature: a string, should be an element of `catcols`\n",
        "    \"\"\"\n",
        "    start_index = cat_index[feature]\n",
        "    stop_index = cat_index[feature] + len(cat_values[feature])\n",
        "    return record[start_index:stop_index]\n",
        "\n",
        "def get_categorical_value(onehot, feature):\n",
        "    \"\"\"\n",
        "    Return the categorical value name of a feature given\n",
        "    a one-hot vector representing the feature.\n",
        "    \n",
        "    Args:\n",
        "        - onehot: a numpy array one-hot representation of the feature\n",
        "        - feature: a string, should be an element of `catcols`\n",
        "        \n",
        "    Examples:\n",
        "    \n",
        "    >>> get_categorical_value(np.array([0., 0., 0., 0., 0., 1., 0.]), \"work\")\n",
        "    'State-gov'\n",
        "    >>> get_categorical_value(np.array([0.1, 0., 1.1, 0.2, 0., 1., 0.]), \"work\")\n",
        "    'Private'\n",
        "    \"\"\"\n",
        "    # <----- TODO: WRITE YOUR CODE HERE ----->\n",
        "\n",
        "    a = np.argmax(onehot)  #find index of max value in the one hot array\n",
        "    out = cat_values[feature][a]  # based on the index, look up the respective value with the dictionary\n",
        "    return out\n"
      ],
      "execution_count": null,
      "outputs": []
    },
    {
      "cell_type": "code",
      "metadata": {
        "id": "K-MysOB6V5XA",
        "outputId": "8533c5ae-bea2-4ec6-883b-58b8b62979c4",
        "colab": {
          "base_uri": "https://localhost:8080/",
          "height": 34
        }
      },
      "source": [
        "get_categorical_value(np.array([0., 0., 0., 0., 0., 1., 0.]), \"work\")\n",
        "\n",
        "get_categorical_value(np.array([0.1, 0., 1.1, 0.2, 0., 1., 0.]), \"work\")"
      ],
      "execution_count": null,
      "outputs": [
        {
          "output_type": "execute_result",
          "data": {
            "text/plain": [
              "'Private'"
            ]
          },
          "metadata": {
            "tags": []
          },
          "execution_count": 82
        }
      ]
    },
    {
      "cell_type": "code",
      "metadata": {
        "id": "T_XXxZdh1pqv"
      },
      "source": [
        "# more useful code, used during training, that depends on the function\n",
        "# you write above\n",
        "\n",
        "def get_feature(record, feature):\n",
        "    \"\"\"\n",
        "    Return the categorical feature value of a record\n",
        "    \"\"\"\n",
        "    onehot = get_onehot(record, feature)\n",
        "    return get_categorical_value(onehot, feature)\n",
        "\n",
        "def get_features(record):\n",
        "    \"\"\"\n",
        "    Return a dictionary of all categorical feature values of a record\n",
        "    \"\"\"\n",
        "    return { f: get_feature(record, f) for f in catcols }"
      ],
      "execution_count": null,
      "outputs": []
    },
    {
      "cell_type": "code",
      "metadata": {
        "id": "3zPFyhz5Narh",
        "outputId": "7ce6cd7c-3abe-442a-ed57-a72435eb68f3",
        "colab": {
          "base_uri": "https://localhost:8080/",
          "height": 71
        }
      },
      "source": [
        "# What is cat_index and cat_values?\n",
        "\n",
        "print(cat_index)\n",
        "print(cat_values)"
      ],
      "execution_count": null,
      "outputs": [
        {
          "output_type": "stream",
          "text": [
            "{'work': 5, 'marriage': 12, 'occupation': 19, 'edu': 33, 'relationship': 49, 'sex': 55}\n",
            "{'work': ['Federal-gov', 'Local-gov', 'Private', 'Self-emp-inc', 'Self-emp-not-inc', 'State-gov', 'Without-pay'], 'marriage': ['Divorced', 'Married-AF-spouse', 'Married-civ-spouse', 'Married-spouse-absent', 'Never-married', 'Separated', 'Widowed'], 'occupation': ['Adm-clerical', 'Armed-Forces', 'Craft-repair', 'Exec-managerial', 'Farming-fishing', 'Handlers-cleaners', 'Machine-op-inspct', 'Other-service', 'Priv-house-serv', 'Prof-specialty', 'Protective-serv', 'Sales', 'Tech-support', 'Transport-moving'], 'edu': ['10th', '11th', '12th', '1st-4th', '5th-6th', '7th-8th', '9th', 'Assoc-acdm', 'Assoc-voc', 'Bachelors', 'Doctorate', 'HS-grad', 'Masters', 'Preschool', 'Prof-school', 'Some-college'], 'relationship': ['Husband', 'Not-in-family', 'Other-relative', 'Own-child', 'Unmarried', 'Wife'], 'sex': ['Female', 'Male']}\n"
          ],
          "name": "stdout"
        }
      ]
    },
    {
      "cell_type": "markdown",
      "metadata": {
        "id": "3Jh9CuAMNvxi"
      },
      "source": [
        "** cat_values provides a list of all possible values for every feature in a well-organized list. cat_index provides the index each feature set begins on. **\n",
        "\n"
      ]
    },
    {
      "cell_type": "markdown",
      "metadata": {
        "id": "1_5ZZR_J1pqy"
      },
      "source": [
        "### Part (g) Train/Test Split [3 pt]\n",
        "\n",
        "Randomly split the data into approximately 70% training, 15% validation and 15% test.\n",
        "\n",
        "Report the number of items in your training, validation, and test set."
      ]
    },
    {
      "cell_type": "code",
      "metadata": {
        "id": "bT7xhZfvbuTe",
        "outputId": "009143dd-b4f4-4388-d892-1e707b95e945",
        "colab": {
          "base_uri": "https://localhost:8080/",
          "height": 68
        }
      },
      "source": [
        "b = datanp.shape[0]\n",
        "\n",
        "print(b)\n",
        "train = 0.7 * b\n",
        "val = 0.15 * b\n",
        "test = 0.15 * b\n",
        "sum = train + val + test\n",
        "print(sum)\n",
        "print(train, val, test)"
      ],
      "execution_count": null,
      "outputs": [
        {
          "output_type": "stream",
          "text": [
            "30718\n",
            "30718.0\n",
            "21502.6 4607.7 4607.7\n"
          ],
          "name": "stdout"
        }
      ]
    },
    {
      "cell_type": "code",
      "metadata": {
        "id": "TE_fTJJf1pqz"
      },
      "source": [
        "# set the numpy seed for reproducibility\n",
        "# https://docs.scipy.org/doc/numpy/reference/generated/numpy.random.seed.html\n",
        "np.random.seed(50)\n",
        "\n",
        "# todo, use panda library to shuffle\n",
        "shuffled_data = data.sample(frac=1, random_state=50)\n",
        "shuffled_datas = shuffled_data.values.astype(np.float32)\n",
        "\n",
        "# Sort the data into the respective sections using index splitting:\n",
        "train_data = shuffled_datas[0:21502]\n",
        "val_data = shuffled_datas[21502:26109]\n",
        "test_data = shuffled_datas[26109:30718]"
      ],
      "execution_count": null,
      "outputs": []
    },
    {
      "cell_type": "markdown",
      "metadata": {
        "id": "GEBcZMR-cdTg"
      },
      "source": [
        "There are 21502 training files, 4607 validation, and 4609 testing files. "
      ]
    },
    {
      "cell_type": "code",
      "metadata": {
        "id": "ZYZPcSgTc0aT",
        "outputId": "b671960e-ac92-4a03-9286-d843c519f2f0",
        "colab": {
          "base_uri": "https://localhost:8080/",
          "height": 68
        }
      },
      "source": [
        "print(train_data.shape)\n",
        "print(val_data.shape)\n",
        "print(test_data.shape)"
      ],
      "execution_count": null,
      "outputs": [
        {
          "output_type": "stream",
          "text": [
            "(21502, 57)\n",
            "(4607, 57)\n",
            "(4609, 57)\n"
          ],
          "name": "stdout"
        }
      ]
    },
    {
      "cell_type": "markdown",
      "metadata": {
        "id": "h9wJAKOI1pq3"
      },
      "source": [
        "## Part 2. Model Setup [5 pt]\n",
        "\n",
        "### Part (a) [4 pt]\n",
        "\n",
        "Design a fully-connected autoencoder by modifying the `encoder` and `decoder`\n",
        "below.\n",
        "\n",
        "The input to this autoencoder will be the features of the `data`, with\n",
        "one categorical feature recorded as \"missing\". The output of the autoencoder\n",
        "should be the reconstruction of the same features, but with the missing\n",
        "value filled in.\n",
        "\n",
        "**Note**: Do not reduce the dimensionality of the input too much!\n",
        "The output of your embedding is expected to contain information \n",
        "about ~11 features."
      ]
    },
    {
      "cell_type": "code",
      "metadata": {
        "id": "f3F--tdn1pq3"
      },
      "source": [
        "from torch import nn\n",
        "\n",
        "class AutoEncoder(nn.Module):\n",
        "    def __init__(self):\n",
        "        super(AutoEncoder, self).__init__()\n",
        "        self.encoder = nn.Sequential(\n",
        "            nn.Linear(57, 29), # TODO -- FILL OUT THE CODE HERE!\n",
        "            nn.Linear(29,22)\n",
        "        )\n",
        "        self.decoder = nn.Sequential(\n",
        "            nn.Linear(22, 29), # TODO -- FILL OUT THE CODE HERE!\n",
        "            nn.Linear(29, 57),\n",
        "            nn.Sigmoid() # get to the range (0, 1)\n",
        "        )\n",
        "\n",
        "    def forward(self, x):\n",
        "        x = self.encoder(x)\n",
        "        x = self.decoder(x)\n",
        "        return x"
      ],
      "execution_count": null,
      "outputs": []
    },
    {
      "cell_type": "markdown",
      "metadata": {
        "id": "kuEzTSAv1pq6"
      },
      "source": [
        "### Part (b) [1 pt]\n",
        "\n",
        "Explain why there is a sigmoid activation in the last step of the decoder.\n",
        "\n",
        "(**Note**: the values inside the data frame `data` and the training code in Part 3 might be helpful.)"
      ]
    },
    {
      "cell_type": "markdown",
      "metadata": {
        "id": "NkVi8WIFj5ww"
      },
      "source": [
        "** The sigmoid activation function is used to ensure the output of our missing value feature is normalized between 0 and 1. **"
      ]
    },
    {
      "cell_type": "markdown",
      "metadata": {
        "id": "jYwqFWVl1pq8"
      },
      "source": [
        "## Part 3. Training [18] \n",
        "\n",
        "### Part (a) [6 pt]\n",
        "\n",
        "We will train our autoencoder in the following way:\n",
        "\n",
        "- In each iteration, we will hide one of the categorical features using the `zero_out_random_features` function\n",
        "- We will pass the data with one missing feature through the autoencoder, and obtain a reconstruction\n",
        "- We will check how close the reconstruction is compared to the original data -- including the value of the missing feature\n",
        "\n",
        "Complete the code to train the autoencoder, and plot the training and validation loss every few iterations.\n",
        "You may also want to plot training and validation \"accuracy\" every few iterations, as we will define in\n",
        "part (b). You may also want to checkpoint your model every few iterations or epochs.\n",
        "\n",
        "Use `nn.MSELoss()` as your loss function. (Side note: you might recognize that this loss function is not\n",
        "ideal for this problem, but we will use it anyway.)"
      ]
    },
    {
      "cell_type": "code",
      "metadata": {
        "id": "enqtfQrm9dy8"
      },
      "source": [
        "import time"
      ],
      "execution_count": null,
      "outputs": []
    },
    {
      "cell_type": "code",
      "metadata": {
        "id": "IDQA_-dS1pq9"
      },
      "source": [
        "def zero_out_feature(records, feature):\n",
        "    \"\"\" Set the feature missing in records, by setting the appropriate\n",
        "    columns of records to 0\n",
        "    \"\"\"\n",
        "    start_index = cat_index[feature]\n",
        "    stop_index = cat_index[feature] + len(cat_values[feature])\n",
        "    records[:, start_index:stop_index] = 0\n",
        "    return records\n",
        "\n",
        "def zero_out_random_feature(records):\n",
        "    \"\"\" Set one random feature missing in records, by setting the \n",
        "    appropriate columns of records to 0\n",
        "    \"\"\"\n",
        "    return zero_out_feature(records, random.choice(catcols))\n",
        "\n",
        "def train(model, train_loader, valid_loader, num_epochs=5, learning_rate=1e-4):\n",
        "    \"\"\" Training loop. You should update this.\"\"\"\n",
        "    #Generate a seed\n",
        "    torch.manual_seed(42)\n",
        "\n",
        "    # Define the Loss function and optimizer\n",
        "    criterion = nn.MSELoss()\n",
        "    optimizer = torch.optim.Adam(model.parameters(), lr=learning_rate)\n",
        "\n",
        "    # Set up some numpy arrays to store the training/test loss/err accuracy\n",
        "    iters, losses, train_acc, val_acc = [], [], [], []\n",
        "\n",
        "\n",
        "################################# Train Loop ###################################\n",
        "    start_time = time.time()\n",
        "    print(\"Training Started...\")\n",
        "    n = 0 # to count number of iterations \n",
        "    for epoch in range(num_epochs):\n",
        "        print(\"This is epoch:{}\".format(epoch))\n",
        "        for data in train_loader:\n",
        "            datam = zero_out_random_feature(data.clone()) # zero out one categorical feature\n",
        "            recon = model(datam)\n",
        "            loss = criterion(recon, data)\n",
        "            loss.backward()\n",
        "            optimizer.step()\n",
        "            optimizer.zero_grad()\n",
        "            n+=1\n",
        "\n",
        "        # Calculate the statistics\n",
        "        iters.append(n)\n",
        "        losses.append(float(loss)/batch_size)                 # compute average loss\n",
        "        train_acc.append(get_accuracy(model, train_loader))   # compute training accuracy\n",
        "        val_acc.append(get_accuracy(model, val_loader))       # compute valiation accuracy\n",
        "        print(epoch, train_acc[-1], val_acc[-1])\n",
        "\n",
        "    #Plotting\n",
        "    plt.title(\"Training Curve\")\n",
        "    plt.plot(iters, losses, label=\"Train\")\n",
        "    plt.xlabel(\"Iterations\")\n",
        "    plt.ylabel(\"Loss\")\n",
        "    plt.show()\n",
        "\n",
        "    plt.title(\"Training Curve\")\n",
        "    plt.plot(iters, train_acc, label=\"Train\")\n",
        "    plt.plot(iters, val_acc, label=\"Validation\")\n",
        "    plt.xlabel(\"Iterations\")\n",
        "    plt.ylabel(\"Training Accuracy\")\n",
        "    plt.legend(loc='best')\n",
        "    plt.show()\n",
        "\n",
        "    print(\"Final Training Accuracy: {}\".format(train_acc[-1]))\n",
        "    print(\"Final Validation Accuracy: {}\".format(val_acc[-1]))\n",
        "\n",
        "    return train_acc, val_acc"
      ],
      "execution_count": null,
      "outputs": []
    },
    {
      "cell_type": "markdown",
      "metadata": {
        "id": "WKk01pwx1pq_"
      },
      "source": [
        "### Part (b) [3 pt]\n",
        "\n",
        "While plotting training and validation loss is valuable, loss values are harder to compare\n",
        "than accuracy percentages. It would be nice to have a measure of \"accuracy\" in this problem.\n",
        "\n",
        "Since we will only be imputing missing categorical values, we will define an accuracy measure.\n",
        "For each record and for each categorical feature, we determine whether\n",
        "the model can predict the categorical feature given all the other features of the record.\n",
        "\n",
        "A function `get_accuracy` is written for you. It is up to you to figure out how to\n",
        "use the function. **You don't need to submit anything in this part.**\n",
        "To earn the marks, correctly plot the training and validation accuracy every few \n",
        "iterations as part of your training curve."
      ]
    },
    {
      "cell_type": "code",
      "metadata": {
        "id": "bHWLfCzM1pq_"
      },
      "source": [
        "def get_accuracy(model, data_loader):\n",
        "    \"\"\"Return the \"accuracy\" of the autoencoder model across a data set.\n",
        "    That is, for each record and for each categorical feature, \n",
        "    we determine whether the model can successfully predict the value\n",
        "    of the categorical feature given all the other features of the \n",
        "    record. The returned \"accuracy\" measure is the percentage of times \n",
        "    that our model is successful.\n",
        "        \n",
        "    Args:\n",
        "       - model: the autoencoder model, an instance of nn.Module\n",
        "       - data_loader: an instance of torch.utils.data.DataLoader\n",
        "\n",
        "    Example (to illustrate how get_accuracy is intended to be called.\n",
        "             Depending on your variable naming this code might require\n",
        "             modification.)\n",
        "\n",
        "        >>> model = AutoEncoder()\n",
        "        >>> vdl = torch.utils.data.DataLoader(data_valid, batch_size=256, shuffle=True)\n",
        "        >>> get_accuracy(model, vdl)\n",
        "    \"\"\"\n",
        "    total = 0\n",
        "    acc = 0\n",
        "    for col in catcols:\n",
        "        for item in data_loader: # minibatches\n",
        "            inp = item.detach().numpy()\n",
        "            out = model(zero_out_feature(item.clone(), col)).detach().numpy()\n",
        "            for i in range(out.shape[0]): # record in minibatch\n",
        "                acc += int(get_feature(out[i], col) == get_feature(inp[i], col))\n",
        "                total += 1\n",
        "    return acc / total"
      ],
      "execution_count": null,
      "outputs": []
    },
    {
      "cell_type": "markdown",
      "metadata": {
        "id": "SxCTlXoV1prB"
      },
      "source": [
        "### Part (c) [4 pt]\n",
        "\n",
        "Run your updated training code, using reasonable initial hyperparameters.\n",
        "\n",
        "Include your training curve in your submission."
      ]
    },
    {
      "cell_type": "code",
      "metadata": {
        "id": "IsGXhoHL7hEm",
        "outputId": "679ddb0a-0e48-4ecf-a43c-8f556e78cc29",
        "colab": {
          "base_uri": "https://localhost:8080/",
          "height": 1000
        }
      },
      "source": [
        "## Sample Code from Lab 2\n",
        "batch_size = 64\n",
        "# Load the data\n",
        "train_loader = torch.utils.data.DataLoader(train_data, batch_size = batch_size, num_workers = 1)\n",
        "val_loader = torch.utils.data.DataLoader(val_data, batch_size = batch_size, num_workers = 1)\n",
        "test_loader = torch.utils.data.DataLoader(test_data, batch_size = batch_size, num_workers = 1)\n",
        "\n",
        "#Initiate the encoder\n",
        "encode5 = AutoEncoder()\n",
        "\n",
        "train(encode5, train_loader, val_loader, num_epochs = 30, learning_rate = 0.01)"
      ],
      "execution_count": null,
      "outputs": [
        {
          "output_type": "stream",
          "text": [
            "Training Started...\n",
            "This is epoch:0\n",
            "0 0.6036415217189098 0.5984009840098401\n",
            "This is epoch:1\n",
            "1 0.6098269928378756 0.6063960639606396\n",
            "This is epoch:2\n",
            "2 0.6192059653365578 0.6163085160263367\n",
            "This is epoch:3\n",
            "3 0.6135398257526432 0.6119672961435497\n",
            "This is epoch:4\n",
            "4 0.6218413790965182 0.6192750162795746\n",
            "This is epoch:5\n",
            "5 0.6126716894552445 0.6105202228492873\n",
            "This is epoch:6\n",
            "6 0.6256007193129322 0.6243397728094928\n",
            "This is epoch:7\n",
            "7 0.626228567885158 0.6239780044859272\n",
            "This is epoch:8\n",
            "8 0.6231745884103804 0.6217350408798206\n",
            "This is epoch:9\n",
            "9 0.6345998821815025 0.6324072064250055\n",
            "This is epoch:10\n",
            "10 0.6339100238737482 0.6291874683452717\n",
            "This is epoch:11\n",
            "11 0.6271742163519672 0.6260039070978946\n",
            "This is epoch:12\n",
            "12 0.6241434905280129 0.6251718399536936\n",
            "This is epoch:13\n",
            "13 0.6285539329674759 0.6261847912596773\n",
            "This is epoch:14\n",
            "14 0.6257479924348123 0.6218797482092469\n",
            "This is epoch:15\n",
            "15 0.6360261060986575 0.63309456623978\n",
            "This is epoch:16\n",
            "16 0.6338325117043376 0.6307068953042472\n",
            "This is epoch:17\n",
            "17 0.6373283105447555 0.6356269445047391\n",
            "This is epoch:18\n",
            "18 0.6301351812234521 0.6275956877215831\n",
            "This is epoch:19\n",
            "19 0.6379251542492171 0.6353013530135302\n",
            "This is epoch:20\n",
            "20 0.6395064025051933 0.6353737066782432\n",
            "This is epoch:21\n",
            "21 0.6375453446191052 0.6362419506548007\n",
            "This is epoch:22\n",
            "22 0.6433665085418411 0.6403661095434484\n",
            "This is epoch:23\n",
            "23 0.6382507053607417 0.6371825482960712\n",
            "This is epoch:24\n",
            "24 0.6332046631321118 0.6311771941248824\n",
            "This is epoch:25\n",
            "25 0.6347006480017363 0.632768974748571\n",
            "This is epoch:26\n",
            "26 0.6422735869531516 0.6387743289197598\n",
            "This is epoch:27\n",
            "27 0.6426999038849099 0.6408364083640836\n",
            "This is epoch:28\n",
            "28 0.6428704306576133 0.6383763837638377\n",
            "This is epoch:29\n",
            "29 0.6258100021703408 0.6248462484624846\n"
          ],
          "name": "stdout"
        },
        {
          "output_type": "display_data",
          "data": {
            "image/png": "[encoded data removed]",
            "text/plain": [
              "<Figure size 432x288 with 1 Axes>"
            ]
          },
          "metadata": {
            "tags": [],
            "needs_background": "light"
          }
        },
        {
          "output_type": "display_data",
          "data": {
            "image/png": "[encoded data removed]",
            "text/plain": [
              "<Figure size 432x288 with 1 Axes>"
            ]
          },
          "metadata": {
            "tags": [],
            "needs_background": "light"
          }
        },
        {
          "output_type": "stream",
          "text": [
            "Final Training Accuracy: 0.6258100021703408\n",
            "Final Validation Accuracy: 0.6248462484624846\n"
          ],
          "name": "stdout"
        },
        {
          "output_type": "execute_result",
          "data": {
            "text/plain": [
              "([0.6036415217189098,\n",
              "  0.6098269928378756,\n",
              "  0.6192059653365578,\n",
              "  0.6135398257526432,\n",
              "  0.6218413790965182,\n",
              "  0.6126716894552445,\n",
              "  0.6256007193129322,\n",
              "  0.626228567885158,\n",
              "  0.6231745884103804,\n",
              "  0.6345998821815025,\n",
              "  0.6339100238737482,\n",
              "  0.6271742163519672,\n",
              "  0.6241434905280129,\n",
              "  0.6285539329674759,\n",
              "  0.6257479924348123,\n",
              "  0.6360261060986575,\n",
              "  0.6338325117043376,\n",
              "  0.6373283105447555,\n",
              "  0.6301351812234521,\n",
              "  0.6379251542492171,\n",
              "  0.6395064025051933,\n",
              "  0.6375453446191052,\n",
              "  0.6433665085418411,\n",
              "  0.6382507053607417,\n",
              "  0.6332046631321118,\n",
              "  0.6347006480017363,\n",
              "  0.6422735869531516,\n",
              "  0.6426999038849099,\n",
              "  0.6428704306576133,\n",
              "  0.6258100021703408],\n",
              " [0.5984009840098401,\n",
              "  0.6063960639606396,\n",
              "  0.6163085160263367,\n",
              "  0.6119672961435497,\n",
              "  0.6192750162795746,\n",
              "  0.6105202228492873,\n",
              "  0.6243397728094928,\n",
              "  0.6239780044859272,\n",
              "  0.6217350408798206,\n",
              "  0.6324072064250055,\n",
              "  0.6291874683452717,\n",
              "  0.6260039070978946,\n",
              "  0.6251718399536936,\n",
              "  0.6261847912596773,\n",
              "  0.6218797482092469,\n",
              "  0.63309456623978,\n",
              "  0.6307068953042472,\n",
              "  0.6356269445047391,\n",
              "  0.6275956877215831,\n",
              "  0.6353013530135302,\n",
              "  0.6353737066782432,\n",
              "  0.6362419506548007,\n",
              "  0.6403661095434484,\n",
              "  0.6371825482960712,\n",
              "  0.6311771941248824,\n",
              "  0.632768974748571,\n",
              "  0.6387743289197598,\n",
              "  0.6408364083640836,\n",
              "  0.6383763837638377,\n",
              "  0.6248462484624846])"
            ]
          },
          "metadata": {
            "tags": []
          },
          "execution_count": 55
        }
      ]
    },
    {
      "cell_type": "code",
      "metadata": {
        "id": "nj5b71l-1prC"
      },
      "source": [
        ""
      ],
      "execution_count": null,
      "outputs": []
    },
    {
      "cell_type": "markdown",
      "metadata": {
        "id": "h9xTwIf51prF"
      },
      "source": [
        "### Part (d) [5 pt]\n",
        "\n",
        "Tune your hyperparameters, training at least 4 different models (4 sets of hyperparameters).\n",
        "\n",
        "Do not include all your training curves. Instead, explain what hyperparameters\n",
        "you tried, what their effect was, and what your thought process was as you \n",
        "chose the next set of hyperparameters to try."
      ]
    },
    {
      "cell_type": "markdown",
      "metadata": {
        "id": "-Vw9pYgZLILA"
      },
      "source": [
        "I first began with the default values where epoch=30, lr=1e-4, batch_size = 32 and I didn't change my autoencoder that I set up. This provided a maximum validation accuracy of 61.28%. From that, I decided to increase batch_size and learning rate to see what occurs. I changed batch_size to 64 and lr = 0.01. This produced the graph below. "
      ]
    },
    {
      "cell_type": "markdown",
      "metadata": {
        "id": "uQ-fARYYLYGI"
      },
      "source": [
        "![image.png](data:image/png;base64,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)"
      ]
    },
    {
      "cell_type": "markdown",
      "metadata": {
        "id": "iMPC6OOrL0gJ"
      },
      "source": [
        "It seemed increasing the batch_size and increasing the learning rate helped to increase the validation accuracy. However, the learning rate seemed too big as the accuracy keeps jumping back and forth, as seen by the noisy graph. I kept epochs the same since the accuracy wasn't improving much beyond 8000 iterations. For the 3rd set, I tried with batch_size = 100 and lr = 0.006. My results are:"
      ]
    },
    {
      "cell_type": "markdown",
      "metadata": {
        "id": "unx_XaF9NSzN"
      },
      "source": [
        "![image.png](data:image/png;base64,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)"
      ]
    },
    {
      "cell_type": "markdown",
      "metadata": {
        "id": "OWGa43ioNYSR"
      },
      "source": [
        "It seemed increasing batch_size and decreasing learning rate did not help much with validation accuracy... I will choose to change the architecture, perhaps decreasing the number of hidden units and increasing the number of linear layers. "
      ]
    },
    {
      "cell_type": "markdown",
      "metadata": {
        "id": "Pa4EBHiUNv9L"
      },
      "source": [
        "Original:\n",
        "![image.png](data:image/png;base64,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)"
      ]
    },
    {
      "cell_type": "markdown",
      "metadata": {
        "id": "gximBDGxP1Yv"
      },
      "source": [
        "New: ![image.png](data:image/png;base64,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)"
      ]
    },
    {
      "cell_type": "markdown",
      "metadata": {
        "id": "memG-AJ3QsIg"
      },
      "source": [
        "The new architecture achieved a best of: ![image.png](data:image/png;base64,iVBORw0KGgoAAAANSUhEUgAAAbwAAAAxCAYAAACh6RxtAAATvUlEQVR4Ae2dMXKkxRKEuQr34BDcgNgTcAkMDrA24HIAXCLwcLFZc11cXL1IvfheJBlV3T2jkd6IqT9CdP/dVVlZWfX/Lc1qly+e5hoFRoFRYBQYBR5AgS8eIMdJcRQYBUaBUWAUeJoDb5pgFBgFRoFR4CEUmAPvIco8SY4Co8AoMArMgTc9MAqMAqPAKPAQCsyB9xBlniRHgVFgFBgFbnbg/f77709ffvnl07fffvv0999/v6qyxFI8fX3//fevGu+1wMnjFpr9+eefT1999dXT119//fTXX3+9FuXBHQVGgVHg3SrwLg881NbBqsNiDrynpznw6IoZR4FRYBSoFWgPPA4Tfory8V4OGDhey4efsDw3n+snJh0kc12vADWSrtfW6fro48k3QvT1Sz8B0KcHwtjh8Wzt4qknwNIoP78yXj6T3l+X4FS2qZXbaF71L/xzL3knVvWpTsavbIgH3s8///w/udIfG8bkKEf5s6/R8QDOXFY1dQ5ZS/A0kkeVo9vder498CqRbk3iWjya/RYcb4l1bT7/Rj89AHpAfvzxx/m49Y0LzKHDS4weX72wVhR5Oa5eZLwc9Uzqq4vFi3H17FY2ss9DLzlXPOGFFumzuoeH5422v/zyy3OOqzwcu+Oxy6uqHRx2OVX84bE7cCotPR+fw5ED1PVyO3jLbhff/W4xf/GB5+SVQFV4xJUtAsq2ehgoDqKtmhuBq5iXirPC8r3kl82GLfw1ps0tNUs+XQNJI32lvbj4VfEnl8zD/bq5fMTp8+fPz/XOePjRI8SqekO2wsMmtQUjeere8cSBvpIm4LkNvLJWlY1siV1hgZG85Kf4FSZ5dnrBrxupo/D9gmfFxe1yTt+s+BATmy437JJbxtR+9vOJb5VjtZbxuvvMQ1p8+PDhuebg7nIBW7rTe6xJr1xjj7GzEV7VP/hpTP6spbbuo/lJzd0HjvomQPnQB27j9avq67avMX/xgQcpT4Q1RppCLwMaA3sXXXba1x6X7rtmAANMfK4ZV1jsib9zUUG15oX9+PHjPz4GxaZ6wYBb8T/VzHMVjuuZe+LqD0c+fPBxDNlkjo67moNH7uJX5YpGvqf8f/rpp//Bg+X6a1MPlx5MXWhGPJx173kTT3kRE3zPXbiqJxc2jqU98MDSmvPHz7GxEZb7aR1756f1S67uZUU9k8sOWxyv8UmtFEd6ZR0zfldLtK5wwah8qzXsVyM6Zk/hA27WkH0fK1tqvfOv9Adv9XxW/FmTlquritnZw0U6rfD9WbwEv4t76fqbHnj5wHjyHXHEqxrutFk6bF9fYbGXD5kX2bF8jm/mLhv2qmYHO/1Wmq0aSHv5kkFbGj/vxREeFUfPs5oLT5pp1FVxX2ngmC95SWZcXprZU2nn8Znji2an/IWd+q9ykv3qRQafbqyw6Y9LP172HIUhXnylhs5HtvnMaB+d9c0KOBq916tedL/UcheXPvZ4mlNH9/d5lwM24Mpud4l/8sZfNVH+zg9urj8x0IePVLs6VPzpDX4SI6bXymMKAxuNVSzZUD+4wT85s+4+2Lz2uD3wPFHmEHZyLpCva05RUyjdu8jpt/LV3ipmhbVaW2GxR0FXONVeV1hwtZ/XNZp1cYRd7WVjqq6qsde345F8q3vV1zXLePKp1iqsin/adVyzz6o8E6u7T755v/PzZ+Akpw5vt64cebmmLqnHDgv/7A109JwcS/lVz7fWhaWRixj0i+uaz4nnhj+YwiVv9rpRvGXf8YdDty9ceHsuVbzOjhjJGW7KNfPXHrqCW3EEO/fARmvxJUbintScOOKqK+/RQxp5zLzH7jXH7YG3KyTkEKyy74rihQOHYkho/8qiyX4VE7zTcYXFnherw6XYzl3zyhfcl2oGl1UDVXtwpVHh41ylez6MxFuNYHlurDl+9fJKXPwcK210f9pniqmakHeFxZpiZi3d94S/Y5E7XE844H/JCC++i/c41XO3woZrpb/WyCkxtMcL1Pe6dTirL+nN6icYt3Nc5vhWfLHRSF9dyt8xVtq4XfccwTXfb3BTDj7XvfMlfvordqfzjov0BbfS0Dk4N/IlJ++5qmaOg+9rj3d14KkQ/jJR8ghfFbQS+1rBVljseaNVcSh0NklXWHDTfpW3dKheIvLp4nR78KUx0dpf8NccdooHtmMxd0zs4CDf6lrlhj38s1dSM8XKPgPDR8V0rtpLvnnv/jn3h17zro7pd809vJK/sE609JirPl1haa/KMetBLNeHWlZ16vzB0XhiI7uOI/oJZ3XBUzjdtbJhL+Ok5sKXFhkHntLOL9YTVzauc+Wj/YzvduLAu7DSmdhw6nJ0HMd/zfndHHgIjJAk3YmlfXyyCfC9ZFxhsZfcEl/Fv+QFA27Fv8u7ajB4rBqo2svGXGET43TssIipfV3kWWngsWRfaes2YIGtPTT2F68exOpFWmElL/jnw5x2jsUcLuIn+5WPbHYcwa1GYmWMSiP8ZauYrp/vZf93MdzHdWdd2lW1VFy3F59LYxIjsVj3ES1SI9lozbm4n89XGNiJS5Wv9jsNwaUWp5oRc8U/exifjLHTH+7qmdXXDz/8sNyXb9YZTrce7+bAU2IS2BuDwnQPIYLL76XXCou9XVHUMM4Vv66g7Ff8s+HJb/UgVw2KX7WHvuKtKxse30vHVV7suZbKyXVTPOXvv6WJHvkS0kdeykNXYnMvbPejTuRd5Ydv5Sc89z3hTwxsvc/ZYyS24lS9gd1uzDzBde3BQF/FrPbpFfHn0nyVh7i7fvhVPCr8aq3DBFsjeTtX39ccDhW/Km76c49uXZ12+8KBr/dU5glfr03lJ7wT/olf8axwdjX3+J4PevkoDp6P773W/MUHnkjrIam+SBgxswF17w1HUcHS3qdPn55t3Pck5qWCEVvYebF3UhzxhL9GaZCFPeF/qlnG89ipWfKnoamT8u64VbqkTtxXuOxpFK98UYqDc/e+wJc6uJ3nKDt0w0b7wnY8YnnexPAxsaTfH3/88cw9fcEkrsdzTLTJWriN5uItrIyTdrv75LWKS+1TU2LAfZUjGNj46D1U1bLKdRcza6R4lfaJIzvnQ44atZ796ftVTM/T8zit40mdTjXb8ScX2Tnvqu6pW6UteIz4uA7s+aj4q35021vN2wPvVgEG5/0o0D0oPIzVA/F+srsPprwMRsv7qMeweCwF5sB7rHq32fLdY/Ud17ykW9ku3tBBd/Jd8sXA4zAKjAJbBebA20r0OAbVT3gchKuPeB5HoZdlyk/Ku496XhZlvEeBUaBTYA68TpkHXc/P9fUZf/VT34PKc1Xa+qmOPyuZw+4qCcdpFLiJAnPg3UTGARkFRoFRYBS4dwXmwLv3Cg2/UWAUGAVGgZsoMAfeTWQckFFgFBgFRoF7V2AOvHuv0PAbBUaBUWAUuIkCNzvw+A20t/gFB2LxiwD6RYt7uPiNRnjtfrORPC7RTLleYn+NLp7H/JLFNQqOzygwCtyjAu/ywENIXsz3cuDBS6MOins78Pj7dLtDDF11cO9sPeeZjwKjwChwzwq0B56/9PiJhfFeDhg4XsMH3+4vAfPPB12DrYKfHHjXNIb4XPsT3umBdw2vt/LhV/y7ur0Vj0eMwzPBe2D3Dd2JRupn8DRW32DRt7t4YFXPbHJXrA5PHJxTx4t42K560uN3/8oOeYLXPecZNzU74e98iHeCI9sqz5OY3g/k0OUoW+fomvEOgHeOmYfH3R54VfM4wP9zzqF1LUeEqwSigNXeSc7y6x6oE//ORrmumqTz0zoP1LU5rbDfYo96f/z48fmhe695vIVWt45B7/izpvm1PV7hJWfqrX7X/xG8i6U+0EuP/3eec0xMv6/4652QcfI94bw018VadRhoX7F4MQsvr4pL2pxodsKfg8Sfn8xRsbWfWiQn3Z/EdD/qJT1W77KdZo4Jj05/bF984Dl5JSCSebnACCvbihxFpTlWgtNkVczkUN0Tq/LXWvLTGry6XImzapYTzcBxvYidTUIe7KdmyRs7RvHRhZ6sJw6cNFLTzpZ9YXsOqalj7ubKU/4alZO+qus0j10dhN9pjWbkqRwTDxs47uqE3Yo/8ZKXfInfxe30Iu5qrLSA56W4p37Cla66NFb9KE0/fPjw3I9oc8qHeqBXxwtcuKQfugmn46h1DmRwdn7sa+y4ndgkf/dhjo1r1+WDj8aOF3iZq9srVtXHwkXjTjPnoDnxnH/a6P7FBx6gnghrjJDRyxFC2HvCstO+9rh0XzWR9sEAE5/TEf98CcPXcVU4HgzhUxC38bgvaRZwhJ3ctHatZnD2PIiV44q/9lRLb2bNtQY2Gu5qnnFX94pB7oqT2siXHLHTmuqsnxCyr5yv7IQJf92n1o6PnefpfMTV+/a0t0/4J7Z46ar6RevUxvn91+Psv+QoHL+kgTS8FFd+ro1jdvMuZ7eHp3Q4udCaWvI+8N4RTtpxn3roPrUAU5zg536+v+J8ohlYO/5VHLi5dq8R0zVSrOQqbuTRaVbxF+5JT73pgZfJefJVElrrmiuF6fx36ypq9eI7EU8FyQYn3iXN4k2GP3kLx6+uSdwGX3+wtM96Yrov846/NyO2GlmnxjxA3GN7UnNsfQSfnLpcLtFnp0OFlXG7PNPOc2GODTlpvYqJPWPlBw/HSnthX3MRz/WijvoO/ORZ8bjuq2ePr+yV9NnFQYOTPOmnjEmuPNfcJ6ZyEG/WuXeNxJ9cxQ1+WuNiTd+QiQtaaHQscKS321zLn/iM5OncFN9jaY4u+GnElz3u0QZb1slL+8lftuTaaQYeIxpmPPZ93B54mbDuIexANFAVFEIupnw9Mcfyeecrm1VMx1jNwXfeXSESZ8VfGu0e0BX/DvuEGzml3tlwmY/fd/zBSGz5OueOg9t4vN1ccfVAadRVadfFTOxTDpXW5M8zQEzvn4zX3eOLlnnf+ZG7vyy6enUYl6x7zsQm32viylfvETDEhdw9J+cojXbPExiO6xhw553GC9ptNE876pN26CK8iht88M974YGR/vLxd+0lmp3yJx/skwP7jCs79tCWnPHVqBy8vnkvm9Qo7x2PuWLtuGO7PfC65gGAkYQr+460iGbTUWiEY6wEXMWE18kozvDouLIOH0b8Ms7Ji2DFv9JGMaomOdWMh4uXdXL2+47/CkM8aDz0yrp1eXnsal75eTz5rLg5ZqWh7zOv7DIGecp2d4kvfeOj1nUl9gov66P4JxxWmN0evKo/T0keHYavi2f13KywstaOx/ySWshH8VQH9NcaufJixib5Ukt8lZOwvAaagyNs+OHj8XxN6/luONXslL9i6CKOuCvX3QW+82WNXCvNtMa7gRipj9ZzrdIMf43sy+/kuqsDTyKm8CTkApMYxTpNFr8cKZDGqjBwoKD4i1M+COxVOOwxrvh32NkQl2hGY4rb7ur4rzCcM5ppzS+38fXVHJ3UG9UXMbqYiX3KIbUWTuZPzF0PKuaut8Ein+Tt927L/KSujnE6Bz/5y/9US4/V+XQ9R5x8YTqm5vDc1cL9vMb453NOzcEVT2mRddI9GlW5gO9+1Zr40fPEPNEMrB3/zL/KxW18Tgx4cb+KiY3nLUzXXvenmjkfYe76wu3v5sCjwClcJ5aSwAfxPbFL5sQQThZBODS4Rr+6JsRnV4gV/6r4PHhohD/3cCOfbLBuHT8fq/jaJ2ZqnutdrJVmHt/n5J36E5P8894xfC4cXky+nvOqF8Tffckz9XCsjhe+1Kmzcyyfy0+5//rrr+03XrJHvxVHx63mlRbwrXDRmNo4Ztdbq97Q3u55Qs+Kj8f3uefV6QQuuYiL9wB45Kx94cpm9SW7TkNiykbXiWan/OELR2KwvhrJUaOuk5i//fbbUgdpJG2/++67rZ1zRaNL6n03B57EE3FvasSUIJ4oBemahf1LRopfxYKHC4v9a/2El8Xk/ptvvvnHxySXaIZeHWfXq3vAZJNNrzXVx2sH36yb7k/iO5eVT8aFm9dKeftvaaKD8yUvHuQqJ8XiBYYdeXo85878tE4n/MGkL6uexUYjvC/V3TGIJSwu5dRhak+8UmP5oj8HiNYqfOJozDr7HvPTWmCPLtQSXskZO3KHq/PvfImlEX7gsEfN4aH11BZ8jwkP8LDZ8Qd/1zfwYySeuHFdEhMfRuF4Pqz72GkmG+WdubpvNX/xgUdj8yLwkQJ2pEXYHxjEA0N7nz59erahqEriJGaV7GqNpusEZB9u4pP8aQhsfPTCnvJ3PHgppmOdakbu1MK5USeP5/uae0xhpR5eR+0Tx+um9dQMXt1IftKsuuDscVgjB7RL/6xDFcNtpMHnz5+f+xHNyLPy9XjkAaeut+Vzyh/MLj/ig7fjiH03guM5KP/qoj+yb7CFO1ga0RQb1dT3fQ4u+vuez8FM7rIBg3gaK16yBQfbCi+fAWwZ4eq9yh56wf2UW/I64V9xJ67nWumf8cT/JCZ5+qh+rPJ0m04z1nf+jqV5e+Cl4dyPAqPAfSnAi+bSh/6+shg2o8DbKTAH3ttpPZFGgZsqwHfq1XfdNw00YKPAv0SBOfD+JYWcNB5LAT7SeenHlI+l2mT76ArMgffoHTD5vysF+KlOf9Yyh927Kt2QvQMF5sC7gyIMhVFgFBgFRoHXV2AOvNfXeCKMAqPAKDAK3IECc+DdQRGGwigwCowCo8DrKzAH3utrPBFGgVFgFBgF7kCBiw48/UXE6u/8+B+k6w/Td38R9g7yHgqjwCgwCowCD6bAfwBFwX5FjbQnkwAAAABJRU5ErkJggg==)"
      ]
    },
    {
      "cell_type": "markdown",
      "metadata": {
        "id": "MkcGpJtPSQrt"
      },
      "source": [
        "I will decide to stick to my original architecture and take batch_size = 64 and lr = 0.01, with all other hyperparameters same as the original. This is because that model achieved the highest validation accuracy. "
      ]
    },
    {
      "cell_type": "markdown",
      "metadata": {
        "id": "ymCsZH291prI"
      },
      "source": [
        "## Part 4. Testing [12 pt]\n",
        "\n",
        "> Indented block\n",
        "\n",
        "\n",
        "\n",
        "### Part (a) [2 pt]\n",
        "\n",
        "Compute and report the test accuracy."
      ]
    },
    {
      "cell_type": "markdown",
      "metadata": {
        "id": "5DYhH9pyTiDz"
      },
      "source": [
        "I will use the same training and get_accuracy functions but insert test_loader rather than val_loader. \n"
      ]
    },
    {
      "cell_type": "code",
      "metadata": {
        "id": "0OkSbup91prJ",
        "outputId": "c31d58a7-3054-43a6-f35a-a3f32c60306d",
        "colab": {
          "base_uri": "https://localhost:8080/",
          "height": 1000
        }
      },
      "source": [
        "testcoder = AutoEncoder()\n",
        "\n",
        "train(testcoder, train_loader, test_loader, num_epochs = 30, learning_rate = 0.01)"
      ],
      "execution_count": null,
      "outputs": [
        {
          "output_type": "stream",
          "text": [
            "Training Started...\n",
            "This is epoch:0\n",
            "0 0.6094316807738815 0.6040807466898198\n",
            "This is epoch:1\n",
            "1 0.6167333271323597 0.6116055278199841\n",
            "This is epoch:2\n",
            "2 0.6043468824605464 0.60292308805441\n",
            "This is epoch:3\n",
            "3 0.6141521718909869 0.6109905216699226\n",
            "This is epoch:4\n",
            "4 0.6200585992000744 0.6155849793792055\n",
            "This is epoch:5\n",
            "5 0.619360989675379 0.6187685406265827\n",
            "This is epoch:6\n",
            "6 0.6051452578054755 0.6032848563779756\n",
            "This is epoch:7\n",
            "7 0.6157876786655505 0.6118949424788366\n",
            "This is epoch:8\n",
            "8 0.6086255542120113 0.6066493017871355\n",
            "This is epoch:9\n",
            "9 0.6147645180293306 0.6110990521669922\n",
            "This is epoch:10\n",
            "10 0.6228257836480328 0.6208306200709066\n",
            "This is epoch:11\n",
            "11 0.6153536105168511 0.6116055278199841\n",
            "This is epoch:12\n",
            "12 0.6042383654233715 0.6006077707835902\n",
            "This is epoch:13\n",
            "13 0.6091603881809444 0.6083134360755372\n",
            "This is epoch:14\n",
            "14 0.6229730567699129 0.6211923883944722\n",
            "This is epoch:15\n",
            "15 0.6233451151830838 0.621373272556255\n",
            "This is epoch:16\n",
            "16 0.6177099804669333 0.6151146805585703\n",
            "This is epoch:17\n",
            "17 0.6161674882956624 0.6125099486288981\n",
            "This is epoch:18\n",
            "18 0.6310498248224972 0.6262571449243904\n",
            "This is epoch:19\n",
            "19 0.6025951074318668 0.6021995514072788\n",
            "This is epoch:20\n",
            "20 0.6064242086007503 0.6056001736487953\n",
            "This is epoch:21\n",
            "21 0.622213437509689 0.6222053397004558\n",
            "This is epoch:22\n",
            "22 0.6233141103153195 0.6220606323710296\n",
            "This is epoch:23\n",
            "23 0.6197873066071373 0.6185876564648\n",
            "This is epoch:24\n",
            "24 0.6310033175208508 0.6280298097098618\n",
            "This is epoch:25\n",
            "25 0.6298018788949865 0.6282106938716446\n",
            "This is epoch:26\n",
            "26 0.6278873283105447 0.6241227118153534\n",
            "This is epoch:27\n",
            "27 0.6272362260874957 0.6269445047391651\n",
            "This is epoch:28\n",
            "28 0.6107493876538617 0.6092178568844512\n",
            "This is epoch:29\n",
            "29 0.6254922022757573 0.6228565226828738\n"
          ],
          "name": "stdout"
        },
        {
          "output_type": "display_data",
          "data": {
            "image/png": "[encoded data removed]",
            "text/plain": [
              "<Figure size 432x288 with 1 Axes>"
            ]
          },
          "metadata": {
            "tags": [],
            "needs_background": "light"
          }
        },
        {
          "output_type": "display_data",
          "data": {
            "image/png": "[encoded data removed]",
            "text/plain": [
              "<Figure size 432x288 with 1 Axes>"
            ]
          },
          "metadata": {
            "tags": [],
            "needs_background": "light"
          }
        },
        {
          "output_type": "stream",
          "text": [
            "Final Training Accuracy: 0.6254922022757573\n",
            "Final Validation Accuracy: 0.6228565226828738\n"
          ],
          "name": "stdout"
        },
        {
          "output_type": "execute_result",
          "data": {
            "text/plain": [
              "([0.6094316807738815,\n",
              "  0.6167333271323597,\n",
              "  0.6043468824605464,\n",
              "  0.6141521718909869,\n",
              "  0.6200585992000744,\n",
              "  0.619360989675379,\n",
              "  0.6051452578054755,\n",
              "  0.6157876786655505,\n",
              "  0.6086255542120113,\n",
              "  0.6147645180293306,\n",
              "  0.6228257836480328,\n",
              "  0.6153536105168511,\n",
              "  0.6042383654233715,\n",
              "  0.6091603881809444,\n",
              "  0.6229730567699129,\n",
              "  0.6233451151830838,\n",
              "  0.6177099804669333,\n",
              "  0.6161674882956624,\n",
              "  0.6310498248224972,\n",
              "  0.6025951074318668,\n",
              "  0.6064242086007503,\n",
              "  0.622213437509689,\n",
              "  0.6233141103153195,\n",
              "  0.6197873066071373,\n",
              "  0.6310033175208508,\n",
              "  0.6298018788949865,\n",
              "  0.6278873283105447,\n",
              "  0.6272362260874957,\n",
              "  0.6107493876538617,\n",
              "  0.6254922022757573],\n",
              " [0.6040807466898198,\n",
              "  0.6116055278199841,\n",
              "  0.60292308805441,\n",
              "  0.6109905216699226,\n",
              "  0.6155849793792055,\n",
              "  0.6187685406265827,\n",
              "  0.6032848563779756,\n",
              "  0.6118949424788366,\n",
              "  0.6066493017871355,\n",
              "  0.6110990521669922,\n",
              "  0.6208306200709066,\n",
              "  0.6116055278199841,\n",
              "  0.6006077707835902,\n",
              "  0.6083134360755372,\n",
              "  0.6211923883944722,\n",
              "  0.621373272556255,\n",
              "  0.6151146805585703,\n",
              "  0.6125099486288981,\n",
              "  0.6262571449243904,\n",
              "  0.6021995514072788,\n",
              "  0.6056001736487953,\n",
              "  0.6222053397004558,\n",
              "  0.6220606323710296,\n",
              "  0.6185876564648,\n",
              "  0.6280298097098618,\n",
              "  0.6282106938716446,\n",
              "  0.6241227118153534,\n",
              "  0.6269445047391651,\n",
              "  0.6092178568844512,\n",
              "  0.6228565226828738])"
            ]
          },
          "metadata": {
            "tags": []
          },
          "execution_count": 56
        }
      ]
    },
    {
      "cell_type": "markdown",
      "metadata": {
        "id": "UEe9yt6L1prM"
      },
      "source": [
        "### Part (b) [4 pt]\n",
        "\n",
        "Based on the test accuracy alone, it is difficult to assess whether our model\n",
        "is actually performing well. We don't know whether a high accuracy is due to\n",
        "the simplicity of the problem, or if a poor accuracy is a result of the inherent\n",
        "difficulty of the problem.\n",
        "\n",
        "It is therefore very important to be able to compare our model to at least one\n",
        "alternative. In particular, we consider a simple **baseline**\n",
        "model that is not very computationally expensive. Our neural network\n",
        "should at least outperform this baseline model. If our network is not much\n",
        "better than the baseline, then it is not doing well.\n",
        "\n",
        "For our data imputation problem, consider the following baseline model:\n",
        "to predict a missing feature, the baseline model will look at the **most common value** of the feature in the training set. \n",
        "\n",
        "For example, if the feature \"marriage\" is missing, then this model's prediction will be the most common value for \"marriage\" in the training set, which happens to be \"Married-civ-spouse\".\n",
        "\n",
        "What would be the test accuracy of this baseline model?\n"
      ]
    },
    {
      "cell_type": "code",
      "metadata": {
        "id": "p45VHp011prN"
      },
      "source": [
        "# Use cat_value indices and the one-hot to find the max. like sum it up and you'll find max out of the index range for each category\n",
        "# These max values are the ones you are plugging in\n",
        "# To compute the accuracy, "
      ],
      "execution_count": null,
      "outputs": []
    },
    {
      "cell_type": "markdown",
      "metadata": {
        "id": "Oh1KfPJ-tQ2b"
      },
      "source": [
        "\n",
        "\n",
        "```\n",
        "catcols = [\"work\", \"marriage\", \"occupation\", \"edu\", \"relationship\", \"sex\"]\n",
        "```\n",
        "\n"
      ]
    },
    {
      "cell_type": "code",
      "metadata": {
        "id": "PfujpW_lbosX"
      },
      "source": [
        "## To obtain the index of the max value in each feature:\n",
        "def find_max_feature(df, feature): ## df is datanp\n",
        "    start_index = cat_index[feature]\n",
        "    stop_index = cat_index[feature] + len(cat_values[feature])\n",
        "    hot1 = df.sum(axis=0)[start_index:stop_index]  ## axis = 0 to get the columns to add up, so you just get a single onehot of all the columns summed together\n",
        "    onehot_max_index = np.argmax(hot1)  ## find the max value in the onehot array and note down it's index\n",
        "    return start_index + onehot_max_index #return the index of the most common value      \n",
        "\n",
        "## To test our accuracy, we change all the values of the columns found by the \"find_max_feature\" to the most common value:\n",
        "### We will use a method similar to \"zero_out_feature\" sample code\n",
        "def change_max_values(records, feature, index):\n",
        "    start_index = cat_index[feature]\n",
        "    stop_index = cat_index[feature] + len(cat_values[feature])\n",
        "    records[:, start_index:stop_index] = 0  ## to set all to 0, thereby leaving no chance of array summing greater than 1\n",
        "    records[:,index] = 1 ## set them positive for most common value\n",
        "    return records\n",
        "\n",
        "## The accuracy function, we will be comparing the original values to the ones created by \"change_max_values\":\n",
        "def secure_base_accuracy(max_feature, data_loader):\n",
        "    total = 0\n",
        "    acc = 0\n",
        "    for col in catcols:\n",
        "        for item in data_loader: # minibatches\n",
        "            inp = item.detach().numpy()\n",
        "            out = change_max_values(inp.copy(), col, max_feature)\n",
        "            for i in range(out.shape[0]): # record in minibatch\n",
        "                acc += int(get_feature(out[i], col) == get_feature(inp[i], col))\n",
        "                total += 1\n",
        "    return acc / total"
      ],
      "execution_count": null,
      "outputs": []
    },
    {
      "cell_type": "code",
      "metadata": {
        "id": "WfKpWOd7siAt",
        "outputId": "6b5c38ee-3a5e-47d9-a809-818efd67af65",
        "colab": {
          "base_uri": "https://localhost:8080/",
          "height": 34
        }
      },
      "source": [
        "# I will test the accuracy with one randomly selected feature from catcols:\n",
        "aa = find_max_feature(datanp, \"marriage\")\n",
        "print(aa)"
      ],
      "execution_count": null,
      "outputs": [
        {
          "output_type": "stream",
          "text": [
            "14\n"
          ],
          "name": "stdout"
        }
      ]
    },
    {
      "cell_type": "code",
      "metadata": {
        "id": "TTZVD0VdujYL",
        "outputId": "8ee0dea3-90e7-427f-9b4e-a8f9f3595c40",
        "colab": {
          "base_uri": "https://localhost:8080/",
          "height": 34
        }
      },
      "source": [
        "secure_base_accuracy(aa, train_loader)"
      ],
      "execution_count": null,
      "outputs": [
        {
          "output_type": "execute_result",
          "data": {
            "text/plain": [
              "0.23086224537252348"
            ]
          },
          "metadata": {
            "tags": []
          },
          "execution_count": 116
        }
      ]
    },
    {
      "cell_type": "markdown",
      "metadata": {
        "id": "QlHu0wxh1prP"
      },
      "source": [
        "### Part (c) [1 pt]\n",
        "\n",
        "How does your test accuracy from part (a) compared to your basline test accuracy in part (b)?"
      ]
    },
    {
      "cell_type": "markdown",
      "metadata": {
        "id": "w9uDp9YMvEbC"
      },
      "source": [
        "**My baseline test accuracy was only 23%, this is durastically lower than my test accuracy of around 62%. **"
      ]
    },
    {
      "cell_type": "markdown",
      "metadata": {
        "id": "DfQPgu1Q1prS"
      },
      "source": [
        "### Part (d) [1 pt]\n",
        "\n",
        "Look at the first item in your test data. \n",
        "Do you think it is reasonable for a human\n",
        "to be able to guess this person's education level\n",
        "based on their other features? Explain."
      ]
    },
    {
      "cell_type": "code",
      "metadata": {
        "id": "-Isz-laWwY82",
        "outputId": "e75c0aff-ffd3-4f12-a6d8-70413e4083db",
        "colab": {
          "base_uri": "https://localhost:8080/",
          "height": 136
        }
      },
      "source": [
        "# Take a subset of the original data, in this case the first row...\n",
        "subset = torch.utils.data.Subset(test_data, [0])\n",
        "testloader_subset = torch.utils.data.DataLoader(subset, batch_size=1, num_workers=0, shuffle=False) # load it\n",
        "first_row = iter(testloader_subset) # present it\n",
        "print(next(first_row))"
      ],
      "execution_count": null,
      "outputs": [
        {
          "output_type": "stream",
          "text": [
            "tensor([[0.1889, 0.4375, 0.0000, 0.0000, 0.1616, 0.0000, 0.0000, 1.0000, 0.0000,\n",
            "         0.0000, 0.0000, 0.0000, 0.0000, 0.0000, 0.0000, 0.0000, 1.0000, 0.0000,\n",
            "         0.0000, 0.0000, 0.0000, 0.0000, 0.0000, 0.0000, 0.0000, 0.0000, 0.0000,\n",
            "         0.0000, 0.0000, 0.0000, 0.0000, 0.0000, 1.0000, 0.0000, 1.0000, 0.0000,\n",
            "         0.0000, 0.0000, 0.0000, 0.0000, 0.0000, 0.0000, 0.0000, 0.0000, 0.0000,\n",
            "         0.0000, 0.0000, 0.0000, 0.0000, 0.0000, 0.0000, 0.0000, 1.0000, 0.0000,\n",
            "         0.0000, 1.0000, 0.0000]])\n"
          ],
          "name": "stdout"
        }
      ]
    },
    {
      "cell_type": "markdown",
      "metadata": {
        "id": "Gw0l_CMhwyxB"
      },
      "source": [
        "Looking at the max values, I can tell that this person is Young, mid 20s, half of the max amount of education years so like 8 years, works 16 hours per week, private work, never married, works in transport moving, education 11th grade, female, owns a child...\n",
        "\n",
        "I don't think its very ethical for one to assume another's education level based on their other features. Individuals are unique and their life situations are also unique. They could be in jail and still earn a law degree while in there. Thus, I think it's unreasonable for a human to be able to guess because there is always bias involved, where the norm will influence judgement and produce possibly false results. \n"
      ]
    },
    {
      "cell_type": "markdown",
      "metadata": {
        "id": "p_d5uuAY1prZ"
      },
      "source": [
        "### Part (e) [2 pt]\n",
        "\n",
        "What is your model's prediction of this person's education\n",
        "level, given their other features?\n"
      ]
    },
    {
      "cell_type": "code",
      "metadata": {
        "id": "kBY5gKXR1pra"
      },
      "source": [
        "## We will be using testloader_subset and plugging that into our model soon after training it. \n",
        "batch_size = 64\n",
        "train_loader = torch.utils.data.DataLoader(train_data, batch_size = batch_size, num_workers = 1)\n",
        "val_loader = torch.utils.data.DataLoader(val_data, batch_size = batch_size, num_workers = 1)\n",
        "testloader_subset = torch.utils.data.DataLoader(subset, batch_size=1, num_workers=0, shuffle=False) # load it\n",
        "\n",
        "final1 = AutoEncoder()\n",
        "\n",
        "train(final1, train_loader, val_loader, num_epochs = 30, learning_rate = 0.01)"
      ],
      "execution_count": null,
      "outputs": []
    },
    {
      "cell_type": "code",
      "metadata": {
        "id": "8CzQfhU74XYo",
        "outputId": "a0b8be69-6c57-4807-89c3-c5b0f3b5e0e4",
        "colab": {
          "base_uri": "https://localhost:8080/",
          "height": 187
        }
      },
      "source": [
        "first_row1 = next(iter(testloader_subset)) # present it\n",
        "final1(first_row1)"
      ],
      "execution_count": null,
      "outputs": [
        {
          "output_type": "execute_result",
          "data": {
            "text/plain": [
              "tensor([[1.8549e-01, 3.7353e-01, 2.3377e-11, 5.2568e-08, 1.7166e-01, 9.7203e-23,\n",
              "         4.5573e-07, 9.8639e-01, 8.3417e-09, 1.9532e-12, 4.1182e-15, 3.4511e-09,\n",
              "         5.1277e-05, 1.3695e-05, 9.4233e-16, 1.9151e-05, 1.0000e+00, 3.4122e-15,\n",
              "         6.2547e-18, 2.7663e-13, 4.5139e-06, 3.2590e-21, 2.7853e-08, 9.0616e-08,\n",
              "         6.2613e-08, 9.0297e-07, 3.9224e-08, 1.5531e-08, 9.2352e-03, 8.2956e-05,\n",
              "         3.2704e-04, 4.9260e-16, 1.0000e+00, 1.3178e-19, 1.0000e+00, 2.3841e-05,\n",
              "         8.8834e-04, 4.1180e-03, 9.5480e-01, 3.2356e-05, 1.5534e-10, 9.7699e-23,\n",
              "         4.3118e-11, 3.0650e-07, 6.0592e-04, 1.2819e-17, 2.5921e-04, 6.4772e-07,\n",
              "         1.6157e-03, 1.6218e-26, 3.8369e-03, 6.9938e-06, 1.0000e+00, 2.3883e-03,\n",
              "         6.3355e-08, 9.9700e-01, 2.9761e-03]], grad_fn=<SigmoidBackward>)"
            ]
          },
          "metadata": {
            "tags": []
          },
          "execution_count": 128
        }
      ]
    },
    {
      "cell_type": "markdown",
      "metadata": {
        "id": "bg4XY9hu2uxI"
      },
      "source": [
        "The model's prediction is: index 35 which is 11th grade and is accurate as this individual is indeed in 11th grade.. "
      ]
    },
    {
      "cell_type": "markdown",
      "metadata": {
        "id": "fdLNA0ce1prd"
      },
      "source": [
        "### Part (f) [2 pt]\n",
        "\n",
        "What is the baseline model's prediction\n",
        "of this person's education level?"
      ]
    },
    {
      "cell_type": "code",
      "metadata": {
        "id": "TXgoM9qk1prd",
        "outputId": "84b17f98-06e6-4284-b625-5326aec11c5c",
        "colab": {
          "base_uri": "https://localhost:8080/",
          "height": 34
        }
      },
      "source": [
        "aaa = find_max_feature(datanp, \"edu\")\n",
        "print(aaa)"
      ],
      "execution_count": null,
      "outputs": [
        {
          "output_type": "stream",
          "text": [
            "44\n"
          ],
          "name": "stdout"
        }
      ]
    },
    {
      "cell_type": "markdown",
      "metadata": {
        "id": "00oPyfJ91nwC"
      },
      "source": [
        "Index 44 refers to Doctorate Degree in Education. "
      ]
    }
  ]
}