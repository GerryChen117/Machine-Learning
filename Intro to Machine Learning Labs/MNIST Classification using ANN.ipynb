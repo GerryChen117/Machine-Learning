{
  "nbformat": 4,
  "nbformat_minor": 0,
  "metadata": {
    "colab": {
      "name": "Lab_1_PyTorch_and_ANNs.ipynb",
      "provenance": [],
      "collapsed_sections": []
    },
    "kernelspec": {
      "display_name": "Python 3",
      "language": "python",
      "name": "python3"
    },
    "language_info": {
      "codemirror_mode": {
        "name": "ipython",
        "version": 3
      },
      "file_extension": ".py",
      "mimetype": "text/x-python",
      "name": "python",
      "nbconvert_exporter": "python",
      "pygments_lexer": "ipython3",
      "version": "3.7.4"
    }
  },
  "cells": [
    {
      "cell_type": "markdown",
      "metadata": {
        "id": "3sxa8YxCbzGL"
      },
      "source": [
        "# Lab 1. PyTorch and ANNs\n",
        "\n",
        "**Deadline**: Thursday, May 21, 11:59pm.\n",
        "\n",
        "**Total**: 30 Points\n",
        "\n",
        "**Late Penalty**: There is a penalty-free grace period of one hour past the deadline. Any work that is submitted between 1 hour and 24 hours past the deadline will receive a 20% grade deduction. No other late work is accepted. Quercus submission time will be used, not your local computer time. You can submit your labs as many times as you want before the deadline, so please submit often and early.\n",
        "\n",
        "**Grading TA**: Justin Beland\n",
        "\n",
        "This lab is partially based on an assignment developed by Prof. Jonathan Rose and Harris Chan.\n",
        "\n",
        "This lab is a warm up to get you used to the PyTorch programming environment used\n",
        "in the course, and also to help you review and renew your knowledge\n",
        "of Python and relevant Python libraries.\n",
        "The lab must be done individually. Please recall that the\n",
        "University of Toronto plagarism rules apply.\n",
        "\n",
        "By the end of this lab, you should be able to:\n",
        "\n",
        "1. Be able to perform basic PyTorch tensor operations.\n",
        "2. Be able to load data into PyTorch\n",
        "3. Be able to configure an Artificial Neural Network (ANN) using PyTorch\n",
        "4. Be able to train ANNs using PyTorch\n",
        "5. Be able to evaluate different ANN configuations\n",
        "\n",
        "You will need to use numpy and PyTorch documentations for this assignment:\n",
        "\n",
        "* https://docs.scipy.org/doc/numpy/reference/\n",
        "* https://pytorch.org/docs/stable/torch.html\n",
        "\n",
        "You can also reference Python API documentations freely.\n",
        "\n",
        "\n",
        "### What to submit\n",
        "\n",
        "Submit a PDF file containing all your code, outputs, and write-up\n",
        "from parts 1-5. You can produce a PDF of your Google Colab file by\n",
        "going to **File > Print** and then save as PDF. The Colab instructions\n",
        "has more information.\n",
        "\n",
        "**Do not submit any other files produced by your code.**\n",
        "\n",
        "Include a link to your colab file in your submission.\n",
        "\n",
        "Please use Google Colab to complete this assignment. If you want to use Jupyter Notebook, please complete the assignment and upload your Jupyter Notebook file to Google Colab for submission. \n",
        "\n",
        "With Colab, you can export a PDF file using the menu option\n",
        "`File -> Print` and save as PDF file."
      ]
    },
    {
      "cell_type": "markdown",
      "metadata": {
        "id": "_TlLBrWBIGt0"
      },
      "source": [
        "## Colab Link\n",
        "\n",
        "Submit make sure to include a link to your colab file here\n",
        "\n",
        "Colab Link: https://drive.google.com/file/d/1YQC6tmoS_Ck_uFlZP_tnwRCephv-zL2z/view?usp=sharing"
      ]
    },
    {
      "cell_type": "markdown",
      "metadata": {
        "id": "mALD3Y2bbzGT"
      },
      "source": [
        "## Part 1. Python Basics [3 pt]\n",
        "\n",
        "The purpose of this section is to get you used to the \n",
        "basics of Python, including working with functions, numbers,\n",
        "lists, and strings.\n",
        "\n",
        "Note that we **will** be checking your code for clarity and efficiency.\n",
        "\n",
        "If you have trouble with this part of the assignment, please review http://cs231n.github.io/python-numpy-tutorial/"
      ]
    },
    {
      "cell_type": "markdown",
      "metadata": {
        "id": "7gimRTE9bzGa"
      },
      "source": [
        "### Part (a) -- 1pt\n",
        "\n",
        "Write a function `sum_of_cubes` that computes the sum of cubes up to `n`. If the input to `sum_of_cubes` invalid (e.g. negative or non-integer `n`), the function should print out `\"Invalid input\"` and return `-1`."
      ]
    },
    {
      "cell_type": "code",
      "metadata": {
        "id": "fifG_Wv6bzGf",
        "outputId": "361c57cb-91d1-4fad-9c9c-36687b8ff996",
        "colab": {
          "base_uri": "https://localhost:8080/",
          "height": 153
        }
      },
      "source": [
        "def sum_of_cubes(n):\n",
        "    \"\"\"Return the sum (1^3 + 2^3 + 3^3 + ... + n^3)\n",
        "\n",
        "    Precondition: n > 0, type(n) == int\n",
        "    \n",
        "    >>> sum_of_cubes(3)\n",
        "    36\n",
        "    >>> sum_of_cubes(1)\n",
        "    1\n",
        "    \"\"\"\n",
        "    if n>0 and type(n) == int:\n",
        "        sum = 0\n",
        "        for i in range(1,n+1,1):\n",
        "          print(sum)\n",
        "          sum += i**3\n",
        "        return sum\n",
        "    else: \n",
        "      print(\"Invalid input\")\n",
        "      return -1\n",
        "\n",
        "print(sum_of_cubes(3))\n",
        "print(sum_of_cubes(1))\n",
        "print(sum_of_cubes(-1))\n"
      ],
      "execution_count": null,
      "outputs": [
        {
          "output_type": "stream",
          "text": [
            "0\n",
            "1\n",
            "9\n",
            "36\n",
            "0\n",
            "1\n",
            "Invalid input\n",
            "-1\n"
          ],
          "name": "stdout"
        }
      ]
    },
    {
      "cell_type": "markdown",
      "metadata": {
        "id": "bOxDP8AlbzG2"
      },
      "source": [
        "### Part (b) -- 1pt\n",
        "\n",
        "Write a function `word_lengths` that takes a sentence (string), computes the length of each word in that sentence, and returns the length of each word in a list. You can\n",
        "assume that words are always separated by a space character `\" \"`.\n",
        "\n",
        "Hint: recall the `str.split` function in Python.\n",
        "If you arenot sure how this function works, try\n",
        "typing `help(str.split)` into a Python shell, or check out https://docs.python.org/3.6/library/stdtypes.html#str.split"
      ]
    },
    {
      "cell_type": "code",
      "metadata": {
        "id": "H84jlGrVbzG5",
        "outputId": "3ff3342d-e812-4b86-fe89-f80f0c1be51d",
        "colab": {
          "base_uri": "https://localhost:8080/",
          "height": 204
        }
      },
      "source": [
        "help(str.split)"
      ],
      "execution_count": null,
      "outputs": [
        {
          "output_type": "stream",
          "text": [
            "Help on method_descriptor:\n",
            "\n",
            "split(...)\n",
            "    S.split(sep=None, maxsplit=-1) -> list of strings\n",
            "    \n",
            "    Return a list of the words in S, using sep as the\n",
            "    delimiter string.  If maxsplit is given, at most maxsplit\n",
            "    splits are done. If sep is not specified or is None, any\n",
            "    whitespace string is a separator and empty strings are\n",
            "    removed from the result.\n",
            "\n"
          ],
          "name": "stdout"
        }
      ]
    },
    {
      "cell_type": "code",
      "metadata": {
        "id": "w1lbnwgsbzHG",
        "outputId": "0eb27f74-edbf-492d-bb28-215b621836be",
        "colab": {
          "base_uri": "https://localhost:8080/",
          "height": 51
        }
      },
      "source": [
        "def word_lengths(sentence):\n",
        "    \"\"\"Return a list containing the length of each word in\n",
        "    sentence.\n",
        "    \n",
        "    >>> word_lengths(\"welcome to APS360!\")\n",
        "    [7, 2, 7]\n",
        "    >>> word_lengths(\"machine learning is so cool\")\n",
        "    [7, 8, 2, 2, 4]\n",
        "    \"\"\"\n",
        "    sep = sentence.split(\" \")\n",
        "    leng = []\n",
        "    for i in range(len(sep)):\n",
        "        leng += [len(sep[i])]\n",
        "      \n",
        "    return leng\n",
        "  \n",
        "print(word_lengths(\"welcome to APS360!\"))\n",
        "print(word_lengths(\"machine learning is so cool\"))"
      ],
      "execution_count": null,
      "outputs": [
        {
          "output_type": "stream",
          "text": [
            "[7, 2, 7]\n",
            "[7, 8, 2, 2, 4]\n"
          ],
          "name": "stdout"
        }
      ]
    },
    {
      "cell_type": "markdown",
      "metadata": {
        "id": "iCsnzu4NIGuD"
      },
      "source": [
        "### Part (c) -- 1pt\n",
        "\n",
        "Write a function `all_same_length` that takes a sentence (string),\n",
        "and checks whether every word in the string is the same length.\n",
        "You should call the function `word_lengths` in the body\n",
        "of this new function.\n"
      ]
    },
    {
      "cell_type": "code",
      "metadata": {
        "id": "Z-7qytZEIGuE",
        "outputId": "3b48779f-8d07-40dc-b60f-0a876a8009a7",
        "colab": {
          "base_uri": "https://localhost:8080/",
          "height": 68
        }
      },
      "source": [
        "def all_same_length(sentence):\n",
        "    \"\"\"Return True if every word in sentence has the same\n",
        "    length, and False otherwise.\n",
        "    \n",
        "    >>> all_same_length(\"all same length\")\n",
        "    False\n",
        "    >>> word_lengths(\"hello world\")\n",
        "    True\n",
        "    \"\"\"\n",
        "    leng = word_lengths(sentence)\n",
        "    \n",
        "    if len(set(leng)) == 1:\n",
        "      return True\n",
        "    else:\n",
        "      return False\n",
        "\n",
        "print(all_same_length(\"all same length\"))\n",
        "print(all_same_length(\"hello world\"))\n",
        "print(all_same_length(\"hi there\"))"
      ],
      "execution_count": null,
      "outputs": [
        {
          "output_type": "stream",
          "text": [
            "False\n",
            "True\n",
            "False\n"
          ],
          "name": "stdout"
        }
      ]
    },
    {
      "cell_type": "markdown",
      "metadata": {
        "id": "yUh1MySTbzHT"
      },
      "source": [
        "## Part 2. NumPy Exercises [5 pt]\n",
        "\n",
        "In this part of the assignment, you'll be manipulating arrays \n",
        "usign NumPy. Normally, we use the shorter name `np` to represent\n",
        "the package `numpy`."
      ]
    },
    {
      "cell_type": "code",
      "metadata": {
        "id": "H2opcxqMbzHW"
      },
      "source": [
        "import numpy as np"
      ],
      "execution_count": null,
      "outputs": []
    },
    {
      "cell_type": "markdown",
      "metadata": {
        "id": "Ek29jdqPbzHf"
      },
      "source": [
        "### Part (a) -- 1pt\n",
        "\n",
        "The below variables `matrix` and `vector` are numpy arrays. Explain what you think `<NumpyArray>.size` and `<NumpyArray>.shape` represent."
      ]
    },
    {
      "cell_type": "code",
      "metadata": {
        "id": "Z6eniOV2bzHi"
      },
      "source": [
        "matrix = np.array([[1., 2., 3., 0.5],\n",
        "                   [4., 5., 0., 0.],\n",
        "                   [-1., -2., 1., 1.]])\n",
        "vector = np.array([2., 0., 1., -2.])"
      ],
      "execution_count": null,
      "outputs": []
    },
    {
      "cell_type": "code",
      "metadata": {
        "id": "JMIy15dKIGuP",
        "outputId": "261c088b-c34c-4d91-e7cf-d25d8c46a0a7",
        "colab": {
          "base_uri": "https://localhost:8080/",
          "height": 34
        }
      },
      "source": [
        "matrix.size"
      ],
      "execution_count": null,
      "outputs": [
        {
          "output_type": "execute_result",
          "data": {
            "text/plain": [
              "12"
            ]
          },
          "metadata": {
            "tags": []
          },
          "execution_count": 75
        }
      ]
    },
    {
      "cell_type": "code",
      "metadata": {
        "id": "QoHaPzDNbzHo",
        "scrolled": true,
        "outputId": "a818bd9f-4326-4eb1-f4c3-1b8bdded3af7",
        "colab": {
          "base_uri": "https://localhost:8080/",
          "height": 34
        }
      },
      "source": [
        "matrix.shape"
      ],
      "execution_count": null,
      "outputs": [
        {
          "output_type": "execute_result",
          "data": {
            "text/plain": [
              "(3, 4)"
            ]
          },
          "metadata": {
            "tags": []
          },
          "execution_count": 76
        }
      ]
    },
    {
      "cell_type": "code",
      "metadata": {
        "id": "dErt6w25bzHu",
        "outputId": "f7ef7edb-50c6-4df7-f9ce-312a2f845dc0",
        "colab": {
          "base_uri": "https://localhost:8080/",
          "height": 34
        }
      },
      "source": [
        "vector.size"
      ],
      "execution_count": null,
      "outputs": [
        {
          "output_type": "execute_result",
          "data": {
            "text/plain": [
              "4"
            ]
          },
          "metadata": {
            "tags": []
          },
          "execution_count": 77
        }
      ]
    },
    {
      "cell_type": "code",
      "metadata": {
        "id": "TXhHCchIIGua",
        "outputId": "cce7cef8-83f6-4aff-eb5d-951ac388d75f",
        "colab": {
          "base_uri": "https://localhost:8080/",
          "height": 34
        }
      },
      "source": [
        "vector.shape"
      ],
      "execution_count": null,
      "outputs": [
        {
          "output_type": "execute_result",
          "data": {
            "text/plain": [
              "(4,)"
            ]
          },
          "metadata": {
            "tags": []
          },
          "execution_count": 78
        }
      ]
    },
    {
      "cell_type": "code",
      "metadata": {
        "id": "Yz722rwtxa9d",
        "outputId": "811713b8-2407-4919-a3be-d7650367a996",
        "colab": {
          "base_uri": "https://localhost:8080/",
          "height": 136
        }
      },
      "source": [
        "print(matrix.shape[0])\n",
        "print(vector.shape[0])\n",
        "print(type(float(matrix[0][1])))\n",
        "print(matrix)\n",
        "print(vector)"
      ],
      "execution_count": null,
      "outputs": [
        {
          "output_type": "stream",
          "text": [
            "3\n",
            "4\n",
            "<class 'float'>\n",
            "[[ 1.   2.   3.   0.5]\n",
            " [ 4.   5.   0.   0. ]\n",
            " [-1.  -2.   1.   1. ]]\n",
            "[ 2.  0.  1. -2.]\n"
          ],
          "name": "stdout"
        }
      ]
    },
    {
      "cell_type": "markdown",
      "metadata": {
        "id": "5tUbTvzDt7Q4"
      },
      "source": [
        "**Answer:** The size of the array refers to how many elements in total there are in the numpy array. It is determined by the shape of the numpy array. The shape basically tells you the number of rows to columns (rows, columns) and the size is equal to rows * columns. "
      ]
    },
    {
      "cell_type": "markdown",
      "metadata": {
        "id": "9PQ-pRIlbzH8"
      },
      "source": [
        "### Part (b) -- 1pt\n",
        "\n",
        "Perform matrix multiplication `output = matrix x vector` by using\n",
        "for loops to iterate through the columns and rows.\n",
        "Do not use any builtin NumPy functions.\n",
        "Cast your output into a NumPy array, if it isn't one already.\n",
        "\n",
        "Hint: be mindful of the dimension of output"
      ]
    },
    {
      "cell_type": "code",
      "metadata": {
        "id": "SXnZFii2bzH-",
        "outputId": "387acff5-5893-442f-ad4e-b9e00c6edac3",
        "colab": {
          "base_uri": "https://localhost:8080/",
          "height": 34
        }
      },
      "source": [
        "\n",
        "# Matrix multiplication is taking the rows of the first matrix and multiplying that by the columns of the second. \n",
        "def mm(matrix, vector):\n",
        "  mx = matrix.shape[0]\n",
        "  my = matrix.shape[1]\n",
        "  vx = vector.shape[0]\n",
        "  vy = 1\n",
        "  output = np.zeros((1, 3), dtype = float)\n",
        "  \n",
        "  for i in range(int(mx)):\n",
        "    sum = 0\n",
        "    for j in range(int(my)):\n",
        "      sum += matrix[i][j] * vector[j]\n",
        "    output[0][i] = sum\n",
        "  return output #it originally gave a 3 by 1 but the format was like 3 rows to 1 column so I reshaped it\n",
        "\n",
        "print(mm(matrix, vector))\n"
      ],
      "execution_count": null,
      "outputs": [
        {
          "output_type": "stream",
          "text": [
            "[[ 4.  8. -3.]]\n"
          ],
          "name": "stdout"
        }
      ]
    },
    {
      "cell_type": "markdown",
      "metadata": {
        "id": "O5UhbilNbzIP"
      },
      "source": [
        "### Part (c) -- 1pt\n",
        "\n",
        "Perform matrix multiplication `output2 = matrix x vector` by using\n",
        "the function `numpy.dot`.\n",
        "\n",
        "We will never actually write code as in\n",
        "part(c), not only because `numpy.dot` is more concise and easier to read/write, but also performance-wise `numpy.dot` is much faster (it is written in C and highly optimized).\n",
        "In general, we will avoid for loops in our code."
      ]
    },
    {
      "cell_type": "code",
      "metadata": {
        "id": "e8dLVrMEbzIR"
      },
      "source": [
        "output2 = np.dot(matrix,vector)"
      ],
      "execution_count": null,
      "outputs": []
    },
    {
      "cell_type": "code",
      "metadata": {
        "id": "X1LqY1eKbzIV",
        "outputId": "a869adb4-2e2e-4f27-8b35-a7495b348145",
        "colab": {
          "base_uri": "https://localhost:8080/",
          "height": 34
        }
      },
      "source": [
        "print(output2)"
      ],
      "execution_count": null,
      "outputs": [
        {
          "output_type": "stream",
          "text": [
            "[ 4.  8. -3.]\n"
          ],
          "name": "stdout"
        }
      ]
    },
    {
      "cell_type": "markdown",
      "metadata": {
        "id": "77XioX6vbzIb"
      },
      "source": [
        "### Part (d) -- 1pt\n",
        "\n",
        "As a way to test for consistency, show that the two outputs match."
      ]
    },
    {
      "cell_type": "code",
      "metadata": {
        "id": "1Vc-Nvf0bzIc",
        "outputId": "ad2e5d67-834d-4f6a-9249-581d97f64ed9",
        "colab": {
          "base_uri": "https://localhost:8080/",
          "height": 34
        }
      },
      "source": [
        "# or even just subtract them?\n",
        "a = mm(matrix, vector)\n",
        "b = output2\n",
        "print(a-b)\n",
        "\n",
        "#They match cuz their subtractions results in the zero vector, meaning they the same vector to begin with. "
      ],
      "execution_count": null,
      "outputs": [
        {
          "output_type": "stream",
          "text": [
            "[[0. 0. 0.]]\n"
          ],
          "name": "stdout"
        }
      ]
    },
    {
      "cell_type": "markdown",
      "metadata": {
        "id": "wjEGmk8oIGur"
      },
      "source": [
        "### Part (e) -- 1pt\n",
        "\n",
        "Show that using `np.dot` is faster than using your code from part (c).\n",
        "\n",
        "You may find the below code snippit helpful:"
      ]
    },
    {
      "cell_type": "code",
      "metadata": {
        "id": "XlnE0XO8IGur",
        "outputId": "e2d645bf-cd9f-4be5-e65a-4d0f31e9036c",
        "colab": {
          "base_uri": "https://localhost:8080/",
          "height": 51
        }
      },
      "source": [
        "import time\n",
        "\n",
        "# record the time before running code\n",
        "start_time = time.time()\n",
        "\n",
        "# place code to run here\n",
        "output2 = np.dot(matrix,vector)\n",
        "    \n",
        "# record the time after the code is run\n",
        "end_time = time.time()\n",
        "\n",
        "# compute the difference\n",
        "diff = end_time - start_time\n",
        "print(\".dot time:\", diff, output2)\n",
        "\n",
        "start = time.time()\n",
        "bb= mm(matrix,vector)\n",
        "end = time.time()\n",
        "dif = end - start\n",
        "print(\".forloop time:\", dif, bb)\n",
        "\n",
        "# We see that forloop speed is usually slower than the .dot speed.\n",
        "# Although the time difference ain't intense now, when dealing with more values in\n",
        "# the for loop, the time will explode more for the for-loop method and be too slow. "
      ],
      "execution_count": null,
      "outputs": [
        {
          "output_type": "stream",
          "text": [
            ".dot time: 5.245208740234375e-05 [ 4.  8. -3.]\n",
            ".forloop time: 6.651878356933594e-05 [[ 4.  8. -3.]]\n"
          ],
          "name": "stdout"
        }
      ]
    },
    {
      "cell_type": "markdown",
      "metadata": {
        "id": "LbKJjoHHbzI4"
      },
      "source": [
        "## Part 3. Images [6 pt]\n",
        "\n",
        "A picture or image can be represented as a NumPy array of “pixels”, \n",
        "with dimensions H × W × C, where H is the height of the image, W is the width of the image,\n",
        "and C is the number of colour channels. Typically we will use an image with channels that give the the Red, Green, and Blue “level” of each pixel, which is referred to with the short form RGB.\n",
        "\n",
        "You will write Python code to load an image, and perform several array manipulations to the image and visualize their effects. "
      ]
    },
    {
      "cell_type": "code",
      "metadata": {
        "id": "FRGQKpEgbzI4"
      },
      "source": [
        "import matplotlib.pyplot as plt"
      ],
      "execution_count": null,
      "outputs": []
    },
    {
      "cell_type": "markdown",
      "metadata": {
        "id": "p1D5mtCubzI6"
      },
      "source": [
        "### Part (a) -- 1 pt\n",
        "\n",
        "This is a photograph of a dog whose name is Mochi.\n",
        "\n",
        "![alt text](https://drive.google.com/uc?export=view&id=1oaLVR2hr1_qzpKQ47i9rVUIklwbDcews)\n",
        "\n",
        "Load the image from its url (https://drive.google.com/uc?export=view&id=1oaLVR2hr1_qzpKQ47i9rVUIklwbDcews) into the variable `img` using the `plt.imread` function.\n",
        "\n",
        "Hint: You can enter the URL directly into the `plt.imread` function as a Python string."
      ]
    },
    {
      "cell_type": "code",
      "metadata": {
        "id": "RB8lf73vbzI7"
      },
      "source": [
        "img = plt.imread(\"https://drive.google.com/uc?export=view&id=1oaLVR2hr1_qzpKQ47i9rVUIklwbDcews\")\n"
      ],
      "execution_count": null,
      "outputs": []
    },
    {
      "cell_type": "markdown",
      "metadata": {
        "id": "mNli5OsbbzI9"
      },
      "source": [
        "### Part (b) -- 1pt\n",
        "\n",
        "Use the function `plt.imshow` to visualize `img`. \n",
        "\n",
        "This function will also show the coordinate system used to identify pixels.\n",
        "The origin is at the top left corner, and the first dimension indicates the Y (row) direction, \n",
        "and the second dimension indicates the X (column) dimension."
      ]
    },
    {
      "cell_type": "code",
      "metadata": {
        "id": "lEeHKc_abzI9",
        "scrolled": false,
        "outputId": "da26dc9b-05e3-46ed-a1f6-b2e67347aa43",
        "colab": {
          "base_uri": "https://localhost:8080/",
          "height": 286
        }
      },
      "source": [
        "plt.imshow(img)"
      ],
      "execution_count": null,
      "outputs": [
        {
          "output_type": "execute_result",
          "data": {
            "text/plain": [
              "<matplotlib.image.AxesImage at 0x7fa5445e74e0>"
            ]
          },
          "metadata": {
            "tags": []
          },
          "execution_count": 87
        },
        {
          "output_type": "display_data",
          "data": {
            "image/png": "[encoded data removed]",
            "text/plain": [
              "<Figure size 432x288 with 1 Axes>"
            ]
          },
          "metadata": {
            "tags": [],
            "needs_background": "light"
          }
        }
      ]
    },
    {
      "cell_type": "markdown",
      "metadata": {
        "id": "pB-Hx-OFbzJC"
      },
      "source": [
        "### Part (c) -- 2pt\n",
        "\n",
        "Modify the image by adding a constant value of 0.25 to each pixel in the `img` and\n",
        "store the result in the variable `img_add`. Note that, since the range for the pixels \n",
        "needs to be between [0, 1], you will also need to clip img_add to be in the range [0, 1] \n",
        "using `numpy.clip`. Clipping sets any value that is outside of the desired range to the \n",
        "closest endpoint. Display the image using `plt.imshow`."
      ]
    },
    {
      "cell_type": "code",
      "metadata": {
        "id": "GWBhZay2bzJC",
        "outputId": "9db079a4-1924-47cd-dcba-536a466306d1",
        "colab": {
          "base_uri": "https://localhost:8080/",
          "height": 303
        }
      },
      "source": [
        "xscale = img.shape[1]\n",
        "yscale = img.shape[0]\n",
        "print(xscale, yscale)\n",
        "\n",
        "for row in range(yscale):\n",
        "  for col in range(xscale):\n",
        "    img[row][col] += 0.25\n",
        "img_add = np.clip(img,0,1)\n",
        "plt.imshow(img_add)\n",
        "\n",
        "#This makes sense as adding a positive constant value to an image makes it brighter. "
      ],
      "execution_count": null,
      "outputs": [
        {
          "output_type": "stream",
          "text": [
            "210 350\n"
          ],
          "name": "stdout"
        },
        {
          "output_type": "execute_result",
          "data": {
            "text/plain": [
              "<matplotlib.image.AxesImage at 0x7fa5446f33c8>"
            ]
          },
          "metadata": {
            "tags": []
          },
          "execution_count": 88
        },
        {
          "output_type": "display_data",
          "data": {
            "image/png": "[encoded data removed]",
            "text/plain": [
              "<Figure size 432x288 with 1 Axes>"
            ]
          },
          "metadata": {
            "tags": [],
            "needs_background": "light"
          }
        }
      ]
    },
    {
      "cell_type": "markdown",
      "metadata": {
        "id": "DeinKXBCbzJI"
      },
      "source": [
        "### Part (d) -- 2pt\n",
        "\n",
        "Crop the **original** image (`img` variable) to a 130 x 150 image including Mochi's face. Discard the alpha colour channel (i.e. resulting `img_cropped` should **only have RGB channels**)\n",
        "\n",
        "Display the image."
      ]
    },
    {
      "cell_type": "code",
      "metadata": {
        "id": "a6ImSd6Xm3wW",
        "outputId": "65d27268-035b-4f5d-ed33-aa91d079bc96",
        "colab": {
          "base_uri": "https://localhost:8080/",
          "height": 309
        }
      },
      "source": [
        "img_cropped = img[0:130][0:150]\n",
        "plt.imshow(img_cropped)\n",
        "print(img.shape)\n",
        "#Remove alpha channel:\n",
        "img_cropped = img_cropped[:,:,:3]\n",
        "print(img_cropped.shape)\n",
        "\n",
        "# As seen, the depth of the image is now 3, so RGB. The alpha colour channel has been removed."
      ],
      "execution_count": null,
      "outputs": [
        {
          "output_type": "stream",
          "text": [
            "Clipping input data to the valid range for imshow with RGB data ([0..1] for floats or [0..255] for integers).\n"
          ],
          "name": "stderr"
        },
        {
          "output_type": "stream",
          "text": [
            "(350, 210, 4)\n",
            "(130, 210, 3)\n"
          ],
          "name": "stdout"
        },
        {
          "output_type": "display_data",
          "data": {
            "image/png": "[encoded data removed]",
            "text/plain": [
              "<Figure size 432x288 with 1 Axes>"
            ]
          },
          "metadata": {
            "tags": [],
            "needs_background": "light"
          }
        }
      ]
    },
    {
      "cell_type": "markdown",
      "metadata": {
        "id": "FmfE9CQdIGva"
      },
      "source": [
        "## Part 4. Basics of PyTorch [6 pt]\n",
        "\n",
        "PyTorch is a Python-based neural networks package. Along with tensorflow, PyTorch is currently one of the most popular machine learning libraries.\n",
        "\n",
        "PyTorch, at its core, is similar to Numpy in a sense that they both \n",
        "try to make it easier to write codes for scientific computing\n",
        "achieve improved performance over vanilla Python by leveraging highly optimized C back-end.\n",
        "However, compare to Numpy, PyTorch offers much better GPU support and provides many high-level features for machine learning. Technically, Numpy can be used to perform almost every thing PyTorch does. However, Numpy would be a lot slower than PyTorch, especially with CUDA GPU, and it would take more effort to write machine learning related code compared to using PyTorch."
      ]
    },
    {
      "cell_type": "code",
      "metadata": {
        "id": "ppRPK-X2IGvb"
      },
      "source": [
        "import torch"
      ],
      "execution_count": null,
      "outputs": []
    },
    {
      "cell_type": "markdown",
      "metadata": {
        "id": "DXrczIrSIGvf"
      },
      "source": [
        "### Part (a) -- 1 pt\n",
        "\n",
        "Use the function `torch.from_numpy` to convert the numpy array `img_cropped` into\n",
        "a PyTorch tensor. Save the result in a variable called `img_torch`."
      ]
    },
    {
      "cell_type": "code",
      "metadata": {
        "id": "j9rYyf4gIGvj",
        "outputId": "5d5c413f-155a-4bdd-824e-696b9e1b5f70",
        "colab": {
          "base_uri": "https://localhost:8080/",
          "height": 34
        }
      },
      "source": [
        "img_torch = torch.from_numpy(img_cropped)\n",
        "print(type(img_torch))"
      ],
      "execution_count": null,
      "outputs": [
        {
          "output_type": "stream",
          "text": [
            "<class 'torch.Tensor'>\n"
          ],
          "name": "stdout"
        }
      ]
    },
    {
      "cell_type": "markdown",
      "metadata": {
        "id": "zrpPeRKtIGvn"
      },
      "source": [
        "### Part (b) -- 1pt\n",
        "\n",
        "Use the method `<Tensor>.shape` to find the shape (dimension and size) of `img_torch`."
      ]
    },
    {
      "cell_type": "code",
      "metadata": {
        "id": "ws7G_aaxIGvn",
        "outputId": "81abd713-a706-411d-b3f1-b05c210b0ef6",
        "colab": {
          "base_uri": "https://localhost:8080/",
          "height": 34
        }
      },
      "source": [
        "print(img_torch.shape)\n",
        "\n",
        "# The shape of img_torch is 130 by 210 by 3. "
      ],
      "execution_count": null,
      "outputs": [
        {
          "output_type": "stream",
          "text": [
            "torch.Size([130, 210, 3])\n"
          ],
          "name": "stdout"
        }
      ]
    },
    {
      "cell_type": "markdown",
      "metadata": {
        "id": "uorV8t1pIGvp"
      },
      "source": [
        "### Part (c) -- 1pt\n",
        "\n",
        "How many floating-point numbers are stored in the tensor `img_torch`?"
      ]
    },
    {
      "cell_type": "code",
      "metadata": {
        "id": "sucaE_VCIGvq",
        "outputId": "e9f5c978-b73c-4b21-a1b9-5facf0277953",
        "colab": {
          "base_uri": "https://localhost:8080/",
          "height": 34
        }
      },
      "source": [
        "# floating point numbers are basically decimal numbers...\n",
        "#print(img_torch)\n",
        "# By printing the above, it seems that all values are float values, so my guess \n",
        "# is that the number of floating point numbers is equal to the size. \n",
        "\n",
        "print(img_torch.shape)\n",
        "\n",
        "#Answer: there are 130 * 210 = 27300 floating point numbers stored in img_torch"
      ],
      "execution_count": null,
      "outputs": [
        {
          "output_type": "stream",
          "text": [
            "torch.Size([130, 210, 3])\n"
          ],
          "name": "stdout"
        }
      ]
    },
    {
      "cell_type": "markdown",
      "metadata": {
        "id": "sIcXGdg5IGvu"
      },
      "source": [
        "### Part (d) -- 1 pt\n",
        "\n",
        "What does the code `img_torch.transpose(0,2)` do? What does the expression return? \n",
        "Is the original variable `img_torch` updated? Explain."
      ]
    },
    {
      "cell_type": "code",
      "metadata": {
        "id": "omOJqIhEIGvu",
        "outputId": "dfb528ec-9223-434f-c26d-1ece39c5efca",
        "colab": {
          "base_uri": "https://localhost:8080/",
          "height": 1000
        }
      },
      "source": [
        "# A bit of background. If talking about a numpy image, there are three dimensions, (axis=0, axis=1, axis=2) aka (height, width, depth), where depth is the RGB. \n",
        "# Translated to torch tensor, each of the axis are dimensions. So we have a torch tensor with 3 dimensions right now. \n",
        "# The function torch.transpose() basically takes a torch tensor and two specified dimensions and swaps those two dimensions. \n",
        "\n",
        "# Let's test the functionality:\n",
        "\n",
        "print(img_torch.shape)\n",
        "pp = img_torch.transpose(0,2)\n",
        "print(pp.shape)\n",
        "\n",
        "# Printing this out, we can see that 130 (dim0) and 3 (dim2) has swapped places. \n",
        "# To reiterate, lets test it the other way around:\n",
        "pt = img_torch.transpose(2,0)\n",
        "print(pt.shape)\n",
        "print(type(pt))\n",
        "# We see that the order of dimensions chosen as arguments to the transpose function doesn't matter, as pt is same shape as pp. \n",
        "#print(pt)\n",
        "\n",
        "#Answer: (1) the code swaps dim0 with dim2, so the height and depth values are swapped. \n",
        "        # (2) the expression returns a torch tensor with different dimensions now, where all the elements are still the same but rearranged differently now.\n",
        "        # (3)  \n",
        "print(img_torch) # see what it is before calling transpose\n",
        "img_torch.transpose(0,2) # call the transpose\n",
        "print(img_torch) # see if the img_torch variable has been transposed by printing it out and checking\n",
        "\n",
        "# it seems that after calling the expression, the original img_torch is left untouched. It seems when calling the transpose, we must assign the result to a variable in order to store the results.\n",
        "# That is, simply calling it without assigning it to a variable will print out the result but will not alter the original tensor. "
      ],
      "execution_count": null,
      "outputs": [
        {
          "output_type": "stream",
          "text": [
            "torch.Size([130, 210, 3])\n",
            "torch.Size([3, 210, 130])\n",
            "torch.Size([3, 210, 130])\n",
            "<class 'torch.Tensor'>\n",
            "tensor([[[0.8382, 0.6225, 0.3990],\n",
            "         [0.8265, 0.6108, 0.3873],\n",
            "         [0.8069, 0.5912, 0.3676],\n",
            "         ...,\n",
            "         [0.6578, 0.4735, 0.4108],\n",
            "         [0.6225, 0.4735, 0.4225],\n",
            "         [0.5598, 0.4539, 0.4108]],\n",
            "\n",
            "        [[0.7912, 0.5716, 0.3402],\n",
            "         [0.8147, 0.5951, 0.3637],\n",
            "         [0.8461, 0.6265, 0.3951],\n",
            "         ...,\n",
            "         [0.6618, 0.4735, 0.4186],\n",
            "         [0.6382, 0.4892, 0.4461],\n",
            "         [0.5676, 0.4618, 0.4265]],\n",
            "\n",
            "        [[0.8657, 0.6265, 0.4029],\n",
            "         [0.8696, 0.6343, 0.3990],\n",
            "         [0.8696, 0.6343, 0.3912],\n",
            "         ...,\n",
            "         [0.6618, 0.4735, 0.4265],\n",
            "         [0.6461, 0.4971, 0.4618],\n",
            "         [0.5716, 0.4657, 0.4382]],\n",
            "\n",
            "        ...,\n",
            "\n",
            "        [[0.8539, 0.6382, 0.4186],\n",
            "         [0.8578, 0.6422, 0.4186],\n",
            "         [0.8618, 0.6461, 0.4225],\n",
            "         ...,\n",
            "         [0.7794, 0.6735, 0.5990],\n",
            "         [0.6578, 0.5676, 0.5049],\n",
            "         [0.4735, 0.3990, 0.3441]],\n",
            "\n",
            "        [[0.8382, 0.6225, 0.4029],\n",
            "         [0.8578, 0.6422, 0.4225],\n",
            "         [0.8696, 0.6539, 0.4304],\n",
            "         ...,\n",
            "         [0.7559, 0.6422, 0.5794],\n",
            "         [0.7010, 0.5990, 0.5480],\n",
            "         [0.5284, 0.4422, 0.3990]],\n",
            "\n",
            "        [[0.8304, 0.6147, 0.3951],\n",
            "         [0.8539, 0.6382, 0.4186],\n",
            "         [0.8735, 0.6578, 0.4382],\n",
            "         ...,\n",
            "         [0.7755, 0.6618, 0.5912],\n",
            "         [0.7010, 0.5912, 0.5363],\n",
            "         [0.5284, 0.4343, 0.3873]]])\n",
            "tensor([[[0.8382, 0.6225, 0.3990],\n",
            "         [0.8265, 0.6108, 0.3873],\n",
            "         [0.8069, 0.5912, 0.3676],\n",
            "         ...,\n",
            "         [0.6578, 0.4735, 0.4108],\n",
            "         [0.6225, 0.4735, 0.4225],\n",
            "         [0.5598, 0.4539, 0.4108]],\n",
            "\n",
            "        [[0.7912, 0.5716, 0.3402],\n",
            "         [0.8147, 0.5951, 0.3637],\n",
            "         [0.8461, 0.6265, 0.3951],\n",
            "         ...,\n",
            "         [0.6618, 0.4735, 0.4186],\n",
            "         [0.6382, 0.4892, 0.4461],\n",
            "         [0.5676, 0.4618, 0.4265]],\n",
            "\n",
            "        [[0.8657, 0.6265, 0.4029],\n",
            "         [0.8696, 0.6343, 0.3990],\n",
            "         [0.8696, 0.6343, 0.3912],\n",
            "         ...,\n",
            "         [0.6618, 0.4735, 0.4265],\n",
            "         [0.6461, 0.4971, 0.4618],\n",
            "         [0.5716, 0.4657, 0.4382]],\n",
            "\n",
            "        ...,\n",
            "\n",
            "        [[0.8539, 0.6382, 0.4186],\n",
            "         [0.8578, 0.6422, 0.4186],\n",
            "         [0.8618, 0.6461, 0.4225],\n",
            "         ...,\n",
            "         [0.7794, 0.6735, 0.5990],\n",
            "         [0.6578, 0.5676, 0.5049],\n",
            "         [0.4735, 0.3990, 0.3441]],\n",
            "\n",
            "        [[0.8382, 0.6225, 0.4029],\n",
            "         [0.8578, 0.6422, 0.4225],\n",
            "         [0.8696, 0.6539, 0.4304],\n",
            "         ...,\n",
            "         [0.7559, 0.6422, 0.5794],\n",
            "         [0.7010, 0.5990, 0.5480],\n",
            "         [0.5284, 0.4422, 0.3990]],\n",
            "\n",
            "        [[0.8304, 0.6147, 0.3951],\n",
            "         [0.8539, 0.6382, 0.4186],\n",
            "         [0.8735, 0.6578, 0.4382],\n",
            "         ...,\n",
            "         [0.7755, 0.6618, 0.5912],\n",
            "         [0.7010, 0.5912, 0.5363],\n",
            "         [0.5284, 0.4343, 0.3873]]])\n"
          ],
          "name": "stdout"
        }
      ]
    },
    {
      "cell_type": "markdown",
      "metadata": {
        "id": "lHrzC0EqIGvx"
      },
      "source": [
        "### Part (e) -- 1 pt\n",
        "\n",
        "What does the code `img_torch.unsqueeze(0)` do? What does the expression return? \n",
        "Is the original variable `img_torch` updated? Explain."
      ]
    },
    {
      "cell_type": "code",
      "metadata": {
        "id": "ZFePj7E5IGvz",
        "outputId": "d9f20f86-8e50-4df1-8988-c6eb4eab4e77",
        "colab": {
          "base_uri": "https://localhost:8080/",
          "height": 918
        }
      },
      "source": [
        "# What does it do?\n",
        "#   The code img_torch.unsqueeze(0) alters the dimensions of the tensor by adding \n",
        "#   a new dimension of size 1 at the dimension index specified in the parameter. For example:\n",
        "#   img_torch.unsqueeze(0) turns the shape of the tensor from [130, 210, 3] into [1, 130, 210, 3].\n",
        "#   Similarly, img_torch.unsqueeze(1) returns the shape [130, 1, 210, 3]. \n",
        "\n",
        "# To answer the question of what the expression returns, I'll use a simpler example:\n",
        "pp = img_torch.unsqueeze(0)\n",
        "\n",
        "pt = torch.rand(2,5)\n",
        "print(pt.unsqueeze(0))\n",
        "print(pt)\n",
        "# It seems unsqueeze added that new dimension and the expression returns basically the same\n",
        "# tensor as the original, except it's in another set of square brakets indicating that new dimension. \n",
        "\n",
        "# Is the original variable updated?\n",
        "\n",
        "img_torch.unsqueeze(0)\n",
        "print(img_torch)\n",
        "# Again, the original variable is untouched when you only call the expression by itself without assigning it to a variable. \n",
        "# To update the original variable, one must type:\n",
        "#img_torch = img_torch.unsqueeze(0)\n",
        "#img_torch"
      ],
      "execution_count": null,
      "outputs": [
        {
          "output_type": "stream",
          "text": [
            "tensor([[[9.7777e-01, 9.7276e-01, 1.4476e-01, 3.4626e-01, 5.2667e-01],\n",
            "         [4.9526e-01, 4.7285e-01, 5.3592e-01, 9.7343e-01, 3.9673e-04]]])\n",
            "tensor([[9.7777e-01, 9.7276e-01, 1.4476e-01, 3.4626e-01, 5.2667e-01],\n",
            "        [4.9526e-01, 4.7285e-01, 5.3592e-01, 9.7343e-01, 3.9673e-04]])\n",
            "tensor([[[0.8382, 0.6225, 0.3990],\n",
            "         [0.8265, 0.6108, 0.3873],\n",
            "         [0.8069, 0.5912, 0.3676],\n",
            "         ...,\n",
            "         [0.6578, 0.4735, 0.4108],\n",
            "         [0.6225, 0.4735, 0.4225],\n",
            "         [0.5598, 0.4539, 0.4108]],\n",
            "\n",
            "        [[0.7912, 0.5716, 0.3402],\n",
            "         [0.8147, 0.5951, 0.3637],\n",
            "         [0.8461, 0.6265, 0.3951],\n",
            "         ...,\n",
            "         [0.6618, 0.4735, 0.4186],\n",
            "         [0.6382, 0.4892, 0.4461],\n",
            "         [0.5676, 0.4618, 0.4265]],\n",
            "\n",
            "        [[0.8657, 0.6265, 0.4029],\n",
            "         [0.8696, 0.6343, 0.3990],\n",
            "         [0.8696, 0.6343, 0.3912],\n",
            "         ...,\n",
            "         [0.6618, 0.4735, 0.4265],\n",
            "         [0.6461, 0.4971, 0.4618],\n",
            "         [0.5716, 0.4657, 0.4382]],\n",
            "\n",
            "        ...,\n",
            "\n",
            "        [[0.8539, 0.6382, 0.4186],\n",
            "         [0.8578, 0.6422, 0.4186],\n",
            "         [0.8618, 0.6461, 0.4225],\n",
            "         ...,\n",
            "         [0.7794, 0.6735, 0.5990],\n",
            "         [0.6578, 0.5676, 0.5049],\n",
            "         [0.4735, 0.3990, 0.3441]],\n",
            "\n",
            "        [[0.8382, 0.6225, 0.4029],\n",
            "         [0.8578, 0.6422, 0.4225],\n",
            "         [0.8696, 0.6539, 0.4304],\n",
            "         ...,\n",
            "         [0.7559, 0.6422, 0.5794],\n",
            "         [0.7010, 0.5990, 0.5480],\n",
            "         [0.5284, 0.4422, 0.3990]],\n",
            "\n",
            "        [[0.8304, 0.6147, 0.3951],\n",
            "         [0.8539, 0.6382, 0.4186],\n",
            "         [0.8735, 0.6578, 0.4382],\n",
            "         ...,\n",
            "         [0.7755, 0.6618, 0.5912],\n",
            "         [0.7010, 0.5912, 0.5363],\n",
            "         [0.5284, 0.4343, 0.3873]]])\n"
          ],
          "name": "stdout"
        }
      ]
    },
    {
      "cell_type": "markdown",
      "metadata": {
        "id": "re16jTB9IGv0"
      },
      "source": [
        "### Part (f) -- 1 pt\n",
        "\n",
        "Find the maximum value of `img_torch` along each colour channel? Your output should be a one-dimensional\n",
        "PyTorch tensor with exactly three values.\n",
        "\n",
        "Hint: lookup the function `torch.max`."
      ]
    },
    {
      "cell_type": "code",
      "metadata": {
        "id": "zP7j9EPO3a1J",
        "outputId": "45639f57-4c2e-47ef-895c-6eacf8fea615",
        "colab": {
          "base_uri": "https://localhost:8080/",
          "height": 51
        }
      },
      "source": [
        "print(img_torch.shape)\n",
        "\n",
        "np1 = np.zeros((1,3),dtype=float)\n",
        "for i in range(0,3,1):\n",
        "  np1[0][i] = torch.max(img_torch[:][:][i])\n",
        "\n",
        "print(np1)\n",
        "\n",
        "#I realized you can't do this index reassignment with tensor arrays but you can\n",
        "#with numpy arrays, thus, I did the above... "
      ],
      "execution_count": null,
      "outputs": [
        {
          "output_type": "stream",
          "text": [
            "torch.Size([130, 210, 3])\n",
            "[[0.94411767 0.9401961  0.9401961 ]]\n"
          ],
          "name": "stdout"
        }
      ]
    },
    {
      "cell_type": "markdown",
      "metadata": {
        "id": "3hhA2sX0au0D"
      },
      "source": [
        "## Part 5. Training an ANN [10 pt]\n",
        "\n",
        "The sample code provided below is a 2-layer ANN trained on the MNIST dataset to identify digits less than 3 or greater than and equal to 3. Modify the code by changing any of the following and observe how the accuracy and error are affected:\n",
        "\n",
        "- number of training iterations\n",
        "- number of hidden units\n",
        "- numbers of layers\n",
        "- types of activation functions\n",
        "- learning rate\n",
        "\n"
      ]
    },
    {
      "cell_type": "code",
      "metadata": {
        "id": "GGtthiz1tDh5",
        "outputId": "6f6011f9-5cc1-4f29-c64b-46162a673b3a",
        "colab": {
          "base_uri": "https://localhost:8080/",
          "height": 102
        }
      },
      "source": [
        "import torch\n",
        "import torch.nn as nn\n",
        "import torch.nn.functional as F\n",
        "from torchvision import datasets, transforms\n",
        "import matplotlib.pyplot as plt # for plotting\n",
        "import torch.optim as optim\n",
        "\n",
        "torch.manual_seed(1) # set the random seed\n",
        "\n",
        "# define a 2-layer artificial neural network\n",
        "class Pigeon(nn.Module):\n",
        "    def __init__(self):\n",
        "        super(Pigeon, self).__init__()\n",
        "        self.layer1 = nn.Linear(28 * 28, 30)\n",
        "        self.layer2 = nn.Linear(30, 1)    # note that the output to the last layer must be 1.\n",
        "    def forward(self, img):\n",
        "        flattened = img.view(-1, 28 * 28)\n",
        "        activation1 = self.layer1(flattened)\n",
        "        activation1 = F.relu(activation1)\n",
        "        activation2 = self.layer2(activation1)\n",
        "        return activation2\n",
        "\n",
        "pigeon = Pigeon()\n",
        "\n",
        "# load the data\n",
        "mnist_data = datasets.MNIST('data', train=True, download=True)\n",
        "mnist_data = list(mnist_data)\n",
        "print(len(mnist_data))  # There are 60000 images???\n",
        "mnist_train = mnist_data[:2000]\n",
        "mnist_val   = mnist_data[3000:4000]\n",
        "img_to_tensor = transforms.ToTensor()\n",
        "      \n",
        "    \n",
        "# simplified training code to train `pigeon` on the \"small digit recognition\" task\n",
        "criterion = nn.BCEWithLogitsLoss()\n",
        "optimizer = optim.SGD(pigeon.parameters(), lr=0.005, momentum=0.9)\n",
        "\n",
        "\n",
        "for (image, label) in mnist_train:\n",
        "    # actual ground truth: is the digit less than 3?\n",
        "    actual = torch.tensor(label < 3).reshape([1,1]).type(torch.FloatTensor)\n",
        "    # pigeon prediction\n",
        "    out = pigeon(img_to_tensor(image)) # step 1-2\n",
        "    # update the parameters based on the loss\n",
        "    loss = criterion(out, actual)      # step 3\n",
        "    loss.backward()                    # step 4 (compute the updates for each parameter)\n",
        "    optimizer.step()                   # step 4 (make the updates for each parameter)\n",
        "    optimizer.zero_grad()              # a clean up step for PyTorch\n",
        "\n",
        "# computing the error and accuracy on the training set\n",
        "error = 0\n",
        "for (image, label) in mnist_train:\n",
        "    prob = torch.sigmoid(pigeon(img_to_tensor(image)))\n",
        "    if (prob < 0.5 and label < 3) or (prob >= 0.5 and label >= 3):\n",
        "        error += 1\n",
        "print(\"Training Error Rate:\", error/len(mnist_train))\n",
        "print(\"Training Accuracy:\", 1 - error/len(mnist_train))\n",
        "\n",
        "\n",
        "# computing the error and accuracy on a test set\n",
        "error = 0\n",
        "for (image, label) in mnist_val:\n",
        "    prob = torch.sigmoid(pigeon(img_to_tensor(image)))\n",
        "    if (prob < 0.5 and label < 3) or (prob >= 0.5 and label >= 3):\n",
        "        error += 1\n",
        "print(\"Test Error Rate:\", error/len(mnist_val))\n",
        "print(\"Test Accuracy:\", 1 - error/len(mnist_val))"
      ],
      "execution_count": null,
      "outputs": [
        {
          "output_type": "stream",
          "text": [
            "60000\n",
            "Training Error Rate: 0.042\n",
            "Training Accuracy: 0.958\n",
            "Test Error Rate: 0.049\n",
            "Test Accuracy: 0.951\n"
          ],
          "name": "stdout"
        }
      ]
    },
    {
      "cell_type": "markdown",
      "metadata": {
        "id": "O-AI_ytZ6rSd"
      },
      "source": [
        "### Original\n",
        "relu: Training Error Rate: 0.036  |  Training Accuracy: 0.964  |  Test Error Rate: 0.079  |  Test Accuracy: 0.921"
      ]
    },
    {
      "cell_type": "markdown",
      "metadata": {
        "id": "QlPA1jRe6_Lq"
      },
      "source": [
        "### Solely increasing number of images in the training set (doubled amount)\n",
        "Accomplished by increasing the number of images in the training data set to range from indicies of 0 to 2000. In turn, the testing dataset size remained the same but indicies moved to 2000 to 3000.\n",
        "\n",
        "\n",
        "```\n",
        "# This is formatted as code\n",
        "mnist_train = mnist_data[:2000]\n",
        "mnist_val   = mnist_data[2000:3000]\n",
        "\n",
        "```\n",
        "\n",
        "\n",
        "\n",
        "\n",
        "---\n",
        "\n",
        "\n",
        "\n",
        "\n",
        "\n",
        "\n",
        "\n",
        "Training Error Rate: 0.042  |  Training Accuracy: 0.958  |  Test Error Rate: 0.041  |  Test Accuracy: 0.959"
      ]
    },
    {
      "cell_type": "markdown",
      "metadata": {
        "id": "oSSDPno23t6f"
      },
      "source": [
        "### Solely increasing number of iterations by adding a for loop\n",
        "Accomplished by running the training algorithm twice over the same number of images instead of once.\n",
        "\n",
        "\n",
        "```\n",
        "for i in range(0,50,1):\n",
        "    for (image, label) in mnist_train:\n",
        "        # actual ground truth: is the digit less than 3?\n",
        "        actual = torch.tensor(label < 3).reshape([1,1]).type(torch.FloatTensor)\n",
        "        # pigeon prediction\n",
        "        out = pigeon(img_to_tensor(image)) # step 1-2\n",
        "        # update the parameters based on the loss\n",
        "        loss = criterion(out, actual)      # step 3\n",
        "        loss.backward()                    # step 4 (compute the updates for each parameter)\n",
        "        optimizer.step()                   # step 4 (make the updates for each parameter)\n",
        "        optimizer.zero_grad()              # a clean up step for PyTorch\n",
        "```\n",
        "\n",
        "\n",
        "---\n",
        "\n",
        "Training Error Rate: 0.0\n",
        "Training Accuracy: 1.0\n",
        "Test Error Rate: 0.059\n",
        "Test Accuracy: 0.9410000000000001\n",
        "\n",
        "**Although the training accuracy increased dramatically, as the model was overfitted to the training set, the testing accuracy is lower than when I solely doubled the amount of images in the training set. I like to point out that the for loop made it so the model ran through the same 1000 images 50 times, so 50000 images \"used\", but doubling the amount of images only \"used\" 2000 images. This suggests that by using a larger training dataset, the model is more precise in distinguishing and classifying different, new images.**"
      ]
    },
    {
      "cell_type": "markdown",
      "metadata": {
        "id": "xBzyHz-T7hgI"
      },
      "source": [
        "### Increasing the number of hidden units (doubled amount)\n",
        "Accomplished by doubling the amount:\n",
        "\n",
        "\n",
        "```\n",
        "self.layer1 = nn.Linear(28 * 28, 60)\n",
        "self.layer2 = nn.Linear(60, 1)\n",
        "```\n",
        "\n",
        "\n",
        "---\n",
        "\n",
        "\n",
        "\n",
        "---\n",
        "\n",
        "\n",
        "\n",
        "Training Error Rate: 0.031  |  Training Accuracy: 0.969  |  Test Error Rate: 0.08  |  Test Accuracy: 0.92"
      ]
    },
    {
      "cell_type": "markdown",
      "metadata": {
        "id": "5kyoZu_F9Gbu"
      },
      "source": [
        "### Increasing the number of layers (by one)\n",
        "Accomplished through changing the code into:\n",
        "\n",
        "\n",
        "```\n",
        "class Pigeon(nn.Module):\n",
        "    def __init__(self):\n",
        "        super(Pigeon, self).__init__()\n",
        "        self.layer1 = nn.Linear(28 * 28, 50)\n",
        "        self.layer2 = nn.Linear(50, 30)    # note that the output to the last layer must be 1. \n",
        "        self.layer3 = nn.Linear(30,1)\n",
        "    def forward(self, img):\n",
        "        flattened = img.view(-1, 28 * 28)\n",
        "        activation1 = self.layer1(flattened)\n",
        "        activation1 = F.relu(activation1)\n",
        "        activation2 = self.layer2(activation1)\n",
        "        activation2 = F.relu(activation2)\n",
        "        activation3 = self.layer3(activation2)\n",
        "        return activation3\n",
        "```\n",
        "\n",
        "\n",
        "---\n",
        "\n",
        "Training Error Rate: 0.044  |  Training Accuracy: 0.956  |  Test Error Rate: 0.1  |  Test Accuracy: 0.9\n",
        "\n",
        "**Accuracy decreases as you add an additional layer as more layers makes the neural network more sensitive to small details, which may skew accuracy.**"
      ]
    },
    {
      "cell_type": "markdown",
      "metadata": {
        "id": "QeC04sj8OfAw"
      },
      "source": [
        "### Comparing different activation functions\n",
        "Accomplished by changing:\n",
        "\n",
        "\n",
        "```\n",
        "  def forward(self, img):\n",
        "        flattened = img.view(-1, 28 * 28)\n",
        "        activation1 = self.layer1(flattened)\n",
        "        activation1 = F.**logsigmoid**(activation1)\n",
        "        activation2 = self.layer2(activation1)\n",
        "        return activation2\n",
        "```\n",
        "\n",
        "\n",
        "hardtanh_:\n",
        "Training Error Rate: 0.044\n",
        "|  Training Accuracy: 0.956\n",
        "|  Test Error Rate: 0.1\n",
        "|  Test Accuracy: 0.9\n",
        "\n",
        "\n",
        "---\n",
        "\n",
        "relu6:\n",
        "Training Error Rate: 0.036\n",
        "|  Training Accuracy: 0.964\n",
        "|  Test Error Rate: 0.079\n",
        "|  Test Accuracy: 0.921\n",
        "\n",
        "\n",
        "---\n",
        "\n",
        "elu_:\n",
        "Training Error Rate: 0.044\n",
        "Training Accuracy: 0.956\n",
        "Test Error Rate: 0.098\n",
        "Test Accuracy: 0.902\n",
        "\n",
        "\n",
        "---\n",
        "selu:\n",
        "Training Error Rate: 0.037\n",
        "Training Accuracy: 0.963\n",
        "Test Error Rate: 0.094\n",
        "Test Accuracy: 0.906\n",
        "\n",
        "\n",
        "---\n",
        "\n",
        "gelu:\n",
        "Training Error Rate: 0.039\n",
        "Training Accuracy: 0.961\n",
        "Test Error Rate: 0.082\n",
        "Test Accuracy: 0.918\n",
        "\n",
        "\n",
        "---\n",
        "\n",
        "tanh:\n",
        "Training Error Rate: 0.04\n",
        "Training Accuracy: 0.96\n",
        "Test Error Rate: 0.094\n",
        "Test Accuracy: 0.906\n",
        "\n",
        "\n",
        "---\n",
        "\n",
        "sigmoid:\n",
        "Training Error Rate: 0.073\n",
        "Training Accuracy: 0.927\n",
        "Test Error Rate: 0.117\n",
        "Test Accuracy: 0.883\n",
        "\n",
        "\n",
        "---\n",
        "logsigmoid:\n",
        "Training Error Rate: 0.058\n",
        "Training Accuracy: 0.942\n",
        "Test Error Rate: 0.115\n",
        "Test Accuracy: 0.885\n",
        "\n"
      ]
    },
    {
      "cell_type": "markdown",
      "metadata": {
        "id": "aOIDd9P-RJNc"
      },
      "source": [
        "### Adjusting the Learning Rate\n",
        "lr = 0.01: Training Error Rate: 0.039\n",
        "Training Accuracy: 0.961\n",
        "Test Error Rate: 0.082\n",
        "Test Accuracy: 0.918\n",
        "\n",
        "\n",
        "---\n",
        "\n",
        "lr = 0.001: Training Error Rate: 0.078\n",
        "Training Accuracy: 0.922\n",
        "Test Error Rate: 0.113\n",
        "Test Accuracy: 0.887\n",
        "\n",
        "\n",
        "---\n",
        "\n",
        "lr = 0.006: Training Error Rate: 0.037\n",
        "Training Accuracy: 0.963\n",
        "Test Error Rate: 0.081\n",
        "Test Accuracy: 0.919\n",
        "\n",
        "\n",
        "---\n",
        "\n",
        "lr = 0.004:\n",
        "Training Error Rate: 0.033\n",
        "Training Accuracy: 0.967\n",
        "Test Error Rate: 0.084\n",
        "Test Accuracy: 0.916\n",
        "\n",
        "---\n",
        "\n",
        "lr = 0.014: Training Error Rate: 0.041\n",
        "Training Accuracy: 0.959\n",
        "Test Error Rate: 0.07\n",
        "Test Accuracy: 0.9299999999999999\n",
        "\n",
        "\n",
        "---\n",
        "\n",
        "lr = 0.013: Training Error Rate: 0.063\n",
        "Training Accuracy: 0.937\n",
        "Test Error Rate: 0.099\n",
        "Test Accuracy: 0.901\n",
        "\n",
        "**Finding the optimal learning rate is literally a dice roll..**\n"
      ]
    },
    {
      "cell_type": "markdown",
      "metadata": {
        "id": "viYKlFupcgF3"
      },
      "source": [
        "### Part (a) -- 3 pt\n",
        "Comment on which of the above changes resulted in the best accuracy on training data? What accuracy were you able to achieve?"
      ]
    },
    {
      "cell_type": "markdown",
      "metadata": {
        "id": "LqUxcBMWSzDT"
      },
      "source": [
        "**Please refer to the tests I conducted above!** \n",
        "\n",
        "Increasing the number of training iteratons produced the best accuracy on the training data with an accuracy of 1.0! I believe the training accuracy is super high because the model has been overfitted to the training data set, as I looped through 50 epoches."
      ]
    },
    {
      "cell_type": "markdown",
      "metadata": {
        "id": "pi6bWs7jcIem"
      },
      "source": [
        "### Part (b) -- 3 pt\n",
        "\n",
        "\n",
        "Comment on which of the above changes resulted in the best accuracy on testing data? What accuracy were you able to achieve?"
      ]
    },
    {
      "cell_type": "markdown",
      "metadata": {
        "id": "jR-o-EbEZrt3"
      },
      "source": [
        "I did something not on the list of things we could try. I increased the size of the training data set:\n",
        "\n",
        "\n",
        "\n",
        "```\n",
        "mnist_train = mnist_data[:2000]\n",
        "mnist_val   = mnist_data[2000:3000]\n",
        "```\n",
        "This provided my highest testing accuracy of 0.959, which is higher than the testing accuracy in part a of 0.941. I do not believe this is an overfitted sitaution because I made the testing set of images isolated from the training set. I did this because I looked up the size of mnist_data and found there to be 60,000 images inside. \n",
        "\n",
        "However, increasing the training set size to 4000 actually decreased the testing accuracy by a bit to 0.957. Thus, the size of the training data set is something to be optimized. But this may be due to the fact that the testing data set for the 4000 images was image indicies 4000 to 5000 and not 2000 to 3000 as before. For future reference, I will ensure my validation set and testing data set is more organized."
      ]
    },
    {
      "cell_type": "markdown",
      "metadata": {
        "id": "j7W2k347wFqo"
      },
      "source": [
        "### Part (c) -- 4 pt\n",
        "Which model hyperparameters should you use, the ones from (a) or (b)?"
      ]
    },
    {
      "cell_type": "markdown",
      "metadata": {
        "id": "q6ozqnNCZrQF"
      },
      "source": [
        "A model hyperparameter is a parameter that is set before the learning process begins [https://deepai.org/machine-learning-glossary-and-terms/hyperparameter]. These parameters are the number of training iterations, the number of layers, and the learning rate.. etc.\n",
        "\n",
        "\n",
        "---\n",
        "\n",
        "\n",
        "\n",
        "We usually want to train neural networks so they are more accurate with testing data and thus, can do their job with any given set of data imported from the real world. From that preference, I believe that the hyperparameters from b should be used. By increasing the size of the training data set, we decreased the testing error rate and increased the testing accuracy, creating a more accurate neural network! \n",
        "\n",
        "**Note that by using the for loop, you are overfitting the training dataset so your training accuracy is higher. If you use more new images, you are not overfitting the training dataset so the training accuracy is generally lower, but this results in a higher testing accuracy, as the model is trained on more diverse data.**\n",
        "\n"
      ]
    },
    {
      "cell_type": "code",
      "metadata": {
        "id": "45tc6SQz5hh2"
      },
      "source": [
        "def train_net(net, batch_size=64, learning_rate=0.01, num_epochs=30):\n",
        "    ########################################################################\n",
        "    # Train a classifier on cats vs dogs\n",
        "    target_classes = [\"cat\", \"dog\"]\n",
        "    ########################################################################\n",
        "    # Fixed PyTorch random seed for reproducible result\n",
        "    torch.manual_seed(1000)\n",
        "    ########################################################################\n",
        "    # Obtain the PyTorch data loader objects to load batches of the datasets\n",
        "    train_loader, val_loader, test_loader, classes = get_data_loader(\n",
        "            target_classes, batch_size)\n",
        "    ########################################################################\n",
        "    # Define the Loss function and optimizer\n",
        "    # The loss function will be Binary Cross Entropy (BCE). In this case we\n",
        "    # will use the BCEWithLogitsLoss which takes unnormalized output from\n",
        "    # the neural network and scalar label.\n",
        "    # Optimizer will be SGD with Momentum.\n",
        "    criterion = nn.BCEWithLogitsLoss()\n",
        "    optimizer = optim.SGD(net.parameters(), lr=learning_rate, momentum=0.9)\n",
        "    ########################################################################\n",
        "    # Set up some numpy arrays to store the training/test loss/err accuracy\n",
        "    train_err = np.zeros(num_epochs)\n",
        "    train_loss = np.zeros(num_epochs)\n",
        "    test_err = np.zeros(num_epochs)\n",
        "    test_loss = np.zeros(num_epochs)\n",
        "    ########################################################################\n",
        "    # Train the network\n",
        "    # Loop over the data iterator and sample a new batch of training data\n",
        "    # Get the output from the network, and optimize our loss function.\n",
        "    start_time = time.time()\n",
        "    for epoch in range(num_epochs):  # loop over the dataset multiple times\n",
        "        total_train_loss = 0.0\n",
        "        total_train_err = 0.0\n",
        "        total_epoch = 0\n",
        "        for i, data in enumerate(train_loader, 0):\n",
        "            # Get the inputs\n",
        "            inputs, labels = data\n",
        "            labels = normalize_label(labels) # Convert labels to 0/1\n",
        "            # Zero the parameter gradients\n",
        "            optimizer.zero_grad()\n",
        "            # Forward pass, backward pass, and optimize\n",
        "            outputs = net(inputs)                         #net is small_net class or big_net class\n",
        "            loss = criterion(outputs, labels.float())\n",
        "            loss.backward()\n",
        "            optimizer.step()\n",
        "            # Calculate the statistics\n",
        "            corr = (outputs > 0.0).squeeze().long() != labels\n",
        "            total_train_err += int(corr.sum())            # while error is the number of images labelled incorrectly\n",
        "            total_train_loss += loss.item()               # loss is the error occuring during the training process used to calculate the gradient in making the model more accurate\n",
        "            total_epoch += len(labels)\n",
        "        train_err[epoch] = float(total_train_err) / total_epoch\n",
        "        train_loss[epoch] = float(total_train_loss) / (i+1)\n",
        "        test_err[epoch], test_loss[epoch] = evaluate(net, test_loader, criterion)\n",
        "        print((\"Epoch {}: Train err: {}, Train loss: {} |\"+\n",
        "               \"Test err: {}, Test loss: {}\").format(\n",
        "                   epoch + 1,\n",
        "                   train_err[epoch],\n",
        "                   train_loss[epoch],\n",
        "                   test_err[epoch],\n",
        "                   test_loss[epoch]))\n",
        "        # Save the current model (checkpoint) to a file\n",
        "        model_path = get_model_name(net.name, batch_size, learning_rate, epoch)\n",
        " \n",
        "        torch.save(net.state_dict(), model_path)\n",
        "    print('Finished Training')\n",
        "    end_time = time.time()\n",
        "    elapsed_time = end_time - start_time\n",
        "    print(\"Total time elapsed: {:.2f} seconds\".format(elapsed_time))\n",
        "    # Write the train/test loss/err into CSV file for plotting later\n",
        "    epochs = np.arange(1, num_epochs + 1)\n",
        "    np.savetxt(\"{}_train_err.csv\".format(model_path), train_err)\n",
        "    np.savetxt(\"{}_train_loss.csv\".format(model_path), train_loss)\n",
        "    np.savetxt(\"{}_test_err.csv\".format(model_path), test_err)\n",
        "    np.savetxt(\"{}_test_loss.csv\".format(model_path), test_loss)\n",
        " \n",
        "    return model_path"
      ],
      "execution_count": null,
      "outputs": []
    }
  ]
}
