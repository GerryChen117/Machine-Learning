{
  "nbformat": 4,
  "nbformat_minor": 0,
  "metadata": {
    "colab": {
      "name": "Handwriting Recognition using K-Means",
      "provenance": []
    },
    "kernelspec": {
      "name": "python3",
      "display_name": "Python 3"
    }
  },
  "cells": [
    {
      "cell_type": "markdown",
      "metadata": {
        "id": "3wVxFi5HgBYA"
      },
      "source": [
        "# Handwriting Recognition using K-Means"
      ]
    },
    {
      "cell_type": "markdown",
      "metadata": {
        "id": "cVc5FyGXixs7"
      },
      "source": [
        "K-Means is a clustering algorithm that helps to classify things based on where they end up on the low dimensional representation plane after dimensionality reduction.  "
      ]
    },
    {
      "cell_type": "markdown",
      "metadata": {
        "id": "gW7HNxaAgKNw"
      },
      "source": [
        "Using K-Means to develop an algorithm to recognize hand writing, with help from scikit-learn."
      ]
    },
    {
      "cell_type": "code",
      "metadata": {
        "id": "xZS3g3CbfGRk"
      },
      "source": [
        "import numpy as np\r\n",
        "from matplotlib import pyplot as plt\r\n",
        "from sklearn import datasets\r\n",
        " \r\n",
        "digits = datasets.load_digits()"
      ],
      "execution_count": null,
      "outputs": []
    },
    {
      "cell_type": "markdown",
      "metadata": {
        "id": "2OD40Buzj5mJ"
      },
      "source": [
        "First, let's learn about the data we are working with."
      ]
    },
    {
      "cell_type": "code",
      "metadata": {
        "colab": {
          "base_uri": "https://localhost:8080/"
        },
        "id": "76kaSWlyjt_X",
        "outputId": "f0b76a31-b217-4f5e-c3f1-ec32bca28c63"
      },
      "source": [
        "#print(digits)\r\n",
        "print(digits.DESCR)"
      ],
      "execution_count": 3,
      "outputs": [
        {
          "output_type": "stream",
          "text": [
            ".. _digits_dataset:\n",
            "\n",
            "Optical recognition of handwritten digits dataset\n",
            "--------------------------------------------------\n",
            "\n",
            "**Data Set Characteristics:**\n",
            "\n",
            "    :Number of Instances: 5620\n",
            "    :Number of Attributes: 64\n",
            "    :Attribute Information: 8x8 image of integer pixels in the range 0..16.\n",
            "    :Missing Attribute Values: None\n",
            "    :Creator: E. Alpaydin (alpaydin '@' boun.edu.tr)\n",
            "    :Date: July; 1998\n",
            "\n",
            "This is a copy of the test set of the UCI ML hand-written digits datasets\n",
            "https://archive.ics.uci.edu/ml/datasets/Optical+Recognition+of+Handwritten+Digits\n",
            "\n",
            "The data set contains images of hand-written digits: 10 classes where\n",
            "each class refers to a digit.\n",
            "\n",
            "Preprocessing programs made available by NIST were used to extract\n",
            "normalized bitmaps of handwritten digits from a preprinted form. From a\n",
            "total of 43 people, 30 contributed to the training set and different 13\n",
            "to the test set. 32x32 bitmaps are divided into nonoverlapping blocks of\n",
            "4x4 and the number of on pixels are counted in each block. This generates\n",
            "an input matrix of 8x8 where each element is an integer in the range\n",
            "0..16. This reduces dimensionality and gives invariance to small\n",
            "distortions.\n",
            "\n",
            "For info on NIST preprocessing routines, see M. D. Garris, J. L. Blue, G.\n",
            "T. Candela, D. L. Dimmick, J. Geist, P. J. Grother, S. A. Janet, and C.\n",
            "L. Wilson, NIST Form-Based Handprint Recognition System, NISTIR 5469,\n",
            "1994.\n",
            "\n",
            ".. topic:: References\n",
            "\n",
            "  - C. Kaynak (1995) Methods of Combining Multiple Classifiers and Their\n",
            "    Applications to Handwritten Digit Recognition, MSc Thesis, Institute of\n",
            "    Graduate Studies in Science and Engineering, Bogazici University.\n",
            "  - E. Alpaydin, C. Kaynak (1998) Cascading Classifiers, Kybernetika.\n",
            "  - Ken Tang and Ponnuthurai N. Suganthan and Xi Yao and A. Kai Qin.\n",
            "    Linear dimensionalityreduction using relevance weighted LDA. School of\n",
            "    Electrical and Electronic Engineering Nanyang Technological University.\n",
            "    2005.\n",
            "  - Claudio Gentile. A New Approximate Maximal Margin Classification\n",
            "    Algorithm. NIPS. 2000.\n"
          ],
          "name": "stdout"
        }
      ]
    },
    {
      "cell_type": "code",
      "metadata": {
        "colab": {
          "base_uri": "https://localhost:8080/"
        },
        "id": "uFGaXcUkj70c",
        "outputId": "3962b2b2-d127-41e0-81a6-9bd2578fc323"
      },
      "source": [
        "print(digits.data)"
      ],
      "execution_count": 4,
      "outputs": [
        {
          "output_type": "stream",
          "text": [
            "[[ 0.  0.  5. ...  0.  0.  0.]\n",
            " [ 0.  0.  0. ... 10.  0.  0.]\n",
            " [ 0.  0.  0. ... 16.  9.  0.]\n",
            " ...\n",
            " [ 0.  0.  1. ...  6.  0.  0.]\n",
            " [ 0.  0.  2. ... 12.  0.  0.]\n",
            " [ 0.  0. 10. ... 12.  1.  0.]]\n"
          ],
          "name": "stdout"
        }
      ]
    },
    {
      "cell_type": "code",
      "metadata": {
        "colab": {
          "base_uri": "https://localhost:8080/"
        },
        "id": "lv0a45y-j996",
        "outputId": "7c330b7f-853b-4376-a8ab-057673d97241"
      },
      "source": [
        "print(digits.target)"
      ],
      "execution_count": 5,
      "outputs": [
        {
          "output_type": "stream",
          "text": [
            "[0 1 2 ... 8 9 8]\n"
          ],
          "name": "stdout"
        }
      ]
    },
    {
      "cell_type": "markdown",
      "metadata": {
        "id": "cL_O6p3YkAen"
      },
      "source": [
        "digits.data is the data we will be training the model on and digits.target is the label for each respective piece of data in digits.data."
      ]
    },
    {
      "cell_type": "markdown",
      "metadata": {
        "id": "e42d40mtkKPt"
      },
      "source": [
        "We can use matplotlib to visualize the vectors and see what digit each vector represents. Let's see what the image at index 100 is:"
      ]
    },
    {
      "cell_type": "code",
      "metadata": {
        "colab": {
          "base_uri": "https://localhost:8080/",
          "height": 309
        },
        "id": "MdaE1sc4j_se",
        "outputId": "89617d59-93c3-48b3-8ff7-1bdb592515e9"
      },
      "source": [
        "plt.gray() \r\n",
        " \r\n",
        "plt.matshow(digits.images[100])\r\n",
        " \r\n",
        "plt.show()\r\n",
        "\r\n",
        "print(digits.target[100])"
      ],
      "execution_count": 7,
      "outputs": [
        {
          "output_type": "display_data",
          "data": {
            "text/plain": [
              "<Figure size 432x288 with 0 Axes>"
            ]
          },
          "metadata": {
            "tags": []
          }
        },
        {
          "output_type": "display_data",
          "data": {
            "image/png": "[encoded data removed]",
            "text/plain": [
              "<Figure size 288x288 with 1 Axes>"
            ]
          },
          "metadata": {
            "tags": [],
            "needs_background": "light"
          }
        },
        {
          "output_type": "stream",
          "text": [
            "4\n"
          ],
          "name": "stdout"
        }
      ]
    },
    {
      "cell_type": "markdown",
      "metadata": {
        "id": "0Wo5kI3qkaSU"
      },
      "source": [
        "It's a 4!"
      ]
    },
    {
      "cell_type": "markdown",
      "metadata": {
        "id": "-K3Gv5w9kdDV"
      },
      "source": [
        "Now it's time to get started with K-Means and cluster the data into groups."
      ]
    },
    {
      "cell_type": "code",
      "metadata": {
        "id": "dxAURtx0kVz9"
      },
      "source": [
        "from sklearn.cluster import KMeans"
      ],
      "execution_count": 8,
      "outputs": []
    },
    {
      "cell_type": "markdown",
      "metadata": {
        "id": "Km3R_GVdktXV"
      },
      "source": [
        "The number of clusters we're expecting is 10, as there are 10 digits: (0, 1, 2, 3, 4, 5, 6, 7, 8, and 9). The second parameter in the function call for random_state just ensures that each time we run the code, the model is constructed the same way."
      ]
    },
    {
      "cell_type": "code",
      "metadata": {
        "colab": {
          "base_uri": "https://localhost:8080/"
        },
        "id": "r28MnTWGkh9v",
        "outputId": "36a5b8f8-d582-4b89-a70e-42f8227c9272"
      },
      "source": [
        "model = KMeans(n_clusters=10,random_state=42)\r\n",
        "model.fit(digits.data)"
      ],
      "execution_count": 10,
      "outputs": [
        {
          "output_type": "execute_result",
          "data": {
            "text/plain": [
              "KMeans(algorithm='auto', copy_x=True, init='k-means++', max_iter=300,\n",
              "       n_clusters=10, n_init=10, n_jobs=None, precompute_distances='auto',\n",
              "       random_state=42, tol=0.0001, verbose=0)"
            ]
          },
          "metadata": {
            "tags": []
          },
          "execution_count": 10
        }
      ]
    },
    {
      "cell_type": "markdown",
      "metadata": {
        "id": "jPnxhlGQlJJh"
      },
      "source": [
        "Let’s visualize all the centroids (result after KMeans)! Because data samples live in a 64-dimensional space, the centroids have values so they can be images!"
      ]
    },
    {
      "cell_type": "code",
      "metadata": {
        "colab": {
          "base_uri": "https://localhost:8080/",
          "height": 233
        },
        "id": "h5rB0ZBWlBHj",
        "outputId": "6e0c18c6-dc34-4d30-9a20-b93f7d1548ab"
      },
      "source": [
        "fig = plt.figure(figsize=(8, 3))\r\n",
        " \r\n",
        "fig.suptitle('Cluser Center Images', fontsize=14, fontweight='bold')\r\n",
        "\r\n",
        "\r\n",
        "for i in range(10):\r\n",
        " \r\n",
        "  # Initialize subplots in a grid of 2X5, at i+1th position\r\n",
        "  ax = fig.add_subplot(2, 5, 1 + i)\r\n",
        " \r\n",
        "  # Display images\r\n",
        "  ax.imshow(model.cluster_centers_[i].reshape((8, 8)), cmap=plt.cm.binary)\r\n",
        "\r\n",
        "plt.show()"
      ],
      "execution_count": 14,
      "outputs": [
        {
          "output_type": "display_data",
          "data": {
            "image/png": "[encoded data removed]",
            "text/plain": [
              "<Figure size 576x216 with 10 Axes>"
            ]
          },
          "metadata": {
            "tags": [],
            "needs_background": "light"
          }
        }
      ]
    },
    {
      "cell_type": "markdown",
      "metadata": {
        "id": "Sk0wNUnLmqe0"
      },
      "source": [
        "Let's see if the model can predict my handwriting. I wrote and converted the number 2031 into it's vectorized form.\r\n",
        "\r\n"
      ]
    },
    {
      "cell_type": "code",
      "metadata": {
        "id": "MaXovMF3mqO9"
      },
      "source": [
        "new_samples = np.array([\r\n",
        "[0.00,0.00,0.00,0.00,0.00,0.00,0.00,0.00,0.00,0.00,1.28,4.78,5.33,4.33,0.00,0.00,0.00,0.00,6.62,5.08,2.50,6.85,2.96,0.00,0.00,0.00,1.14,0.07,0.00,4.56,3.80,0.00,0.00,0.00,0.00,0.00,0.00,5.40,3.73,0.00,0.00,0.00,0.00,0.00,2.35,7.31,0.83,0.00,0.00,0.00,2.04,5.39,7.54,6.00,3.73,0.45,0.00,0.00,1.97,3.81,3.81,3.80,3.80,0.45],\r\n",
        "[0.00,0.00,0.00,0.00,0.00,0.00,0.00,0.00,0.00,0.00,0.07,4.93,6.86,7.39,5.78,0.15,0.00,0.00,4.02,6.47,1.35,0.83,7.00,1.97,0.00,0.00,7.08,1.89,0.00,0.00,6.40,2.13,0.00,0.00,7.61,0.76,0.00,1.21,7.54,0.75,0.00,0.00,6.54,5.23,1.97,6.62,4.25,0.00,0.00,0.00,0.60,5.47,6.10,4.10,0.07,0.00,0.00,0.00,0.00,0.00,0.00,0.00,0.00,0.00],\r\n",
        "[0.00,0.00,0.00,0.00,0.00,0.00,0.00,0.00,0.00,0.00,0.15,4.34,4.57,4.42,0.45,0.00,0.00,0.00,0.15,3.58,3.05,6.71,2.05,0.00,0.00,0.00,0.00,0.00,2.04,7.31,1.52,0.00,0.00,0.00,0.00,3.87,7.62,7.38,1.06,0.00,0.00,0.00,0.00,0.30,0.76,5.79,2.81,0.00,0.00,0.00,0.46,3.20,1.60,6.09,3.04,0.00,0.00,0.00,0.91,6.09,6.10,5.55,0.68,0.00],\r\n",
        "[0.00,0.00,0.00,0.00,0.00,0.00,0.00,0.00,0.00,0.00,0.00,2.35,2.81,0.00,0.00,0.00,0.00,0.00,0.00,3.81,4.57,0.00,0.00,0.00,0.00,0.00,0.00,3.81,4.57,0.00,0.00,0.00,0.00,0.00,0.00,3.81,4.57,0.00,0.00,0.00,0.00,0.00,0.00,3.80,4.56,0.00,0.00,0.00,0.00,0.00,0.00,4.18,4.49,0.00,0.00,0.00,0.00,0.00,0.00,1.98,1.52,0.00,0.00,0.00]\r\n",
        "])"
      ],
      "execution_count": 19,
      "outputs": []
    },
    {
      "cell_type": "code",
      "metadata": {
        "colab": {
          "base_uri": "https://localhost:8080/"
        },
        "id": "v436Ld5Xm1tz",
        "outputId": "8c84638d-32bd-4095-acfa-b27035ceb0e2"
      },
      "source": [
        "new_labels = model.predict(new_samples)\r\n",
        " \r\n",
        "print(new_labels) "
      ],
      "execution_count": 20,
      "outputs": [
        {
          "output_type": "stream",
          "text": [
            "[4 6 4 7]\n"
          ],
          "name": "stdout"
        }
      ]
    },
    {
      "cell_type": "markdown",
      "metadata": {
        "id": "esnT0kX6nE68"
      },
      "source": [
        "\r\n",
        "But wait, because this is a clustering algorithm, we don’t know which label is which.\r\n",
        "\r\n",
        "By looking at the cluster centers, let’s map out each of the labels with the digits we think it represents:"
      ]
    },
    {
      "cell_type": "code",
      "metadata": {
        "colab": {
          "base_uri": "https://localhost:8080/"
        },
        "id": "2ahGFw0im86L",
        "outputId": "800e7f03-2325-4621-a00c-570aac67ba3e"
      },
      "source": [
        "for i in range(len(new_labels)):\r\n",
        "  if new_labels[i] == 0:\r\n",
        "    print(0, end='')\r\n",
        "  elif new_labels[i] == 1:\r\n",
        "    print(9, end='')\r\n",
        "  elif new_labels[i] == 2:\r\n",
        "    print(2, end='')\r\n",
        "  elif new_labels[i] == 3:\r\n",
        "    print(1, end='')\r\n",
        "  elif new_labels[i] == 4:\r\n",
        "    print(6, end='')\r\n",
        "  elif new_labels[i] == 5:\r\n",
        "    print(8, end='')\r\n",
        "  elif new_labels[i] == 6:\r\n",
        "    print(4, end='')\r\n",
        "  elif new_labels[i] == 7:\r\n",
        "    print(5, end='')\r\n",
        "  elif new_labels[i] == 8:\r\n",
        "    print(7, end='')\r\n",
        "  elif new_labels[i] == 9:\r\n",
        "    print(3, end='')"
      ],
      "execution_count": 21,
      "outputs": [
        {
          "output_type": "stream",
          "text": [
            "6465"
          ],
          "name": "stdout"
        }
      ]
    },
    {
      "cell_type": "markdown",
      "metadata": {
        "id": "wnrTMw8Zq-gv"
      },
      "source": [
        "It seems the data that the model was trained on is inaccurate. Thereby with faulty data comes a faulty classification model.  "
      ]
    }
  ]
}