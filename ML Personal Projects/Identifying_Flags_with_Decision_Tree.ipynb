{
  "nbformat": 4,
  "nbformat_minor": 0,
  "metadata": {
    "colab": {
      "name": "Identifying Flags with Decision Tree.ipynb",
      "provenance": [],
      "collapsed_sections": []
    },
    "kernelspec": {
      "name": "python3",
      "display_name": "Python 3"
    }
  },
  "cells": [
    {
      "cell_type": "markdown",
      "metadata": {
        "id": "SSJAxMhPjwEY"
      },
      "source": [
        "# Identifying Flags using Decision Trees"
      ]
    },
    {
      "cell_type": "markdown",
      "metadata": {
        "id": "vPMQu8JNkaTo"
      },
      "source": [
        "Setting up and interpreting the Data"
      ]
    },
    {
      "cell_type": "code",
      "metadata": {
        "colab": {
          "base_uri": "https://localhost:8080/"
        },
        "id": "xyuip3fXkfmn",
        "outputId": "e165dda9-f77e-4b62-f2bd-b1233f308a4f"
      },
      "source": [
        "# Mount the drive for file upload\r\n",
        "from google.colab import drive\r\n",
        "drive.mount('/content/drive')"
      ],
      "execution_count": 1,
      "outputs": [
        {
          "output_type": "stream",
          "text": [
            "Mounted at /content/drive\n"
          ],
          "name": "stdout"
        }
      ]
    },
    {
      "cell_type": "code",
      "metadata": {
        "id": "7Rv5Zc9hknSY"
      },
      "source": [
        "import pandas as pd\r\n",
        "from sklearn.model_selection import train_test_split\r\n",
        "from sklearn.tree import DecisionTreeClassifier\r\n",
        "import matplotlib.pyplot as plt"
      ],
      "execution_count": 13,
      "outputs": []
    },
    {
      "cell_type": "code",
      "metadata": {
        "id": "42Ydaex-jsZ1"
      },
      "source": [
        "directory = '/content/drive/MyDrive/Colab Notebooks/Codacademy Machine Learning/Decision Trees/Project/Flags.csv'\r\n",
        "flags = pd.read_csv(directory, header = 0)"
      ],
      "execution_count": 5,
      "outputs": []
    },
    {
      "cell_type": "markdown",
      "metadata": {
        "id": "MuDnXz2PlJr8"
      },
      "source": [
        "The possible columns are:"
      ]
    },
    {
      "cell_type": "code",
      "metadata": {
        "colab": {
          "base_uri": "https://localhost:8080/"
        },
        "id": "g7vHlf82kyTH",
        "outputId": "a869b19f-eb57-4dae-b200-0594d26693ae"
      },
      "source": [
        "print(flags.columns)"
      ],
      "execution_count": 6,
      "outputs": [
        {
          "output_type": "stream",
          "text": [
            "Index(['Name', 'Landmass', 'Zone', 'Area', 'Population', 'Language',\n",
            "       'Religion', 'Bars', 'Stripes', 'Colors', 'Red', 'Green', 'Blue', 'Gold',\n",
            "       'White', 'Black', 'Orange', 'Mainhue', 'Circles', 'Crosses', 'Saltires',\n",
            "       'Quarters', 'Sunstars', 'Crescent', 'Triangle', 'Icon', 'Animate',\n",
            "       'Text', 'Topleft', 'Botright'],\n",
            "      dtype='object')\n"
          ],
          "name": "stdout"
        }
      ]
    },
    {
      "cell_type": "markdown",
      "metadata": {
        "id": "9hU10ctIlN9k"
      },
      "source": [
        "The first five flags in the data are:"
      ]
    },
    {
      "cell_type": "code",
      "metadata": {
        "colab": {
          "base_uri": "https://localhost:8080/"
        },
        "id": "aPeD5z69lNZl",
        "outputId": "28b961da-cc58-4131-b510-4e34febdf193"
      },
      "source": [
        "print(flags.head())"
      ],
      "execution_count": 7,
      "outputs": [
        {
          "output_type": "stream",
          "text": [
            "             Name  Landmass  Zone  Area  ...  Animate  Text  Topleft  Botright\n",
            "0     Afghanistan         5     1   648  ...        0     0    black     green\n",
            "1         Albania         3     1    29  ...        1     0      red       red\n",
            "2         Algeria         4     1  2388  ...        0     0    green     white\n",
            "3  American-Samoa         6     3     0  ...        1     0     blue       red\n",
            "4         Andorra         3     1     0  ...        0     0     blue       red\n",
            "\n",
            "[5 rows x 30 columns]\n"
          ],
          "name": "stdout"
        }
      ]
    },
    {
      "cell_type": "markdown",
      "metadata": {
        "id": "BUxo23MxlUZe"
      },
      "source": [
        "We will be building a decision tree to help us determine what Landmass a country is on. "
      ]
    },
    {
      "cell_type": "markdown",
      "metadata": {
        "id": "5vSEMZBfljrQ"
      },
      "source": [
        "Note, we can choose the columns of a pandas dataframe via:\r\n",
        "\r\n",
        "\r\n",
        "```\r\n",
        "one_column = df[[\"A\"]]\r\n",
        "two_columns = df[[\"B\", \"C\"]]\r\n",
        "```\r\n",
        "\r\n"
      ]
    },
    {
      "cell_type": "markdown",
      "metadata": {
        "id": "GreweGEfl0O8"
      },
      "source": [
        "In our case, the labels will be the landmass of the country represented by each flag. We will isolate the labels via:"
      ]
    },
    {
      "cell_type": "code",
      "metadata": {
        "colab": {
          "base_uri": "https://localhost:8080/"
        },
        "id": "NTy3cxDclRtl",
        "outputId": "994797bb-e0bb-45ae-f26f-30bb991fd6dc"
      },
      "source": [
        "labels = flags[[\"Landmass\"]]\r\n",
        "print(labels)"
      ],
      "execution_count": 10,
      "outputs": [
        {
          "output_type": "stream",
          "text": [
            "     Landmass\n",
            "0           5\n",
            "1           3\n",
            "2           4\n",
            "3           6\n",
            "4           3\n",
            "..        ...\n",
            "189         6\n",
            "190         3\n",
            "191         4\n",
            "192         4\n",
            "193         4\n",
            "\n",
            "[194 rows x 1 columns]\n"
          ],
          "name": "stdout"
        }
      ]
    },
    {
      "cell_type": "markdown",
      "metadata": {
        "id": "412hEXLjmMBu"
      },
      "source": [
        "For now, let's see if we can predict the landmass of a Country based on only the color of its flags. Thereby, the data we are training our Decision Tree on is:"
      ]
    },
    {
      "cell_type": "code",
      "metadata": {
        "id": "QXhlQH3Sl5d-"
      },
      "source": [
        "data = flags[[\"Red\",\"Green\",\"Blue\",\"Gold\",\"White\",\"Black\",\"Orange\"]]"
      ],
      "execution_count": 12,
      "outputs": []
    },
    {
      "cell_type": "markdown",
      "metadata": {
        "id": "4qmvjAH2mhGg"
      },
      "source": [
        "In order to train the model and test it's accuracy, we should split the data into a training set and a test set using the built-in function:"
      ]
    },
    {
      "cell_type": "code",
      "metadata": {
        "id": "gZv5g7yfmVnd"
      },
      "source": [
        "train_data, test_data, train_labels, test_labels = train_test_split(data, labels, random_state=1)"
      ],
      "execution_count": 14,
      "outputs": []
    },
    {
      "cell_type": "markdown",
      "metadata": {
        "id": "n5pCDQd2m0R_"
      },
      "source": [
        "To ease our work, we will use scikit-learn's nifty bulit-in library and create a DecisionTreeClassifier:"
      ]
    },
    {
      "cell_type": "code",
      "metadata": {
        "id": "uqoELIw5mt8S"
      },
      "source": [
        "tree = DecisionTreeClassifier(random_state=1)"
      ],
      "execution_count": 16,
      "outputs": []
    },
    {
      "cell_type": "markdown",
      "metadata": {
        "id": "3Ct0mjbPnB6U"
      },
      "source": [
        "We now fit the model:"
      ]
    },
    {
      "cell_type": "code",
      "metadata": {
        "colab": {
          "base_uri": "https://localhost:8080/"
        },
        "id": "pioa7AY7nHZ-",
        "outputId": "fd7c8446-db20-416a-8e40-3a172dcce0e2"
      },
      "source": [
        "tree.fit(train_data, train_labels)"
      ],
      "execution_count": 17,
      "outputs": [
        {
          "output_type": "execute_result",
          "data": {
            "text/plain": [
              "DecisionTreeClassifier(ccp_alpha=0.0, class_weight=None, criterion='gini',\n",
              "                       max_depth=None, max_features=None, max_leaf_nodes=None,\n",
              "                       min_impurity_decrease=0.0, min_impurity_split=None,\n",
              "                       min_samples_leaf=1, min_samples_split=2,\n",
              "                       min_weight_fraction_leaf=0.0, presort='deprecated',\n",
              "                       random_state=1, splitter='best')"
            ]
          },
          "metadata": {
            "tags": []
          },
          "execution_count": 17
        }
      ]
    },
    {
      "cell_type": "markdown",
      "metadata": {
        "id": "xVCVTZudnRAz"
      },
      "source": [
        "Let's see our accuracy:"
      ]
    },
    {
      "cell_type": "code",
      "metadata": {
        "colab": {
          "base_uri": "https://localhost:8080/"
        },
        "id": "meV6xRRtnICH",
        "outputId": "2d54a5f2-fcb7-4e8c-9156-137de0377204"
      },
      "source": [
        "print(tree.score(test_data,test_labels))"
      ],
      "execution_count": 18,
      "outputs": [
        {
          "output_type": "stream",
          "text": [
            "0.3469387755102041\n"
          ],
          "name": "stdout"
        }
      ]
    },
    {
      "cell_type": "markdown",
      "metadata": {
        "id": "sCoPIVNcnTS9"
      },
      "source": [
        "Since there are 6 landmasses in total, if we were to randomly guess, we'd have a probability of guessing the right landmass 16% of the time. Our model currently beats the baseline of guessing!"
      ]
    },
    {
      "cell_type": "markdown",
      "metadata": {
        "id": "f8oyc_t7nfpw"
      },
      "source": [
        "Yet, 34% accuracy seems a bit low, so let's tune the model and prune the tree."
      ]
    },
    {
      "cell_type": "markdown",
      "metadata": {
        "id": "rGedGcn5oGSY"
      },
      "source": [
        "Let's see how the accuracy changes as we vary the max_depth of the tree:"
      ]
    },
    {
      "cell_type": "code",
      "metadata": {
        "colab": {
          "base_uri": "https://localhost:8080/"
        },
        "id": "Gju7Td2inSRo",
        "outputId": "80f7d8e1-7478-4be9-801e-3c077fde7dae"
      },
      "source": [
        "for i in range(1,21,1):\r\n",
        "  train_data, test_data, train_labels, test_labels = train_test_split(data, labels, random_state=1)\r\n",
        "\r\n",
        "  tree = DecisionTreeClassifier(random_state=1, max_depth = i)\r\n",
        "  tree.fit(train_data, train_labels)\r\n",
        "  print(tree.score(test_data,test_labels))"
      ],
      "execution_count": 19,
      "outputs": [
        {
          "output_type": "stream",
          "text": [
            "0.3469387755102041\n",
            "0.22448979591836735\n",
            "0.3469387755102041\n",
            "0.32653061224489793\n",
            "0.3469387755102041\n",
            "0.3469387755102041\n",
            "0.3469387755102041\n",
            "0.3469387755102041\n",
            "0.3469387755102041\n",
            "0.3469387755102041\n",
            "0.3469387755102041\n",
            "0.3469387755102041\n",
            "0.3469387755102041\n",
            "0.3469387755102041\n",
            "0.3469387755102041\n",
            "0.3469387755102041\n",
            "0.3469387755102041\n",
            "0.3469387755102041\n",
            "0.3469387755102041\n",
            "0.3469387755102041\n"
          ],
          "name": "stdout"
        }
      ]
    },
    {
      "cell_type": "markdown",
      "metadata": {
        "id": "3JT9kR1goW7X"
      },
      "source": [
        "Rather than printing it out, let's graph it to see how the accuracy changes."
      ]
    },
    {
      "cell_type": "code",
      "metadata": {
        "id": "-p0l_Bn4oKGH"
      },
      "source": [
        "scores = []\r\n",
        "for i in range(1,21,1):\r\n",
        "  train_data, test_data, train_labels, test_labels = train_test_split(data, labels, random_state=1)\r\n",
        "\r\n",
        "  tree = DecisionTreeClassifier(random_state=1, max_depth = i)\r\n",
        "  tree.fit(train_data, train_labels)\r\n",
        "  scores.append(tree.score(test_data,test_labels))"
      ],
      "execution_count": 20,
      "outputs": []
    },
    {
      "cell_type": "code",
      "metadata": {
        "colab": {
          "base_uri": "https://localhost:8080/",
          "height": 265
        },
        "id": "v-Aypd6Hoa_X",
        "outputId": "061639de-375c-41f3-bf22-ab0d36758ac5"
      },
      "source": [
        "plt.plot(range(1,21),scores)\r\n",
        "plt.show()"
      ],
      "execution_count": 21,
      "outputs": [
        {
          "output_type": "display_data",
          "data": {
            "image/png": "[encoded data removed]",
            "text/plain": [
              "<Figure size 432x288 with 1 Axes>"
            ]
          },
          "metadata": {
            "tags": [],
            "needs_background": "light"
          }
        }
      ]
    },
    {
      "cell_type": "markdown",
      "metadata": {
        "id": "8H-aOmtGonw1"
      },
      "source": [
        "Our graph doesn’t really look like we would expect it to. It seems like the depth of the tree isn’t really having an impact on its performance. This might be a good indication that we’re not using enough features."
      ]
    },
    {
      "cell_type": "markdown",
      "metadata": {
        "id": "FsLJ1LiHopvW"
      },
      "source": [
        "Let’s add all the features that have to do with shapes to our data. data should now be set equal to:\r\n",
        "\r\n",
        "\r\n",
        "```\r\n",
        "flags[[\"Red\", \"Green\", \"Blue\", \"Gold\",\r\n",
        " \"White\", \"Black\", \"Orange\",\r\n",
        " \"Circles\",\r\n",
        "\"Crosses\",\"Saltires\",\"Quarters\",\"Sunstars\",\r\n",
        "\"Crescent\",\"Triangle\"]]\r\n",
        "```\r\n",
        "\r\n"
      ]
    },
    {
      "cell_type": "code",
      "metadata": {
        "colab": {
          "base_uri": "https://localhost:8080/",
          "height": 265
        },
        "id": "ecc_tr7woiIR",
        "outputId": "7c6226ea-76d9-4d4d-ca3d-ed0b346e57bf"
      },
      "source": [
        "labels = flags[[\"Landmass\"]]\r\n",
        "new_data = flags[[\"Red\", \"Green\", \"Blue\", \"Gold\",\r\n",
        " \"White\", \"Black\", \"Orange\",\r\n",
        " \"Circles\",\r\n",
        "\"Crosses\",\"Saltires\",\"Quarters\",\"Sunstars\",\r\n",
        "\"Crescent\",\"Triangle\"]]\r\n",
        "\r\n",
        "scores = []\r\n",
        "for i in range(1,21,1):\r\n",
        "  train_data, test_data, train_labels, test_labels = train_test_split(new_data, labels, random_state=1)\r\n",
        "\r\n",
        "  tree = DecisionTreeClassifier(random_state=1, max_depth = i)\r\n",
        "  tree.fit(train_data, train_labels)\r\n",
        "  scores.append(tree.score(test_data,test_labels))\r\n",
        "\r\n",
        "plt.plot(range(1,21),scores)\r\n",
        "plt.show()"
      ],
      "execution_count": 23,
      "outputs": [
        {
          "output_type": "display_data",
          "data": {
            "image/png": "[encoded data removed]",
            "text/plain": [
              "<Figure size 432x288 with 1 Axes>"
            ]
          },
          "metadata": {
            "tags": [],
            "needs_background": "light"
          }
        }
      ]
    },
    {
      "cell_type": "markdown",
      "metadata": {
        "id": "mVl0Xzd9pDJS"
      },
      "source": [
        "We can see that with a smaller tree depth and with more features involved, the accuracy of our model improves. Perhaps we can play around with the features and see which ones further improves the accuracy of our model. "
      ]
    },
    {
      "cell_type": "code",
      "metadata": {
        "colab": {
          "base_uri": "https://localhost:8080/",
          "height": 265
        },
        "id": "KcfiGFrYo9Gd",
        "outputId": "cac567dc-53a3-42ea-e815-0b1266c601fa"
      },
      "source": [
        "nes_data = flags[[ 'Zone', 'Area', 'Population', 'Language',\r\n",
        "       'Religion', 'Bars', 'Stripes', 'Colors', 'Red', 'Green', 'Blue', 'Gold',\r\n",
        "       'White', 'Black', 'Orange', 'Circles', 'Crosses', 'Saltires',\r\n",
        "       'Quarters', 'Sunstars', 'Crescent', 'Triangle', 'Icon', 'Animate',\r\n",
        "       'Text']]\r\n",
        "\r\n",
        "labels = flags[[\"Landmass\"]]\r\n",
        "\r\n",
        "scores = []\r\n",
        "for i in range(1,21,1):\r\n",
        "  train_data, test_data, train_labels, test_labels = train_test_split(nes_data, labels, random_state=1)\r\n",
        "\r\n",
        "  tree = DecisionTreeClassifier(random_state=1, max_depth = i)\r\n",
        "  tree.fit(train_data, train_labels)\r\n",
        "  scores.append(tree.score(test_data,test_labels))\r\n",
        "\r\n",
        "plt.plot(range(1,21),scores)\r\n",
        "plt.show()"
      ],
      "execution_count": 39,
      "outputs": [
        {
          "output_type": "display_data",
          "data": {
            "image/png": "[encoded data removed]",
            "text/plain": [
              "<Figure size 432x288 with 1 Axes>"
            ]
          },
          "metadata": {
            "tags": [],
            "needs_background": "light"
          }
        }
      ]
    },
    {
      "cell_type": "markdown",
      "metadata": {
        "id": "NSs5DS0aqPe4"
      },
      "source": [
        "We see that our model with new features used can achieve a test accuracy greater than 70%. This is good, but we can further improve the model perhaps by finding a better subset of features or tuning the hyperparameters of the model, like the number of max_leaf_nodes."
      ]
    },
    {
      "cell_type": "code",
      "metadata": {
        "colab": {
          "base_uri": "https://localhost:8080/",
          "height": 265
        },
        "id": "riwI7w8dp755",
        "outputId": "73971b09-1378-400e-bc15-5b9c75b034fc"
      },
      "source": [
        "nes_data = flags[[ 'Zone', 'Area', 'Population', 'Language',\r\n",
        "       'Religion', 'Bars', 'Stripes', 'Colors', 'Red', 'Green', 'Blue', 'Gold',\r\n",
        "       'White', 'Black', 'Orange', 'Circles', 'Crosses', 'Saltires',\r\n",
        "       'Quarters', 'Sunstars', 'Crescent', 'Triangle', 'Icon', 'Animate',\r\n",
        "       'Text']]\r\n",
        "\r\n",
        "labels = flags[[\"Landmass\"]]\r\n",
        "\r\n",
        "scores = []\r\n",
        "for i in range(1,21,1):\r\n",
        "  train_data, test_data, train_labels, test_labels = train_test_split(nes_data, labels, random_state=1)\r\n",
        "\r\n",
        "  tree = DecisionTreeClassifier(random_state=1, max_depth = i, max_leaf_nodes=6)\r\n",
        "  tree.fit(train_data, train_labels)\r\n",
        "  scores.append(tree.score(test_data,test_labels))\r\n",
        "\r\n",
        "plt.plot(range(1,21),scores)\r\n",
        "plt.show()"
      ],
      "execution_count": 40,
      "outputs": [
        {
          "output_type": "display_data",
          "data": {
            "image/png": "[encoded data removed]",
            "text/plain": [
              "<Figure size 432x288 with 1 Axes>"
            ]
          },
          "metadata": {
            "tags": [],
            "needs_background": "light"
          }
        }
      ]
    },
    {
      "cell_type": "code",
      "metadata": {
        "id": "FX0N8fV9qy_8"
      },
      "source": [
        ""
      ],
      "execution_count": null,
      "outputs": []
    }
  ]
}