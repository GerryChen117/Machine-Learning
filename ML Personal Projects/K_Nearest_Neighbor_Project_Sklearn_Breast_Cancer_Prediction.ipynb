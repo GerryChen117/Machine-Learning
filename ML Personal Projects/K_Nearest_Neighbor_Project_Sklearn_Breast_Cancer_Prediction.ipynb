{
  "nbformat": 4,
  "nbformat_minor": 0,
  "metadata": {
    "colab": {
      "name": "K-Nearest Neighbor Project: Sklearn Breast Cancer Prediction.ipynb",
      "provenance": [],
      "collapsed_sections": []
    },
    "kernelspec": {
      "name": "python3",
      "display_name": "Python 3"
    }
  },
  "cells": [
    {
      "cell_type": "markdown",
      "metadata": {
        "id": "h0eUZzrWU2ug"
      },
      "source": [
        "# Project: Breast Cancer Classification"
      ]
    },
    {
      "cell_type": "markdown",
      "metadata": {
        "id": "_Klu656pU-Kj"
      },
      "source": [
        "**In this project, I will be using several Python libraries to construct a K-Nearest Neighbor classifier that is trained to predict whether a patient has breast cancer given data pulled from sklearn.**"
      ]
    },
    {
      "cell_type": "markdown",
      "metadata": {
        "id": "_k6MYrpVVEJ_"
      },
      "source": [
        "\n",
        "Let’s begin by importing the breast cancer data from sklearn. We can do so by importing 'load_breast_cancer' from 'sklearn.datasets'.\n",
        "\n",
        "After that, let’s load the data into a variable called breast_cancer_data. We do this by setting breast_cancer_data equal to the function load_breast_cancer( )."
      ]
    },
    {
      "cell_type": "code",
      "metadata": {
        "id": "SVwzZVCWU6bl"
      },
      "source": [
        "from sklearn.datasets import load_breast_cancer\n",
        "\n",
        "breast_cancer_data = load_breast_cancer()"
      ],
      "execution_count": null,
      "outputs": []
    },
    {
      "cell_type": "markdown",
      "metadata": {
        "id": "sNbtpGpXVblj"
      },
      "source": [
        "\n",
        "Before we get to making our classifier, let's look at the data's structure and understand how we can retrieve information. We do so by printing breast_cancer_data.data[0]. This provides the first datapoint in our set. But this is just a list of numbers, let's see what features those numbers represent by also printing breast_cancer_data.feature_names."
      ]
    },
    {
      "cell_type": "code",
      "metadata": {
        "id": "KMpY-vFqWw7S",
        "outputId": "618778ad-73f1-41ff-c7a3-5641b620c462",
        "colab": {
          "base_uri": "https://localhost:8080/"
        }
      },
      "source": [
        "print(breast_cancer_data.data[0])  # To see the first datapoint in our set\n",
        "print(breast_cancer_data.feature_names) # To see what each value in the first print statement represents"
      ],
      "execution_count": null,
      "outputs": [
        {
          "output_type": "stream",
          "text": [
            "[1.799e+01 1.038e+01 1.228e+02 1.001e+03 1.184e-01 2.776e-01 3.001e-01\n",
            " 1.471e-01 2.419e-01 7.871e-02 1.095e+00 9.053e-01 8.589e+00 1.534e+02\n",
            " 6.399e-03 4.904e-02 5.373e-02 1.587e-02 3.003e-02 6.193e-03 2.538e+01\n",
            " 1.733e+01 1.846e+02 2.019e+03 1.622e-01 6.656e-01 7.119e-01 2.654e-01\n",
            " 4.601e-01 1.189e-01]\n",
            "['mean radius' 'mean texture' 'mean perimeter' 'mean area'\n",
            " 'mean smoothness' 'mean compactness' 'mean concavity'\n",
            " 'mean concave points' 'mean symmetry' 'mean fractal dimension'\n",
            " 'radius error' 'texture error' 'perimeter error' 'area error'\n",
            " 'smoothness error' 'compactness error' 'concavity error'\n",
            " 'concave points error' 'symmetry error' 'fractal dimension error'\n",
            " 'worst radius' 'worst texture' 'worst perimeter' 'worst area'\n",
            " 'worst smoothness' 'worst compactness' 'worst concavity'\n",
            " 'worst concave points' 'worst symmetry' 'worst fractal dimension']\n"
          ],
          "name": "stdout"
        }
      ]
    },
    {
      "cell_type": "markdown",
      "metadata": {
        "id": "P71GZVKRVTxR"
      },
      "source": [
        "Cool! We know what the data looks like, but what are we trying to classify? Let’s print both breast_cancer_data.target and breast_cancer_data.target_names.\n",
        "\n",
        "We see below that a 0 represents a 'malignant' tumor while a 1 represents 'benign'. "
      ]
    },
    {
      "cell_type": "code",
      "metadata": {
        "id": "rF5FWbEgW_g6",
        "outputId": "96bc3347-7fd6-4f70-fdbd-e49c6907c0d8",
        "colab": {
          "base_uri": "https://localhost:8080/"
        }
      },
      "source": [
        "print(breast_cancer_data.target)\n",
        "print(breast_cancer_data.target_names)"
      ],
      "execution_count": null,
      "outputs": [
        {
          "output_type": "stream",
          "text": [
            "[0 0 0 0 0 0 0 0 0 0 0 0 0 0 0 0 0 0 0 1 1 1 0 0 0 0 0 0 0 0 0 0 0 0 0 0 0\n",
            " 1 0 0 0 0 0 0 0 0 1 0 1 1 1 1 1 0 0 1 0 0 1 1 1 1 0 1 0 0 1 1 1 1 0 1 0 0\n",
            " 1 0 1 0 0 1 1 1 0 0 1 0 0 0 1 1 1 0 1 1 0 0 1 1 1 0 0 1 1 1 1 0 1 1 0 1 1\n",
            " 1 1 1 1 1 1 0 0 0 1 0 0 1 1 1 0 0 1 0 1 0 0 1 0 0 1 1 0 1 1 0 1 1 1 1 0 1\n",
            " 1 1 1 1 1 1 1 1 0 1 1 1 1 0 0 1 0 1 1 0 0 1 1 0 0 1 1 1 1 0 1 1 0 0 0 1 0\n",
            " 1 0 1 1 1 0 1 1 0 0 1 0 0 0 0 1 0 0 0 1 0 1 0 1 1 0 1 0 0 0 0 1 1 0 0 1 1\n",
            " 1 0 1 1 1 1 1 0 0 1 1 0 1 1 0 0 1 0 1 1 1 1 0 1 1 1 1 1 0 1 0 0 0 0 0 0 0\n",
            " 0 0 0 0 0 0 0 1 1 1 1 1 1 0 1 0 1 1 0 1 1 0 1 0 0 1 1 1 1 1 1 1 1 1 1 1 1\n",
            " 1 0 1 1 0 1 0 1 1 1 1 1 1 1 1 1 1 1 1 1 1 0 1 1 1 0 1 0 1 1 1 1 0 0 0 1 1\n",
            " 1 1 0 1 0 1 0 1 1 1 0 1 1 1 1 1 1 1 0 0 0 1 1 1 1 1 1 1 1 1 1 1 0 0 1 0 0\n",
            " 0 1 0 0 1 1 1 1 1 0 1 1 1 1 1 0 1 1 1 0 1 1 0 0 1 1 1 1 1 1 0 1 1 1 1 1 1\n",
            " 1 0 1 1 1 1 1 0 1 1 0 1 1 1 1 1 1 1 1 1 1 1 1 0 1 0 0 1 0 1 1 1 1 1 0 1 1\n",
            " 0 1 0 1 1 0 1 0 1 1 1 1 1 1 1 1 0 0 1 1 1 1 1 1 0 1 1 1 1 1 1 1 1 1 1 0 1\n",
            " 1 1 1 1 1 1 0 1 0 1 1 0 1 1 1 1 1 0 0 1 0 1 0 1 1 1 1 1 0 1 1 0 1 0 1 0 0\n",
            " 1 1 1 0 1 1 1 1 1 1 1 1 1 1 1 0 1 0 0 1 1 1 1 1 1 1 1 1 1 1 1 1 1 1 1 1 1\n",
            " 1 1 1 1 1 1 1 0 0 0 0 0 0 1]\n",
            "['malignant' 'benign']\n"
          ],
          "name": "stdout"
        }
      ]
    },
    {
      "cell_type": "markdown",
      "metadata": {
        "id": "Rz1QAUGKXWE8"
      },
      "source": [
        "**Splitting the data into Training and Validation Sets**\n",
        "\n",
        "We have our data, so our next step is split it into training and validation sets. Luckily, sklearn has a function that does that for us. Let's import the train_test_split function from sklearn.model_selection."
      ]
    },
    {
      "cell_type": "code",
      "metadata": {
        "id": "Mwmag5TlXMYl"
      },
      "source": [
        "from sklearn.model_selection import train_test_split"
      ],
      "execution_count": null,
      "outputs": []
    },
    {
      "cell_type": "markdown",
      "metadata": {
        "id": "breZGT4FXuWL"
      },
      "source": [
        "The train_test_split function uses several parameters to work.\n",
        "\n",
        "The parameter order goes:\n",
        "1. The data we're about to split (for us breast_cancer_data.data)\n",
        "2. The respective labels for the data (for us, breast_cancer_data.target)\n",
        "3. The test_size. This is what percentage of your data you want to be in your testing set. Let’s use test_size = 0.2\n",
        "4. random_state. This will ensure that every time you run your code, the data is split in the same way. This can be any number. We used random_state = 100."
      ]
    },
    {
      "cell_type": "code",
      "metadata": {
        "id": "4JTo5ziDXf3J"
      },
      "source": [
        "training_data, validation_data, training_labels, validation_labels = train_test_split(breast_cancer_data.data, breast_cancer_data.target, train_size = 0.8, test_size = 0.2, random_state = 100)"
      ],
      "execution_count": null,
      "outputs": []
    },
    {
      "cell_type": "markdown",
      "metadata": {
        "id": "Rvm2V50YYQb0"
      },
      "source": [
        "\n",
        "Let's see if that worked the way we intended by printing out the length of training_data and training_labels. They should be the same size, as there should be one label for every piece of data."
      ]
    },
    {
      "cell_type": "code",
      "metadata": {
        "id": "qmmBXIGKX1b4",
        "outputId": "ec5660fc-bb2e-4f3a-f574-453936e3dc0a",
        "colab": {
          "base_uri": "https://localhost:8080/"
        }
      },
      "source": [
        "print(len(training_data))\n",
        "print(len(training_labels))"
      ],
      "execution_count": null,
      "outputs": [
        {
          "output_type": "stream",
          "text": [
            "455\n",
            "455\n"
          ],
          "name": "stdout"
        }
      ]
    },
    {
      "cell_type": "markdown",
      "metadata": {
        "id": "P634KmbCYY45"
      },
      "source": [
        "Now that we’ve created training and validation sets, we can create a KNeighborsClassifier and test its accuracy. Let's importing KNeighborsClassifier from sklearn.neighbors, then create a KNeighborsClassifier where n_neighbors = 3. Name the classifier classifier."
      ]
    },
    {
      "cell_type": "code",
      "metadata": {
        "id": "vR7kjzJvYRnj"
      },
      "source": [
        "from sklearn.neighbors import KNeighborsClassifier\n",
        "\n",
        "classifier = KNeighborsClassifier(n_neighbors = 3)"
      ],
      "execution_count": null,
      "outputs": []
    },
    {
      "cell_type": "markdown",
      "metadata": {
        "id": "tUrJM2J6YkyP"
      },
      "source": [
        "We now train the classifier using the fit function. This function takes two parameters: the training set and the training labels."
      ]
    },
    {
      "cell_type": "code",
      "metadata": {
        "id": "1r2mBgfmYlXp",
        "outputId": "bc60cb7f-189e-4864-b54b-6057d4e86ffe",
        "colab": {
          "base_uri": "https://localhost:8080/"
        }
      },
      "source": [
        "classifier.fit(training_data, training_labels)\n"
      ],
      "execution_count": null,
      "outputs": [
        {
          "output_type": "execute_result",
          "data": {
            "text/plain": [
              "KNeighborsClassifier(algorithm='auto', leaf_size=30, metric='minkowski',\n",
              "                     metric_params=None, n_jobs=None, n_neighbors=3, p=2,\n",
              "                     weights='uniform')"
            ]
          },
          "metadata": {
            "tags": []
          },
          "execution_count": 8
        }
      ]
    },
    {
      "cell_type": "markdown",
      "metadata": {
        "id": "jRSEU81PY3A_"
      },
      "source": [
        "Now that the classifier has been trained, let’s find how accurate it is on the validation set by calling and printing the classifier’s score function. score takes two parameters: the validation set and the validation labels.\n",
        "\n",
        "\n"
      ]
    },
    {
      "cell_type": "code",
      "metadata": {
        "id": "4hdWuhMxYrl9",
        "outputId": "b054aec7-1069-4a6a-e531-7a0a340afbe7",
        "colab": {
          "base_uri": "https://localhost:8080/"
        }
      },
      "source": [
        "print(classifier.score(validation_data, validation_labels))"
      ],
      "execution_count": null,
      "outputs": [
        {
          "output_type": "stream",
          "text": [
            "0.9473684210526315\n"
          ],
          "name": "stdout"
        }
      ]
    },
    {
      "cell_type": "markdown",
      "metadata": {
        "id": "5jz52nS-Y-TS"
      },
      "source": [
        "The classifier does pretty well when k = 3. But maybe there’s a better k! Let's plot it out as we range the k values from 1 to 100 and finding the validation accuracy. We should now see 100 different validation accuracies in a graph and be able to determine the best K value. "
      ]
    },
    {
      "cell_type": "code",
      "metadata": {
        "id": "u-e5HPvHZes7"
      },
      "source": [
        "from matplotlib import pyplot as plt"
      ],
      "execution_count": null,
      "outputs": []
    },
    {
      "cell_type": "code",
      "metadata": {
        "id": "T3ICssNPY4vz",
        "outputId": "8e0553b8-2ff2-4837-96e2-213460b7e072",
        "colab": {
          "base_uri": "https://localhost:8080/",
          "height": 312
        }
      },
      "source": [
        "x_axis = []\n",
        "y_axis = []\n",
        "\n",
        "for k in range(1,100,1):\n",
        "  x_axis.append(k)\n",
        "  classifier = KNeighborsClassifier(n_neighbors = k)\n",
        "  classifier.fit(training_data, training_labels)\n",
        "  y_axis.append(classifier.score(validation_data, validation_labels))\n",
        "\n",
        "plt.plot(x_axis, y_axis)\n",
        "plt.xlabel(\"K Value\")\n",
        "plt.ylabel(\"Validation Accuracy\")\n",
        "plt.title(\"Breast Cancer Classifier Accuracy\")\n",
        "plt.show"
      ],
      "execution_count": null,
      "outputs": [
        {
          "output_type": "execute_result",
          "data": {
            "text/plain": [
              "<function matplotlib.pyplot.show>"
            ]
          },
          "metadata": {
            "tags": []
          },
          "execution_count": 11
        },
        {
          "output_type": "display_data",
          "data": {
            "image/png": "[encoded data removed]",
            "text/plain": [
              "<Figure size 432x288 with 1 Axes>"
            ]
          },
          "metadata": {
            "tags": [],
            "needs_background": "light"
          }
        }
      ]
    },
    {
      "cell_type": "markdown",
      "metadata": {
        "id": "GMnuZBKzaXze"
      },
      "source": [
        "It seems a K value around 21 does best!"
      ]
    }
  ]
}