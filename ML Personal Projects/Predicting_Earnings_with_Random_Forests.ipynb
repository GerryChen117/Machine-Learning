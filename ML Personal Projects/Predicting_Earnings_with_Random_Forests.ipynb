{
  "nbformat": 4,
  "nbformat_minor": 0,
  "metadata": {
    "colab": {
      "name": "Predicting Earnings with Random Forests.ipynb",
      "provenance": [],
      "collapsed_sections": []
    },
    "kernelspec": {
      "name": "python3",
      "display_name": "Python 3"
    }
  },
  "cells": [
    {
      "cell_type": "markdown",
      "metadata": {
        "id": "sWE28j0XEvba"
      },
      "source": [
        "# Predicting Earnings with Random Forests"
      ]
    },
    {
      "cell_type": "code",
      "metadata": {
        "colab": {
          "base_uri": "https://localhost:8080/"
        },
        "id": "mJTSTYz9Esq7",
        "outputId": "7ae873e3-f0f4-4785-ae31-03c46a113696"
      },
      "source": [
        "# Mount the drive for file upload\r\n",
        "from google.colab import drive\r\n",
        "drive.mount('/content/drive')"
      ],
      "execution_count": 1,
      "outputs": [
        {
          "output_type": "stream",
          "text": [
            "Mounted at /content/drive\n"
          ],
          "name": "stdout"
        }
      ]
    },
    {
      "cell_type": "code",
      "metadata": {
        "id": "9giUeXSoFYKc"
      },
      "source": [
        "import pandas as pd\r\n",
        "from sklearn.model_selection import train_test_split\r\n",
        "from sklearn import tree\r\n",
        "from sklearn.ensemble import RandomForestClassifier"
      ],
      "execution_count": 2,
      "outputs": []
    },
    {
      "cell_type": "markdown",
      "metadata": {
        "id": "CkgdBdO7FP88"
      },
      "source": [
        "Since the first row of our file contains the names of the columns, we also want to add the argument header = 0."
      ]
    },
    {
      "cell_type": "code",
      "metadata": {
        "id": "ahUkYsHlFZaR"
      },
      "source": [
        "directory = '/content/drive/MyDrive/Colab Notebooks/Codacademy Machine Learning/Decision Trees/Random Forest/earning.csv'\r\n",
        "income_data = pd.read_csv(directory, header = 0)"
      ],
      "execution_count": 3,
      "outputs": []
    },
    {
      "cell_type": "markdown",
      "metadata": {
        "id": "3n7PQNztGLSf"
      },
      "source": [
        "To see one row of the data we are provided:\r\n",
        "\r\n",
        "\r\n",
        "```\r\n",
        "income_data.iloc[0]\r\n",
        "```\r\n",
        "\r\n"
      ]
    },
    {
      "cell_type": "code",
      "metadata": {
        "colab": {
          "base_uri": "https://localhost:8080/"
        },
        "id": "px00cpCmP9_N",
        "outputId": "ab8a8a5a-2686-4dbe-bda2-35c4485f797f"
      },
      "source": [
        "print(income_data.columns)"
      ],
      "execution_count": 25,
      "outputs": [
        {
          "output_type": "stream",
          "text": [
            "Index(['age', 'workclass', 'fnlwgt', 'education', 'education-num',\n",
            "       'marital-status', 'occupation', 'relationship', 'race', 'sex',\n",
            "       'capital-gain', 'capital-loss', 'hours-per-week', 'native-country',\n",
            "       'income', 'sex-int', 'native-country-new'],\n",
            "      dtype='object')\n"
          ],
          "name": "stdout"
        }
      ]
    },
    {
      "cell_type": "code",
      "metadata": {
        "colab": {
          "base_uri": "https://localhost:8080/"
        },
        "id": "GBW8L1M9F4BL",
        "outputId": "55bad93e-0946-4532-9484-7369ca2c0919"
      },
      "source": [
        "income_data.iloc[0]"
      ],
      "execution_count": 4,
      "outputs": [
        {
          "output_type": "execute_result",
          "data": {
            "text/plain": [
              "age                            39\n",
              " workclass              State-gov\n",
              " fnlwgt                     77516\n",
              " education              Bachelors\n",
              " education-num                 13\n",
              " marital-status     Never-married\n",
              " occupation          Adm-clerical\n",
              " relationship       Not-in-family\n",
              " race                       White\n",
              " sex                         Male\n",
              " capital-gain                2174\n",
              " capital-loss                   0\n",
              " hours-per-week                40\n",
              " native-country     United-States\n",
              " income                     <=50K\n",
              "Name: 0, dtype: object"
            ]
          },
          "metadata": {
            "tags": []
          },
          "execution_count": 4
        }
      ]
    },
    {
      "cell_type": "markdown",
      "metadata": {
        "id": "F1DtwIdKGSnS"
      },
      "source": [
        "We see the column called income tells us what we want to know, the income. "
      ]
    },
    {
      "cell_type": "markdown",
      "metadata": {
        "id": "2zAOojo8It6i"
      },
      "source": [
        "Note, every string has an extra space at the start. For example, the first row’s native-country is \" United-States\", but we want it to be \"United-States\". This is happening because in income.csv there are spaces after the commas. To fix this, we can add the parameter delimiter = \", \" to our read_csv() function."
      ]
    },
    {
      "cell_type": "code",
      "metadata": {
        "colab": {
          "base_uri": "https://localhost:8080/"
        },
        "id": "wtmhd6MCGRk_",
        "outputId": "47e2a701-fbcf-43d0-ab2c-b449dec02b87"
      },
      "source": [
        "income_data = pd.read_csv(directory, header = 0, delimiter = \", \")"
      ],
      "execution_count": 6,
      "outputs": [
        {
          "output_type": "stream",
          "text": [
            "/usr/local/lib/python3.6/dist-packages/ipykernel_launcher.py:1: ParserWarning: Falling back to the 'python' engine because the 'c' engine does not support regex separators (separators > 1 char and different from '\\s+' are interpreted as regex); you can avoid this warning by specifying engine='python'.\n",
            "  \"\"\"Entry point for launching an IPython kernel.\n"
          ],
          "name": "stderr"
        }
      ]
    },
    {
      "cell_type": "markdown",
      "metadata": {
        "id": "2-ubZGXoI7hV"
      },
      "source": [
        "Now we can start building the Random Forest model. In this case, our label would be the \"income\" column. "
      ]
    },
    {
      "cell_type": "code",
      "metadata": {
        "colab": {
          "base_uri": "https://localhost:8080/"
        },
        "id": "lc6e33B8Iwep",
        "outputId": "6ad4d84a-3061-46d2-fe56-26f97f9006a0"
      },
      "source": [
        "labels = income_data[[\"income\"]]\r\n",
        "print(labels)"
      ],
      "execution_count": 7,
      "outputs": [
        {
          "output_type": "stream",
          "text": [
            "      income\n",
            "0      <=50K\n",
            "1      <=50K\n",
            "2      <=50K\n",
            "3      <=50K\n",
            "4      <=50K\n",
            "...      ...\n",
            "32556  <=50K\n",
            "32557   >50K\n",
            "32558  <=50K\n",
            "32559  <=50K\n",
            "32560   >50K\n",
            "\n",
            "[32561 rows x 1 columns]\n"
          ],
          "name": "stdout"
        }
      ]
    },
    {
      "cell_type": "markdown",
      "metadata": {
        "id": "vvXyDYnXJgnR"
      },
      "source": [
        "Now we can pick which features from the dataset we want to use to train our model. "
      ]
    },
    {
      "cell_type": "code",
      "metadata": {
        "id": "Wccio-sCJdFF"
      },
      "source": [
        "data = income_data[[\"age\",\"capital-gain\",\"capital-loss\",\"hours-per-week\",\"sex\"]]"
      ],
      "execution_count": 8,
      "outputs": []
    },
    {
      "cell_type": "markdown",
      "metadata": {
        "id": "iY5y11sDJzQM"
      },
      "source": [
        "Since we have our data and labels, we should split them into training and testing sets. "
      ]
    },
    {
      "cell_type": "code",
      "metadata": {
        "id": "Y4MJk88-JwAg"
      },
      "source": [
        "train_data, test_data, train_labels, test_labels = train_test_split(data, labels, random_state=1)"
      ],
      "execution_count": 9,
      "outputs": []
    },
    {
      "cell_type": "markdown",
      "metadata": {
        "id": "N8MWZi2fKBg0"
      },
      "source": [
        "We are ready to create the Random Forest classifier using scikit learn!"
      ]
    },
    {
      "cell_type": "code",
      "metadata": {
        "id": "Dl7XR_idKARa"
      },
      "source": [
        "forest = RandomForestClassifier(random_state=1)"
      ],
      "execution_count": 10,
      "outputs": []
    },
    {
      "cell_type": "code",
      "metadata": {
        "colab": {
          "base_uri": "https://localhost:8080/",
          "height": 306
        },
        "id": "Xdq--g6cKLP3",
        "outputId": "f5f5df88-8b1c-4255-c598-2b23803d23b2"
      },
      "source": [
        "forest.fit(train_data, train_labels)"
      ],
      "execution_count": 11,
      "outputs": [
        {
          "output_type": "error",
          "ename": "ValueError",
          "evalue": "ignored",
          "traceback": [
            "\u001b[0;31m---------------------------------------------------------------------------\u001b[0m",
            "\u001b[0;31mValueError\u001b[0m                                Traceback (most recent call last)",
            "\u001b[0;32m<ipython-input-11-94c17d6bac58>\u001b[0m in \u001b[0;36m<module>\u001b[0;34m()\u001b[0m\n\u001b[0;32m----> 1\u001b[0;31m \u001b[0mforest\u001b[0m\u001b[0;34m.\u001b[0m\u001b[0mfit\u001b[0m\u001b[0;34m(\u001b[0m\u001b[0mtrain_data\u001b[0m\u001b[0;34m,\u001b[0m \u001b[0mtrain_labels\u001b[0m\u001b[0;34m)\u001b[0m\u001b[0;34m\u001b[0m\u001b[0;34m\u001b[0m\u001b[0m\n\u001b[0m",
            "\u001b[0;32m/usr/local/lib/python3.6/dist-packages/sklearn/ensemble/_forest.py\u001b[0m in \u001b[0;36mfit\u001b[0;34m(self, X, y, sample_weight)\u001b[0m\n\u001b[1;32m    293\u001b[0m         \"\"\"\n\u001b[1;32m    294\u001b[0m         \u001b[0;31m# Validate or convert input data\u001b[0m\u001b[0;34m\u001b[0m\u001b[0;34m\u001b[0m\u001b[0;34m\u001b[0m\u001b[0m\n\u001b[0;32m--> 295\u001b[0;31m         \u001b[0mX\u001b[0m \u001b[0;34m=\u001b[0m \u001b[0mcheck_array\u001b[0m\u001b[0;34m(\u001b[0m\u001b[0mX\u001b[0m\u001b[0;34m,\u001b[0m \u001b[0maccept_sparse\u001b[0m\u001b[0;34m=\u001b[0m\u001b[0;34m\"csc\"\u001b[0m\u001b[0;34m,\u001b[0m \u001b[0mdtype\u001b[0m\u001b[0;34m=\u001b[0m\u001b[0mDTYPE\u001b[0m\u001b[0;34m)\u001b[0m\u001b[0;34m\u001b[0m\u001b[0;34m\u001b[0m\u001b[0m\n\u001b[0m\u001b[1;32m    296\u001b[0m         \u001b[0my\u001b[0m \u001b[0;34m=\u001b[0m \u001b[0mcheck_array\u001b[0m\u001b[0;34m(\u001b[0m\u001b[0my\u001b[0m\u001b[0;34m,\u001b[0m \u001b[0maccept_sparse\u001b[0m\u001b[0;34m=\u001b[0m\u001b[0;34m'csc'\u001b[0m\u001b[0;34m,\u001b[0m \u001b[0mensure_2d\u001b[0m\u001b[0;34m=\u001b[0m\u001b[0;32mFalse\u001b[0m\u001b[0;34m,\u001b[0m \u001b[0mdtype\u001b[0m\u001b[0;34m=\u001b[0m\u001b[0;32mNone\u001b[0m\u001b[0;34m)\u001b[0m\u001b[0;34m\u001b[0m\u001b[0;34m\u001b[0m\u001b[0m\n\u001b[1;32m    297\u001b[0m         \u001b[0;32mif\u001b[0m \u001b[0msample_weight\u001b[0m \u001b[0;32mis\u001b[0m \u001b[0;32mnot\u001b[0m \u001b[0;32mNone\u001b[0m\u001b[0;34m:\u001b[0m\u001b[0;34m\u001b[0m\u001b[0;34m\u001b[0m\u001b[0m\n",
            "\u001b[0;32m/usr/local/lib/python3.6/dist-packages/sklearn/utils/validation.py\u001b[0m in \u001b[0;36mcheck_array\u001b[0;34m(array, accept_sparse, accept_large_sparse, dtype, order, copy, force_all_finite, ensure_2d, allow_nd, ensure_min_samples, ensure_min_features, warn_on_dtype, estimator)\u001b[0m\n\u001b[1;32m    529\u001b[0m                     \u001b[0marray\u001b[0m \u001b[0;34m=\u001b[0m \u001b[0marray\u001b[0m\u001b[0;34m.\u001b[0m\u001b[0mastype\u001b[0m\u001b[0;34m(\u001b[0m\u001b[0mdtype\u001b[0m\u001b[0;34m,\u001b[0m \u001b[0mcasting\u001b[0m\u001b[0;34m=\u001b[0m\u001b[0;34m\"unsafe\"\u001b[0m\u001b[0;34m,\u001b[0m \u001b[0mcopy\u001b[0m\u001b[0;34m=\u001b[0m\u001b[0;32mFalse\u001b[0m\u001b[0;34m)\u001b[0m\u001b[0;34m\u001b[0m\u001b[0;34m\u001b[0m\u001b[0m\n\u001b[1;32m    530\u001b[0m                 \u001b[0;32melse\u001b[0m\u001b[0;34m:\u001b[0m\u001b[0;34m\u001b[0m\u001b[0;34m\u001b[0m\u001b[0m\n\u001b[0;32m--> 531\u001b[0;31m                     \u001b[0marray\u001b[0m \u001b[0;34m=\u001b[0m \u001b[0mnp\u001b[0m\u001b[0;34m.\u001b[0m\u001b[0masarray\u001b[0m\u001b[0;34m(\u001b[0m\u001b[0marray\u001b[0m\u001b[0;34m,\u001b[0m \u001b[0morder\u001b[0m\u001b[0;34m=\u001b[0m\u001b[0morder\u001b[0m\u001b[0;34m,\u001b[0m \u001b[0mdtype\u001b[0m\u001b[0;34m=\u001b[0m\u001b[0mdtype\u001b[0m\u001b[0;34m)\u001b[0m\u001b[0;34m\u001b[0m\u001b[0;34m\u001b[0m\u001b[0m\n\u001b[0m\u001b[1;32m    532\u001b[0m             \u001b[0;32mexcept\u001b[0m \u001b[0mComplexWarning\u001b[0m\u001b[0;34m:\u001b[0m\u001b[0;34m\u001b[0m\u001b[0;34m\u001b[0m\u001b[0m\n\u001b[1;32m    533\u001b[0m                 raise ValueError(\"Complex data not supported\\n\"\n",
            "\u001b[0;32m/usr/local/lib/python3.6/dist-packages/numpy/core/_asarray.py\u001b[0m in \u001b[0;36masarray\u001b[0;34m(a, dtype, order)\u001b[0m\n\u001b[1;32m     81\u001b[0m \u001b[0;34m\u001b[0m\u001b[0m\n\u001b[1;32m     82\u001b[0m     \"\"\"\n\u001b[0;32m---> 83\u001b[0;31m     \u001b[0;32mreturn\u001b[0m \u001b[0marray\u001b[0m\u001b[0;34m(\u001b[0m\u001b[0ma\u001b[0m\u001b[0;34m,\u001b[0m \u001b[0mdtype\u001b[0m\u001b[0;34m,\u001b[0m \u001b[0mcopy\u001b[0m\u001b[0;34m=\u001b[0m\u001b[0;32mFalse\u001b[0m\u001b[0;34m,\u001b[0m \u001b[0morder\u001b[0m\u001b[0;34m=\u001b[0m\u001b[0morder\u001b[0m\u001b[0;34m)\u001b[0m\u001b[0;34m\u001b[0m\u001b[0;34m\u001b[0m\u001b[0m\n\u001b[0m\u001b[1;32m     84\u001b[0m \u001b[0;34m\u001b[0m\u001b[0m\n\u001b[1;32m     85\u001b[0m \u001b[0;34m\u001b[0m\u001b[0m\n",
            "\u001b[0;32m/usr/local/lib/python3.6/dist-packages/pandas/core/generic.py\u001b[0m in \u001b[0;36m__array__\u001b[0;34m(self, dtype)\u001b[0m\n\u001b[1;32m   1779\u001b[0m \u001b[0;34m\u001b[0m\u001b[0m\n\u001b[1;32m   1780\u001b[0m     \u001b[0;32mdef\u001b[0m \u001b[0m__array__\u001b[0m\u001b[0;34m(\u001b[0m\u001b[0mself\u001b[0m\u001b[0;34m,\u001b[0m \u001b[0mdtype\u001b[0m\u001b[0;34m=\u001b[0m\u001b[0;32mNone\u001b[0m\u001b[0;34m)\u001b[0m \u001b[0;34m->\u001b[0m \u001b[0mnp\u001b[0m\u001b[0;34m.\u001b[0m\u001b[0mndarray\u001b[0m\u001b[0;34m:\u001b[0m\u001b[0;34m\u001b[0m\u001b[0;34m\u001b[0m\u001b[0m\n\u001b[0;32m-> 1781\u001b[0;31m         \u001b[0;32mreturn\u001b[0m \u001b[0mnp\u001b[0m\u001b[0;34m.\u001b[0m\u001b[0masarray\u001b[0m\u001b[0;34m(\u001b[0m\u001b[0mself\u001b[0m\u001b[0;34m.\u001b[0m\u001b[0m_values\u001b[0m\u001b[0;34m,\u001b[0m \u001b[0mdtype\u001b[0m\u001b[0;34m=\u001b[0m\u001b[0mdtype\u001b[0m\u001b[0;34m)\u001b[0m\u001b[0;34m\u001b[0m\u001b[0;34m\u001b[0m\u001b[0m\n\u001b[0m\u001b[1;32m   1782\u001b[0m \u001b[0;34m\u001b[0m\u001b[0m\n\u001b[1;32m   1783\u001b[0m     \u001b[0;32mdef\u001b[0m \u001b[0m__array_wrap__\u001b[0m\u001b[0;34m(\u001b[0m\u001b[0mself\u001b[0m\u001b[0;34m,\u001b[0m \u001b[0mresult\u001b[0m\u001b[0;34m,\u001b[0m \u001b[0mcontext\u001b[0m\u001b[0;34m=\u001b[0m\u001b[0;32mNone\u001b[0m\u001b[0;34m)\u001b[0m\u001b[0;34m:\u001b[0m\u001b[0;34m\u001b[0m\u001b[0;34m\u001b[0m\u001b[0m\n",
            "\u001b[0;32m/usr/local/lib/python3.6/dist-packages/numpy/core/_asarray.py\u001b[0m in \u001b[0;36masarray\u001b[0;34m(a, dtype, order)\u001b[0m\n\u001b[1;32m     81\u001b[0m \u001b[0;34m\u001b[0m\u001b[0m\n\u001b[1;32m     82\u001b[0m     \"\"\"\n\u001b[0;32m---> 83\u001b[0;31m     \u001b[0;32mreturn\u001b[0m \u001b[0marray\u001b[0m\u001b[0;34m(\u001b[0m\u001b[0ma\u001b[0m\u001b[0;34m,\u001b[0m \u001b[0mdtype\u001b[0m\u001b[0;34m,\u001b[0m \u001b[0mcopy\u001b[0m\u001b[0;34m=\u001b[0m\u001b[0;32mFalse\u001b[0m\u001b[0;34m,\u001b[0m \u001b[0morder\u001b[0m\u001b[0;34m=\u001b[0m\u001b[0morder\u001b[0m\u001b[0;34m)\u001b[0m\u001b[0;34m\u001b[0m\u001b[0;34m\u001b[0m\u001b[0m\n\u001b[0m\u001b[1;32m     84\u001b[0m \u001b[0;34m\u001b[0m\u001b[0m\n\u001b[1;32m     85\u001b[0m \u001b[0;34m\u001b[0m\u001b[0m\n",
            "\u001b[0;31mValueError\u001b[0m: could not convert string to float: 'Female'"
          ]
        }
      ]
    },
    {
      "cell_type": "markdown",
      "metadata": {
        "id": "hkNLLIynKZCt"
      },
      "source": [
        "There's an error where the feature of \"sex\" is a float and cannot be fitted. We will fix this later, for now, we remove the \"sex\" feature."
      ]
    },
    {
      "cell_type": "code",
      "metadata": {
        "id": "Hxt9r3WPKQwK"
      },
      "source": [
        "data = income_data[[\"age\",\"capital-gain\",\"capital-loss\",\"hours-per-week\"]]"
      ],
      "execution_count": 12,
      "outputs": []
    },
    {
      "cell_type": "code",
      "metadata": {
        "id": "VxAAJmB5Kilz"
      },
      "source": [
        "train_data, test_data, train_labels, test_labels = train_test_split(data, labels, random_state=1)"
      ],
      "execution_count": 13,
      "outputs": []
    },
    {
      "cell_type": "code",
      "metadata": {
        "id": "jFUUQ6h4Kk06"
      },
      "source": [
        "forest = RandomForestClassifier(random_state=1)"
      ],
      "execution_count": 14,
      "outputs": []
    },
    {
      "cell_type": "code",
      "metadata": {
        "colab": {
          "base_uri": "https://localhost:8080/"
        },
        "id": "ecUELS5IKl85",
        "outputId": "d13f308e-09de-4b4f-edd3-9a528fd3acdf"
      },
      "source": [
        "forest.fit(train_data, train_labels)"
      ],
      "execution_count": 15,
      "outputs": [
        {
          "output_type": "stream",
          "text": [
            "/usr/local/lib/python3.6/dist-packages/ipykernel_launcher.py:1: DataConversionWarning: A column-vector y was passed when a 1d array was expected. Please change the shape of y to (n_samples,), for example using ravel().\n",
            "  \"\"\"Entry point for launching an IPython kernel.\n"
          ],
          "name": "stderr"
        },
        {
          "output_type": "execute_result",
          "data": {
            "text/plain": [
              "RandomForestClassifier(bootstrap=True, ccp_alpha=0.0, class_weight=None,\n",
              "                       criterion='gini', max_depth=None, max_features='auto',\n",
              "                       max_leaf_nodes=None, max_samples=None,\n",
              "                       min_impurity_decrease=0.0, min_impurity_split=None,\n",
              "                       min_samples_leaf=1, min_samples_split=2,\n",
              "                       min_weight_fraction_leaf=0.0, n_estimators=100,\n",
              "                       n_jobs=None, oob_score=False, random_state=1, verbose=0,\n",
              "                       warm_start=False)"
            ]
          },
          "metadata": {
            "tags": []
          },
          "execution_count": 15
        }
      ]
    },
    {
      "cell_type": "code",
      "metadata": {
        "colab": {
          "base_uri": "https://localhost:8080/"
        },
        "id": "ji0uxDm1KmvG",
        "outputId": "1287a3f8-249d-4f65-b0cc-1074851d51c3"
      },
      "source": [
        "print(forest.score(test_data, test_labels))"
      ],
      "execution_count": 16,
      "outputs": [
        {
          "output_type": "stream",
          "text": [
            "0.8222577078982926\n"
          ],
          "name": "stdout"
        }
      ]
    },
    {
      "cell_type": "markdown",
      "metadata": {
        "id": "WgTqWrK9KyUk"
      },
      "source": [
        "**Changing Column Types from String to Float or Int**"
      ]
    },
    {
      "cell_type": "markdown",
      "metadata": {
        "id": "aGWrh9xUK-mc"
      },
      "source": [
        "Recall that the problem was that this column contained strings. If we transformed those strings into integers, we could use this data!\r\n",
        "\r\n",
        "If we take every row and make every \"Male\" a 0 and every \"Female\" a 1, we could then use the column in our random forest. Before creating the data variable, use this line of code:\r\n",
        "\r\n",
        "\r\n",
        "```\r\n",
        "income_data[\"sex-int\"] = income_data[\"sex\"].apply(lambda row: 0 if row == \"Male\" else 1)\r\n",
        "```\r\n",
        "This creates a new column called \"sex-int\" in the income_data DataFrame. Every row in that new column contains a 0 if the row’s \"sex\" column contained \"Male\" and a 1 otherwise.\r\n"
      ]
    },
    {
      "cell_type": "code",
      "metadata": {
        "id": "-6IVVO3GKwGj"
      },
      "source": [
        "income_data[\"sex-int\"] = income_data[\"sex\"].apply(lambda row: 0 if row == \"Male\" else 1)"
      ],
      "execution_count": 17,
      "outputs": []
    },
    {
      "cell_type": "code",
      "metadata": {
        "colab": {
          "base_uri": "https://localhost:8080/"
        },
        "id": "RWFPLgOmLTvL",
        "outputId": "7d471c58-46c5-472d-cf2a-55e68ea8bd1d"
      },
      "source": [
        "data = income_data[[\"age\",\"capital-gain\",\"capital-loss\",\"hours-per-week\", \"sex-int\"]]\r\n",
        "train_data, test_data, train_labels, test_labels = train_test_split(data, labels, random_state=1)\r\n",
        "forest = RandomForestClassifier(random_state=1)\r\n",
        "forest.fit(train_data, train_labels)\r\n",
        "print(forest.score(test_data, test_labels))"
      ],
      "execution_count": 18,
      "outputs": [
        {
          "output_type": "stream",
          "text": [
            "/usr/local/lib/python3.6/dist-packages/ipykernel_launcher.py:4: DataConversionWarning: A column-vector y was passed when a 1d array was expected. Please change the shape of y to (n_samples,), for example using ravel().\n",
            "  after removing the cwd from sys.path.\n"
          ],
          "name": "stderr"
        },
        {
          "output_type": "stream",
          "text": [
            "0.8272939442328953\n"
          ],
          "name": "stdout"
        }
      ]
    },
    {
      "cell_type": "markdown",
      "metadata": {
        "id": "bCv3sSR0MUPi"
      },
      "source": [
        "Let's see if there are other features with strings we can convert to continuous numbers. Perhaps we could do \"native-country\". Note that: \r\n",
        "\r\n",
        "When mapping Strings to numbers, it is important to make sure that continuous numbers make sense. For example, it wouldn’t make much sense to map \"United-States\" to 0, \"Germany\" to 1, and \"Mexico\" to 2. If we did this, we’re saying that Mexico is more similar to Germany than it is to the United States.\r\n",
        "\r\n",
        "However, if you had values in a column like \"low\", \"medium\", and \"high\" mapping those values to 0, 1, and 2 would make sense because their representation as Strings is also continuous."
      ]
    },
    {
      "cell_type": "markdown",
      "metadata": {
        "id": "5H0mZ8igPBry"
      },
      "source": [
        "For simplicity, let's decide how we should do the conversion. Below, we count the number of people in each country and realize United-States has the most people. Thereby, we set \"United-States\" to 0 and all else to 1. "
      ]
    },
    {
      "cell_type": "code",
      "metadata": {
        "colab": {
          "base_uri": "https://localhost:8080/"
        },
        "id": "2q5PfmM3LbxS",
        "outputId": "ac21f864-1876-46d3-8a92-bd05ee8acf76"
      },
      "source": [
        "income_data[\"native-country\"].value_counts()"
      ],
      "execution_count": 20,
      "outputs": [
        {
          "output_type": "execute_result",
          "data": {
            "text/plain": [
              "United-States                 29170\n",
              "Mexico                          643\n",
              "?                               583\n",
              "Philippines                     198\n",
              "Germany                         137\n",
              "Canada                          121\n",
              "Puerto-Rico                     114\n",
              "El-Salvador                     106\n",
              "India                           100\n",
              "Cuba                             95\n",
              "England                          90\n",
              "Jamaica                          81\n",
              "South                            80\n",
              "China                            75\n",
              "Italy                            73\n",
              "Dominican-Republic               70\n",
              "Vietnam                          67\n",
              "Guatemala                        64\n",
              "Japan                            62\n",
              "Poland                           60\n",
              "Columbia                         59\n",
              "Taiwan                           51\n",
              "Haiti                            44\n",
              "Iran                             43\n",
              "Portugal                         37\n",
              "Nicaragua                        34\n",
              "Peru                             31\n",
              "Greece                           29\n",
              "France                           29\n",
              "Ecuador                          28\n",
              "Ireland                          24\n",
              "Hong                             20\n",
              "Cambodia                         19\n",
              "Trinadad&Tobago                  19\n",
              "Thailand                         18\n",
              "Laos                             18\n",
              "Yugoslavia                       16\n",
              "Outlying-US(Guam-USVI-etc)       14\n",
              "Honduras                         13\n",
              "Hungary                          13\n",
              "Scotland                         12\n",
              "Holand-Netherlands                1\n",
              "Name: native-country, dtype: int64"
            ]
          },
          "metadata": {
            "tags": []
          },
          "execution_count": 20
        }
      ]
    },
    {
      "cell_type": "code",
      "metadata": {
        "id": "LY0iyzJ0Lza1"
      },
      "source": [
        "income_data[\"native-country-new\"] = income_data[\"native-country\"].apply(lambda row: 0 if row == \"United-States\" else 1)"
      ],
      "execution_count": 21,
      "outputs": []
    },
    {
      "cell_type": "markdown",
      "metadata": {
        "id": "fozK2jN7Puop"
      },
      "source": [
        "Note that: \r\n",
        "After calling .fit() on the forest, we can print forest.feature_importances_, which will show us a list of numbers where each number corresponds to the relevance of a column from the training data."
      ]
    },
    {
      "cell_type": "code",
      "metadata": {
        "colab": {
          "base_uri": "https://localhost:8080/"
        },
        "id": "ka8X4P8HOxpL",
        "outputId": "fcfdf980-2601-4b24-f888-a450111fafc2"
      },
      "source": [
        "data = income_data[[\"age\",\"capital-gain\",\"capital-loss\",\"hours-per-week\", \"sex-int\",\"native-country-new\"]]\r\n",
        "train_data, test_data, train_labels, test_labels = train_test_split(data, labels, random_state=1)\r\n",
        "forest = RandomForestClassifier(random_state=1)\r\n",
        "forest.fit(train_data, train_labels)\r\n",
        "print(forest.feature_importances_)\r\n",
        "print(forest.score(test_data, test_labels))"
      ],
      "execution_count": 23,
      "outputs": [
        {
          "output_type": "stream",
          "text": [
            "/usr/local/lib/python3.6/dist-packages/ipykernel_launcher.py:4: DataConversionWarning: A column-vector y was passed when a 1d array was expected. Please change the shape of y to (n_samples,), for example using ravel().\n",
            "  after removing the cwd from sys.path.\n"
          ],
          "name": "stderr"
        },
        {
          "output_type": "stream",
          "text": [
            "[0.31351874 0.29270793 0.11745457 0.20309968 0.0643516  0.00886747]\n",
            "0.8225033779633951\n"
          ],
          "name": "stdout"
        }
      ]
    },
    {
      "cell_type": "markdown",
      "metadata": {
        "id": "7pYirqbXPdoW"
      },
      "source": [
        "Yet we see the accuracy of our model doesn't change much..."
      ]
    },
    {
      "cell_type": "markdown",
      "metadata": {
        "id": "Kdhvqc0UQSNI"
      },
      "source": [
        "I think the features of education and education-num are important so let's add those to the mix. "
      ]
    },
    {
      "cell_type": "code",
      "metadata": {
        "colab": {
          "base_uri": "https://localhost:8080/"
        },
        "id": "2ftOKPSTQWeT",
        "outputId": "d1708e73-21d0-43b1-ba81-3aec11a0f029"
      },
      "source": [
        "income_data[\"education\"].value_counts()"
      ],
      "execution_count": 26,
      "outputs": [
        {
          "output_type": "execute_result",
          "data": {
            "text/plain": [
              "HS-grad         10501\n",
              "Some-college     7291\n",
              "Bachelors        5355\n",
              "Masters          1723\n",
              "Assoc-voc        1382\n",
              "11th             1175\n",
              "Assoc-acdm       1067\n",
              "10th              933\n",
              "7th-8th           646\n",
              "Prof-school       576\n",
              "9th               514\n",
              "12th              433\n",
              "Doctorate         413\n",
              "5th-6th           333\n",
              "1st-4th           168\n",
              "Preschool          51\n",
              "Name: education, dtype: int64"
            ]
          },
          "metadata": {
            "tags": []
          },
          "execution_count": 26
        }
      ]
    },
    {
      "cell_type": "markdown",
      "metadata": {
        "id": "Wu_-MvZBQnfb"
      },
      "source": [
        "For the feature of education, there are a lot of options which can be tough to determine the right continuous numerical representation.. I'll skip this for now. "
      ]
    },
    {
      "cell_type": "code",
      "metadata": {
        "colab": {
          "base_uri": "https://localhost:8080/"
        },
        "id": "R0odLX8NO3Gv",
        "outputId": "0f956fe3-cc82-4187-b56d-c14408435705"
      },
      "source": [
        "data = income_data[[\"age\",\"capital-gain\",\"capital-loss\",\"hours-per-week\", \"sex-int\",\"native-country-new\", \"education-num\"]]\r\n",
        "train_data, test_data, train_labels, test_labels = train_test_split(data, labels, random_state=1)\r\n",
        "forest = RandomForestClassifier(random_state=1)\r\n",
        "forest.fit(train_data, train_labels)\r\n",
        "print(forest.feature_importances_)\r\n",
        "print(forest.score(test_data, test_labels))"
      ],
      "execution_count": 27,
      "outputs": [
        {
          "output_type": "stream",
          "text": [
            "/usr/local/lib/python3.6/dist-packages/ipykernel_launcher.py:4: DataConversionWarning: A column-vector y was passed when a 1d array was expected. Please change the shape of y to (n_samples,), for example using ravel().\n",
            "  after removing the cwd from sys.path.\n"
          ],
          "name": "stderr"
        },
        {
          "output_type": "stream",
          "text": [
            "[0.31394643 0.19624199 0.07090807 0.17322542 0.05047075 0.01118603\n",
            " 0.18402131]\n",
            "0.8390861073578184\n"
          ],
          "name": "stdout"
        }
      ]
    },
    {
      "cell_type": "markdown",
      "metadata": {
        "id": "KHqWPXKVRJm9"
      },
      "source": [
        "# Lessons learnt"
      ]
    },
    {
      "cell_type": "markdown",
      "metadata": {
        "id": "bG_6Ave9QyR1"
      },
      "source": [
        "Through this experience, I was able to learn how to use the Scikit-learn library to create Random Forests for classification purposes. I also learned how to convert data into values scikit can work with and how to determine which features are of most importance for a correct classification. "
      ]
    }
  ]
}