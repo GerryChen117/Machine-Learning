{
  "nbformat": 4,
  "nbformat_minor": 0,
  "metadata": {
    "colab": {
      "name": "Email Similarity with Naive Bayes Classifier.ipynb",
      "provenance": []
    },
    "kernelspec": {
      "name": "python3",
      "display_name": "Python 3"
    }
  },
  "cells": [
    {
      "cell_type": "markdown",
      "metadata": {
        "id": "sjxjyVQHXnEc"
      },
      "source": [
        "# Email Similarity with Naive Bayes Classifier"
      ]
    },
    {
      "cell_type": "markdown",
      "metadata": {
        "id": "YsT_FOk-XsX1"
      },
      "source": [
        "For this project, we'll be using a dataset from the sklearn library. Moreover, we'll be implementing Naive Bayes to classify/distinguish topics in an email."
      ]
    },
    {
      "cell_type": "code",
      "metadata": {
        "id": "8A9EnhALXiLQ"
      },
      "source": [
        "from sklearn.datasets import fetch_20newsgroups\r\n",
        "from sklearn.naive_bayes import MultinomialNB\r\n",
        "from sklearn.feature_extraction.text import CountVectorizer\r\n",
        "\r\n",
        "emails = fetch_20newsgroups()"
      ],
      "execution_count": 2,
      "outputs": []
    },
    {
      "cell_type": "markdown",
      "metadata": {
        "id": "ZTzxkygAYe9I"
      },
      "source": [
        "In the dataset, each email is tagged based on their content. Let's see what tags we are working with. "
      ]
    },
    {
      "cell_type": "code",
      "metadata": {
        "colab": {
          "base_uri": "https://localhost:8080/"
        },
        "id": "QbDlmBERXqw8",
        "outputId": "187ff2ff-bcf6-424f-d404-dda478c21e80"
      },
      "source": [
        "print(emails.target_names)"
      ],
      "execution_count": 3,
      "outputs": [
        {
          "output_type": "stream",
          "text": [
            "['alt.atheism', 'comp.graphics', 'comp.os.ms-windows.misc', 'comp.sys.ibm.pc.hardware', 'comp.sys.mac.hardware', 'comp.windows.x', 'misc.forsale', 'rec.autos', 'rec.motorcycles', 'rec.sport.baseball', 'rec.sport.hockey', 'sci.crypt', 'sci.electronics', 'sci.med', 'sci.space', 'soc.religion.christian', 'talk.politics.guns', 'talk.politics.mideast', 'talk.politics.misc', 'talk.religion.misc']\n"
          ],
          "name": "stdout"
        }
      ]
    },
    {
      "cell_type": "markdown",
      "metadata": {
        "id": "LlnieC4-Yvnm"
      },
      "source": [
        "If we're interested in seeing how effective our Naive Bayes Classifier is at differentiating between a baseball email and a hockey email, we can select those categories via:\r\n",
        "\r\n",
        "```\r\n",
        "emails = fetch_20newsgroups(categories = ['rec.sport.baseball', 'rec.sport.hockey'])\r\n",
        "```\r\n",
        "\r\n"
      ]
    },
    {
      "cell_type": "code",
      "metadata": {
        "id": "DWfn7s-BYoqj"
      },
      "source": [
        "emails = fetch_20newsgroups(categories = ['rec.sport.baseball', 'rec.sport.hockey'])"
      ],
      "execution_count": 4,
      "outputs": []
    },
    {
      "cell_type": "markdown",
      "metadata": {
        "id": "kE-Xjyd4ZOYL"
      },
      "source": [
        "Let's see what we're working with by printing out the 5th email in the list."
      ]
    },
    {
      "cell_type": "code",
      "metadata": {
        "colab": {
          "base_uri": "https://localhost:8080/"
        },
        "id": "EF0kqNqmZFMQ",
        "outputId": "2af2ac46-b055-40a0-f562-908e8cc3f7bd"
      },
      "source": [
        "print(emails.data[5])"
      ],
      "execution_count": 5,
      "outputs": [
        {
          "output_type": "stream",
          "text": [
            "From: mmb@lamar.ColoState.EDU (Michael Burger)\n",
            "Subject: More TV Info\n",
            "Distribution: na\n",
            "Nntp-Posting-Host: lamar.acns.colostate.edu\n",
            "Organization: Colorado State University, Fort Collins, CO  80523\n",
            "Lines: 36\n",
            "\n",
            "United States Coverage:\n",
            "Sunday April 18\n",
            "  N.J./N.Y.I. at Pittsburgh - 1:00 EDT to Eastern Time Zone\n",
            "  ABC - Gary Thorne and Bill Clement\n",
            "\n",
            "  St. Louis at Chicago - 12:00 CDT and 11:00 MDT - to Central/Mountain Zones\n",
            "  ABC - Mike Emerick and Jim Schoenfeld\n",
            "\n",
            "  Los Angeles at Calgary - 12:00 PDT and 11:00 ADT - to Pacific/Alaskan Zones\n",
            "  ABC - Al Michaels and John Davidson\n",
            "\n",
            "Tuesday, April 20\n",
            "  N.J./N.Y.I. at Pittsburgh - 7:30 EDT Nationwide\n",
            "  ESPN - Gary Thorne and Bill Clement\n",
            "\n",
            "Thursday, April 22 and Saturday April 24\n",
            "  To Be Announced - 7:30 EDT Nationwide\n",
            "  ESPN - To Be Announced\n",
            "\n",
            "\n",
            "Canadian Coverage:\n",
            "\n",
            "Sunday, April 18\n",
            "  Buffalo at Boston - 7:30 EDT Nationwide\n",
            "  TSN - ???\n",
            "\n",
            "Tuesday, April 20\n",
            "  N.J.D./N.Y. at Pittsburgh - 7:30 EDT Nationwide\n",
            "  TSN - ???\n",
            "\n",
            "Wednesday, April 21\n",
            "  St. Louis at Chicago - 8:30 EDT Nationwide\n",
            "  TSN - ???\n",
            "\n",
            "\n",
            "\n",
            "\n"
          ],
          "name": "stdout"
        }
      ]
    },
    {
      "cell_type": "markdown",
      "metadata": {
        "id": "hR_ThmSjZWcC"
      },
      "source": [
        "Now we find the label of that email:"
      ]
    },
    {
      "cell_type": "code",
      "metadata": {
        "colab": {
          "base_uri": "https://localhost:8080/"
        },
        "id": "c7tuVzyrZUIK",
        "outputId": "8b50a499-ae93-401b-da05-bc341d7a0d13"
      },
      "source": [
        "print(emails.target[5])"
      ],
      "execution_count": 6,
      "outputs": [
        {
          "output_type": "stream",
          "text": [
            "1\n"
          ],
          "name": "stdout"
        }
      ]
    },
    {
      "cell_type": "code",
      "metadata": {
        "colab": {
          "base_uri": "https://localhost:8080/"
        },
        "id": "gVhbsf-1ZeyV",
        "outputId": "630d4bec-685b-4eef-b316-0cc549bd648a"
      },
      "source": [
        "print(emails.target_names)"
      ],
      "execution_count": 7,
      "outputs": [
        {
          "output_type": "stream",
          "text": [
            "['rec.sport.baseball', 'rec.sport.hockey']\n"
          ],
          "name": "stdout"
        }
      ]
    },
    {
      "cell_type": "markdown",
      "metadata": {
        "id": "agb7Gwx3Z4X2"
      },
      "source": [
        "We see that the email at index 5 of the list is talking about hockey!"
      ]
    },
    {
      "cell_type": "markdown",
      "metadata": {
        "id": "8grmrWIAZ9jt"
      },
      "source": [
        "Now that we understand the data, we're ready to split the data and train the model."
      ]
    },
    {
      "cell_type": "code",
      "metadata": {
        "id": "j5LLVRFdZk3Y"
      },
      "source": [
        "train_emails = fetch_20newsgroups(subset='train',shuffle=True,random_state=108)\r\n",
        "test_emails = fetch_20newsgroups(subset='test',shuffle=True,random_state=108)"
      ],
      "execution_count": 8,
      "outputs": []
    },
    {
      "cell_type": "markdown",
      "metadata": {
        "id": "jaJD1HwUaaY7"
      },
      "source": [
        "We now set up our model. The first step is to transform these emails into a list of word counts. This will help the model determine the topic based on the possible words used. We will do so with the CountVectorizer class from sklearn."
      ]
    },
    {
      "cell_type": "code",
      "metadata": {
        "colab": {
          "base_uri": "https://localhost:8080/"
        },
        "id": "IvfeP9R2aVnE",
        "outputId": "2dfdc3f3-07b9-4c98-bf3f-3f10eb868d8e"
      },
      "source": [
        "counter = CountVectorizer()\r\n",
        "counter.fit(test_emails.data + train_emails.data)"
      ],
      "execution_count": 9,
      "outputs": [
        {
          "output_type": "execute_result",
          "data": {
            "text/plain": [
              "CountVectorizer(analyzer='word', binary=False, decode_error='strict',\n",
              "                dtype=<class 'numpy.int64'>, encoding='utf-8', input='content',\n",
              "                lowercase=True, max_df=1.0, max_features=None, min_df=1,\n",
              "                ngram_range=(1, 1), preprocessor=None, stop_words=None,\n",
              "                strip_accents=None, token_pattern='(?u)\\\\b\\\\w\\\\w+\\\\b',\n",
              "                tokenizer=None, vocabulary=None)"
            ]
          },
          "metadata": {
            "tags": []
          },
          "execution_count": 9
        }
      ]
    },
    {
      "cell_type": "code",
      "metadata": {
        "id": "uBqEmp55a9ZO"
      },
      "source": [
        "train_counts = counter.transform(train_emails.data)\r\n",
        "test_counts = counter.transform(test_emails.data)"
      ],
      "execution_count": 10,
      "outputs": []
    },
    {
      "cell_type": "markdown",
      "metadata": {
        "id": "lqOZ9rM0bQMR"
      },
      "source": [
        "Great! We're now ready to make the Naive Bayes Classifier"
      ]
    },
    {
      "cell_type": "code",
      "metadata": {
        "colab": {
          "base_uri": "https://localhost:8080/"
        },
        "id": "MU9ygaK6bL2v",
        "outputId": "0b5c56e0-6f34-451a-d0e9-5a2284d7607c"
      },
      "source": [
        "classifier = MultinomialNB()\r\n",
        "classifier.fit(train_counts,train_emails.target)\r\n",
        "print(classifier.score(test_counts, test_emails.target))"
      ],
      "execution_count": 11,
      "outputs": [
        {
          "output_type": "stream",
          "text": [
            "0.7626128518321826\n"
          ],
          "name": "stdout"
        }
      ]
    },
    {
      "cell_type": "markdown",
      "metadata": {
        "id": "ewGaRpjMej5h"
      },
      "source": [
        "From this experience, I learned how to build a Naive Bayes Classifier to label emails based on their topic of discussion and words used. "
      ]
    }
  ]
}