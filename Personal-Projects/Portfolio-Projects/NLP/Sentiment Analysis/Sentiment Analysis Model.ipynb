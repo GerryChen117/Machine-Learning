{
  "cells": [
    {
      "cell_type": "markdown",
      "metadata": {},
      "source": [
        "# Qualitative Survey Response Analysis"
      ]
    },
    {
      "cell_type": "markdown",
      "metadata": {},
      "source": [
        "My goal is to create a model that can analyze the sentiment of qualitative survey responses. This will help to automate the process of analyzing survey responses and increase data analytic efficiency!"
      ]
    },
    {
      "cell_type": "markdown",
      "metadata": {
        "id": "z3f8bcpO6QYH"
      },
      "source": [
        "## Set-up"
      ]
    },
    {
      "cell_type": "markdown",
      "metadata": {
        "id": "W6b9HOOoMF8t"
      },
      "source": [
        "We'll be using files saved on my Google Drive."
      ]
    },
    {
      "cell_type": "code",
      "execution_count": null,
      "metadata": {
        "colab": {
          "base_uri": "https://localhost:8080/"
        },
        "id": "2B21Hqoh6MtN",
        "outputId": "7f8fa1e2-572f-4e28-8b29-7acdb38ce729"
      },
      "outputs": [
        {
          "name": "stdout",
          "output_type": "stream",
          "text": [
            "Mounted at /content/drive\n"
          ]
        }
      ],
      "source": [
        "#Mount the Drive\n",
        "from google.colab import drive\n",
        "drive.mount('/content/drive')"
      ]
    },
    {
      "cell_type": "markdown",
      "metadata": {
        "id": "b7kPzDqPMKgu"
      },
      "source": [
        "The following code is to manipulate the csv files to obtain the columns we want to use (ex. Labels and Survey Answers)"
      ]
    },
    {
      "cell_type": "markdown",
      "metadata": {
        "id": "rm3ibOwJgEzp"
      },
      "source": [
        "## Making the CV Files"
      ]
    },
    {
      "cell_type": "code",
      "execution_count": null,
      "metadata": {
        "id": "LDRQBK-siHO6"
      },
      "outputs": [],
      "source": [
        "from sklearn.model_selection import train_test_split\n",
        "import pandas as pd"
      ]
    },
    {
      "cell_type": "code",
      "execution_count": null,
      "metadata": {
        "id": "wYSw2sjPhxt1"
      },
      "outputs": [],
      "source": [
        "df = pd.read_csv('/content/drive/My Drive/Colab Notebooks/UnERD/Processed_Combined2.csv')\n",
        "sorted = df.sample(frac=1)"
      ]
    },
    {
      "cell_type": "code",
      "execution_count": null,
      "metadata": {
        "id": "7h0B4-tiiE-4"
      },
      "outputs": [],
      "source": [
        "question = sorted.Question\n",
        "label_answer = sorted.drop('Question', axis = 1) # Axis 1 is the column, axis 0 is rows"
      ]
    },
    {
      "cell_type": "code",
      "execution_count": null,
      "metadata": {
        "colab": {
          "base_uri": "https://localhost:8080/"
        },
        "id": "Qm8V9wJTitug",
        "outputId": "045afb54-12e0-4e0a-977b-6ffdb4cb93d9"
      },
      "outputs": [
        {
          "name": "stdout",
          "output_type": "stream",
          "text": [
            "     Sentiment                                    Survey Response\n",
            "75     neutral  Breakout rooms for a project course with the p...\n",
            "0     positive  Extended time for test scenarios, removed stre...\n",
            "248   positive  I prefer the inverted method, where the profes...\n",
            "894   positive  The best teaching tool in this time was the li...\n",
            "1006  negative  Full length pre recorded lectures i found were...\n"
          ]
        }
      ],
      "source": [
        "print(label_answer.head())"
      ]
    },
    {
      "cell_type": "code",
      "execution_count": null,
      "metadata": {
        "id": "dgr8oGI5iNzz"
      },
      "outputs": [],
      "source": [
        "# Only run this once\n",
        "#label_answer.to_csv('/content/drive/My Drive/Colab Notebooks/UnERD/Model_V2/label_answer_cleaned.csv')\n",
        "#question.to_csv('/content/drive/My Drive/Colab Notebooks/UnERD/Model_V2/question_cleaned.csv')"
      ]
    },
    {
      "cell_type": "markdown",
      "metadata": {
        "id": "dOYQY5kRkoOR"
      },
      "source": [
        "## Only Positive and Negative"
      ]
    },
    {
      "cell_type": "code",
      "execution_count": null,
      "metadata": {
        "id": "vR77UgxakvHN"
      },
      "outputs": [],
      "source": [
        "import pandas as pd"
      ]
    },
    {
      "cell_type": "code",
      "execution_count": null,
      "metadata": {
        "id": "Bz6HF5Z0kxD2"
      },
      "outputs": [],
      "source": [
        "current = pd.read_csv('/content/drive/My Drive/Colab Notebooks/UnERD/Model_V2/label_answer_cleaned8.csv', encoding='utf-8')"
      ]
    },
    {
      "cell_type": "code",
      "execution_count": null,
      "metadata": {
        "colab": {
          "base_uri": "https://localhost:8080/"
        },
        "id": "KQLoMIsYlpVF",
        "outputId": "93e52242-f502-4869-aa5f-ade28788a999"
      },
      "outputs": [
        {
          "name": "stdout",
          "output_type": "stream",
          "text": [
            "               label                                             answer\n",
            "0            neutral                   Posting notes online on Quercus.\n",
            "1     recommendation  It would be greatly appreciated if the Univers...\n",
            "2           negative  One of my professors decided to cancel all cla...\n",
            "3           positive  so it was reassuring to know that the lectures...\n",
            "4           negative  Instructor posted content prior to the class a...\n",
            "...              ...                                                ...\n",
            "1253        negative  Remote Desktop also would fail sometimes and w...\n",
            "1254        negative  if the professors had not opted to aslo post r...\n",
            "1255        positive  I liked having online lectures during schedule...\n",
            "1256         neutral  pre recorded lectures played during a live ses...\n",
            "1257         neutral                              Pre recorded lectures\n",
            "\n",
            "[1258 rows x 2 columns]\n"
          ]
        }
      ],
      "source": [
        "print(current)"
      ]
    },
    {
      "cell_type": "code",
      "execution_count": null,
      "metadata": {
        "colab": {
          "base_uri": "https://localhost:8080/"
        },
        "id": "kHXHiYfUl9GN",
        "outputId": "5c431851-0e1c-4504-9393-490443051750"
      },
      "outputs": [
        {
          "name": "stdout",
          "output_type": "stream",
          "text": [
            "1258\n"
          ]
        }
      ],
      "source": [
        "length = len(current.label)\n",
        "print(length)"
      ]
    },
    {
      "cell_type": "code",
      "execution_count": null,
      "metadata": {
        "colab": {
          "base_uri": "https://localhost:8080/"
        },
        "id": "6ibuEym20eQJ",
        "outputId": "31808229-3b03-46f0-9582-e57136327a19"
      },
      "outputs": [
        {
          "name": "stdout",
          "output_type": "stream",
          "text": [
            "               label                                             answer\n",
            "0            neutral                   Posting notes online on Quercus.\n",
            "1     recommendation  It would be greatly appreciated if the Univers...\n",
            "2           negative  One of my professors decided to cancel all cla...\n",
            "3           positive  so it was reassuring to know that the lectures...\n",
            "4           negative  Instructor posted content prior to the class a...\n",
            "...              ...                                                ...\n",
            "1253        negative  Remote Desktop also would fail sometimes and w...\n",
            "1254        negative  if the professors had not opted to aslo post r...\n",
            "1255        positive  I liked having online lectures during schedule...\n",
            "1256         neutral  pre recorded lectures played during a live ses...\n",
            "1257         neutral                              Pre recorded lectures\n",
            "\n",
            "[1258 rows x 2 columns]\n"
          ]
        }
      ],
      "source": [
        "print(current)"
      ]
    },
    {
      "cell_type": "code",
      "execution_count": null,
      "metadata": {
        "id": "p1-BRnEroYw2"
      },
      "outputs": [],
      "source": [
        "current.drop(current[current['label'] == 'neutral'].index, inplace = True) "
      ]
    },
    {
      "cell_type": "code",
      "execution_count": null,
      "metadata": {
        "id": "Vxv7SmkE5zD2"
      },
      "outputs": [],
      "source": [
        "current.drop(current[current['label'] == 'recommendation'].index, inplace = True) "
      ]
    },
    {
      "cell_type": "code",
      "execution_count": null,
      "metadata": {
        "colab": {
          "base_uri": "https://localhost:8080/"
        },
        "id": "aeg7U_RF51KA",
        "outputId": "6ef529c8-6d30-4db1-ef76-7a89448d2543"
      },
      "outputs": [
        {
          "name": "stdout",
          "output_type": "stream",
          "text": [
            "         label                                             answer\n",
            "2     negative  One of my professors decided to cancel all cla...\n",
            "3     positive  so it was reassuring to know that the lectures...\n",
            "4     negative  Instructor posted content prior to the class a...\n",
            "5     positive             prerecorded lectures help me the most.\n",
            "7     negative  Recording lectures outside of the lecture time...\n",
            "...        ...                                                ...\n",
            "1251  positive  Live lectures held at normal class times are v...\n",
            "1252  negative  Although the profs were organized and did thei...\n",
            "1253  negative  Remote Desktop also would fail sometimes and w...\n",
            "1254  negative  if the professors had not opted to aslo post r...\n",
            "1255  positive  I liked having online lectures during schedule...\n",
            "\n",
            "[982 rows x 2 columns]\n"
          ]
        }
      ],
      "source": [
        "print(current)"
      ]
    },
    {
      "cell_type": "code",
      "execution_count": null,
      "metadata": {
        "id": "sl44AaxP55Zb"
      },
      "outputs": [],
      "source": [
        "current.to_csv('/content/drive/My Drive/Colab Notebooks/UnERD/Model_V2/use_this_one.csv')"
      ]
    },
    {
      "cell_type": "code",
      "execution_count": null,
      "metadata": {
        "colab": {
          "base_uri": "https://localhost:8080/"
        },
        "id": "vfLcUB4_P7bh",
        "outputId": "ab1bc39d-340f-47f1-cfe3-fe090bbebbce"
      },
      "outputs": [
        {
          "name": "stdout",
          "output_type": "stream",
          "text": [
            "   Unnamed: 0     label                                             answer\n",
            "0           2  negative  One of my professors decided to cancel all cla...\n",
            "1           3  positive  so it was reassuring to know that the lectures...\n",
            "2           4  negative  Instructor posted content prior to the class a...\n",
            "3           5  positive             prerecorded lectures help me the most.\n",
            "4           7  negative  Recording lectures outside of the lecture time...\n"
          ]
        }
      ],
      "source": [
        "new = pd.read_csv('/content/drive/My Drive/Colab Notebooks/UnERD/Model_V2/use_this_one.csv', encoding='utf-8-sig')\n",
        "cnt_total = 0\n",
        "cnt_neg = 0\n",
        "cnt_pos = 0\n",
        "print(new.head())"
      ]
    },
    {
      "cell_type": "code",
      "execution_count": null,
      "metadata": {
        "colab": {
          "base_uri": "https://localhost:8080/"
        },
        "id": "lqUnMz3BQIDr",
        "outputId": "fff3841e-f0dc-4d6c-84d5-65bfe039f29c"
      },
      "outputs": [
        {
          "name": "stdout",
          "output_type": "stream",
          "text": [
            "982 425 557\n"
          ]
        }
      ],
      "source": [
        "cnt_total = len(new.label)\n",
        "cnt_neg = len(new[new['label']=='negative'])\n",
        "cnt_pos = len(new[new['label']=='positive'])\n",
        "print (cnt_total, cnt_neg, cnt_pos)\n"
      ]
    },
    {
      "cell_type": "markdown",
      "metadata": {
        "id": "hqHN79BYl5Y1"
      },
      "source": [
        "## Set up the input data"
      ]
    },
    {
      "cell_type": "markdown",
      "metadata": {
        "id": "Z8lSQFs7MaW2"
      },
      "source": [
        "We load the data now and start building the pre-requisites for the model."
      ]
    },
    {
      "cell_type": "code",
      "execution_count": null,
      "metadata": {
        "id": "6wpoW0Ov6WA2"
      },
      "outputs": [],
      "source": [
        "import csv\n",
        "import torch\n",
        "import torch.nn as nn\n",
        "import torch.nn.functional as F\n",
        "import torch.optim as optim\n",
        "import torchtext\n",
        "import numpy as np\n",
        "import matplotlib.pyplot as plt\n",
        "\n",
        "# file location (make sure to use your file location)\n",
        "file_dir = '/content/drive/My Drive/Colab Notebooks/UnERD/Model_V2/'\n",
        "\n",
        "def get_data():\n",
        "    return csv.reader(open(file_dir + \"use_this_one.csv\",\"rt\", encoding=\"utf-8-sig\"))\n",
        "\n",
        "def split_tweet(tweet):\n",
        "    # separate punctuations\n",
        "    tweet = tweet.replace(\".\", \" . \") \\\n",
        "                 .replace(\",\", \" , \") \\\n",
        "                 .replace(\";\", \" ; \") \\\n",
        "                 .replace(\"?\", \" ? \")\n",
        "    return tweet.lower().split()"
      ]
    },
    {
      "cell_type": "markdown",
      "metadata": {
        "id": "wO6GA0nbMjkx"
      },
      "source": [
        "Let's check out the data we're working with:"
      ]
    },
    {
      "cell_type": "code",
      "execution_count": null,
      "metadata": {
        "colab": {
          "base_uri": "https://localhost:8080/"
        },
        "id": "Px1CGV_EjjUl",
        "outputId": "aab32816-a9ae-42db-cc1d-321b74d49cec"
      },
      "outputs": [
        {
          "name": "stdout",
          "output_type": "stream",
          "text": [
            "['', 'label', 'answer']\n",
            "['2', 'negative', 'One of my professors decided to cancel all classes starting from March 15th onwards and he sent us a list of textbook readings that would cover the content in the class since he was unable to put together an online system for the lectures. While I understood his reasoning, I definitely did not feel as if I was able to learn the second half of the course content as well.']\n",
            "['3', 'positive', 'so it was reassuring to know that the lectures would be available if we slept in past a 9am.']\n",
            "['4', 'negative', 'Instructor posted content prior to the class and used the online session to answer questions and elaborate concepts - this would work if the online session was a dedicated office hour, but not as a complete replacement to lectures.']\n",
            "['5', 'positive', 'prerecorded lectures help me the most.']\n",
            "['7', 'negative', 'Recording lectures outside of the lecture time and then using the actual lecture time as a Q&A session felt very unhelpful. This is because I had to spend double the amount of time for that class since the recordings were approximately the same length as the actual lectures, and then felt like there was less time to do work for the other courses. Overall, it felt like doing double the amount of hours and work which made things more stressful.']\n",
            "['8', 'negative', \"every single online midterm/exam was not effective, enjoyable or helpful to my learning. I don't mean to be overly blunt but i am astounded that the #1 engineering program in canada couldn't think of ANY other evaluation method for students in this situation? online exams shouldn't have been an option! reports, papers, labs, presentations - all huge components of engineering could have been substituted for exams, and been much more fair and effective, not to mention easier to complete from home. \"]\n",
            "['9', 'positive', 'Posting recordings of lectures was very helpful because it provided the opportunity to review lecture content as well as accommodating those in different time zones']\n",
            "['11', 'negative', 'Posting videos onto YouTube did not help me learn at all. I ended up procrastinating and never watched the videos, and they also weren’t uploaded according to the lecture slots so I never really had an allocated time to watch them. Live classes were a lot better for my learning. ']\n",
            "['13', 'negative', 'I loved tophat before classes went online. However after moving back it just wasn’t sufficient and I don’t think I learned anything about the last part of the course. In fact it was probably the only question on my final that I couldn’t answer']\n"
          ]
        }
      ],
      "source": [
        "# print only the first tweet\n",
        "cnt = 0\n",
        "for i, line in enumerate(get_data()):\n",
        "    print(line)\n",
        "    cnt +=1\n",
        "    if cnt == 10:\n",
        "        break"
      ]
    },
    {
      "cell_type": "markdown",
      "metadata": {
        "id": "WZBVWsuQMmtC"
      },
      "source": [
        "GloVe Embeddings will be used!"
      ]
    },
    {
      "cell_type": "code",
      "execution_count": null,
      "metadata": {
        "colab": {
          "base_uri": "https://localhost:8080/"
        },
        "id": "-o14yF7njf29",
        "outputId": "219d67eb-735b-48cc-e3a6-2554846c5b9a"
      },
      "outputs": [
        {
          "name": "stderr",
          "output_type": "stream",
          "text": [
            ".vector_cache/glove.6B.zip: 862MB [06:40, 2.15MB/s]                           \n",
            "100%|█████████▉| 399577/400000 [00:13<00:00, 31389.99it/s]"
          ]
        }
      ],
      "source": [
        "glove = torchtext.vocab.GloVe(name=\"6B\", dim=50) # use 10k most common words"
      ]
    },
    {
      "cell_type": "code",
      "execution_count": null,
      "metadata": {
        "colab": {
          "base_uri": "https://localhost:8080/"
        },
        "id": "wydmon6blQJk",
        "outputId": "87a81e9e-e0f8-4864-8e93-fb1a95f16223"
      },
      "outputs": [
        {
          "name": "stdout",
          "output_type": "stream",
          "text": [
            "1\n",
            "73\n",
            "20\n",
            "41\n",
            "7\n",
            "85\n",
            "84\n",
            "25\n",
            "53\n",
            "42\n",
            "28\n",
            "55\n",
            "12\n",
            "36\n",
            "10\n",
            "27\n",
            "34\n",
            "11\n",
            "8\n",
            "17\n",
            "15\n",
            "23\n",
            "56\n",
            "68\n",
            "20\n",
            "14\n",
            "23\n",
            "42\n",
            "21\n",
            "45\n",
            "10\n"
          ]
        }
      ],
      "source": [
        "# verify that each survey response has a reasonable number of words\n",
        "# that have GloVe embeddings\n",
        "for i, line in enumerate(get_data()):\n",
        "    if i > 30:\n",
        "        break\n",
        "    print(sum(int(w in glove.stoi) for w in split_tweet(line[-1])))"
      ]
    },
    {
      "cell_type": "markdown",
      "metadata": {
        "id": "XrcKWalKnWka"
      },
      "source": [
        "Split into Training, Validation, and Testing sets."
      ]
    },
    {
      "cell_type": "markdown",
      "metadata": {
        "id": "lfaSfzlgRYDH"
      },
      "source": [
        "### Ignore this"
      ]
    },
    {
      "cell_type": "code",
      "execution_count": null,
      "metadata": {
        "id": "gLKT6Kv2nJI5"
      },
      "outputs": [],
      "source": [
        "import torch\n",
        "import torch.nn as nn\n",
        "\n",
        "def get_tweet_words(glove_vector):\n",
        "    train, valid, test = [], [], []\n",
        "    for i, line in enumerate(get_data()):\n",
        "        if line[0] == 'recommendation':\n",
        "            continue\n",
        "        tweet = line[-1]\n",
        "        idxs = [glove_vector.stoi[w]        # lookup the index of word\n",
        "                for w in split_tweet(tweet)\n",
        "                if w in glove_vector.stoi] # keep words that has an embedding\n",
        "        if not idxs: # ignore tweets without any word with an embedding\n",
        "            continue\n",
        "        idxs = torch.tensor(idxs) # convert list to pytorch tensor\n",
        "\n",
        "        if line[0] == \"negative\":\n",
        "            label = torch.tensor(int(0)).long()\n",
        "        elif line[0] == \"neutral\":\n",
        "            label = torch.tensor(int(1)).long()\n",
        "        else:\n",
        "            label = torch.tensor(int(2)).long()\n",
        "            \n",
        "        #label = torch.tensor(int(line[0] == \"4\")).long()  ## we need to change the labeling here how did you do it before\n",
        "\n",
        "        if i % 5 < 3:\n",
        "            train.append((idxs, label))\n",
        "        elif i % 5 == 4:\n",
        "            valid.append((idxs, label))\n",
        "        else:\n",
        "            test.append((idxs, label))\n",
        "    return train, valid, test\n",
        "\n",
        "train, valid, test = get_tweet_words(glove)"
      ]
    },
    {
      "cell_type": "markdown",
      "metadata": {
        "id": "yn3awGz_RdG3"
      },
      "source": [
        "# The Model "
      ]
    },
    {
      "cell_type": "markdown",
      "metadata": {
        "id": "0Zhg08dxnzbt"
      },
      "source": [
        "Import the Libraries."
      ]
    },
    {
      "cell_type": "code",
      "execution_count": null,
      "metadata": {
        "id": "N_QlogXfn0_k"
      },
      "outputs": [],
      "source": [
        "import csv\n",
        "import torch\n",
        "import torch.nn as nn\n",
        "import torch.nn.functional as F\n",
        "import torch.optim as optim\n",
        "import torchtext\n",
        "import numpy as np\n",
        "import matplotlib.pyplot as plt\n",
        "from sklearn.model_selection import train_test_split\n",
        "import pandas as pd"
      ]
    },
    {
      "cell_type": "markdown",
      "metadata": {
        "id": "FI5xKRm8M0d9"
      },
      "source": [
        "Inputs to the network must be the same size if we are to apply batching. We'll use the torchtext built in functions to do this:"
      ]
    },
    {
      "cell_type": "code",
      "execution_count": null,
      "metadata": {
        "colab": {
          "base_uri": "https://localhost:8080/",
          "height": 51
        },
        "id": "psdG64Y6lqgn",
        "outputId": "3a467ec8-c336-4b92-e161-04d71abbd584"
      },
      "outputs": [
        {
          "name": "stderr",
          "output_type": "stream",
          "text": [
            ".vector_cache/glove.6B.zip: 862MB [06:27, 2.23MB/s]                           \n",
            "100%|█████████▉| 398368/400000 [00:11<00:00, 32408.03it/s]"
          ]
        }
      ],
      "source": [
        "#glove = torchtext.vocab.GloVe(name=\"6B\", dim=50) # use 10k most common words"
      ]
    },
    {
      "cell_type": "code",
      "execution_count": null,
      "metadata": {
        "id": "brdmLY0xWtDF"
      },
      "outputs": [],
      "source": [
        "glove_emb = nn.Embedding.from_pretrained(glove.vectors)"
      ]
    },
    {
      "cell_type": "code",
      "execution_count": null,
      "metadata": {
        "id": "p3yPo9VPcfeE"
      },
      "outputs": [],
      "source": [
        "######## Pre-processing Function #############\n",
        "def label_func(word):\n",
        "  if word == 'negative':\n",
        "    return int(0)\n",
        "  else:\n",
        "    return int(1)"
      ]
    },
    {
      "cell_type": "code",
      "execution_count": null,
      "metadata": {
        "id": "27qpw9ZHNu4b"
      },
      "outputs": [],
      "source": [
        "import torchtext\n",
        "\n",
        "text_field = torchtext.data.Field(sequential=True,      # text sequence\n",
        "                                  include_lengths=True, # to track the length of sequences, for batching\n",
        "                                  batch_first=True,\n",
        "                                  use_vocab=True)       # to turn each character into an integer index\n",
        "label_field = torchtext.data.Field(sequential=False,    # not a sequence\n",
        "                                   use_vocab=False,     # don't need to track vocabulary\n",
        "                                   is_target=True,      \n",
        "                                   batch_first=True,\n",
        "                                   preprocessing=label_func) # convert text to 0 and 1\n",
        "\n",
        "fields = [('label', label_field), ('response', text_field)]\n",
        "dataset = torchtext.data.TabularDataset(\"/content/drive/My Drive/Colab Notebooks/UnERD/Model_V2/label_answer_cleaned2.csv\", # name of the file\n",
        "                                        \"csv\",               # fields are separated by a tab\n",
        "                                        fields)\n",
        "\n",
        "\n",
        "dataset[0].response\n",
        "dataset[0].label\n",
        "train, valid, test = dataset.split(split_ratio=[0.6,0.2,0.2], stratified=False, strata_field='label', random_state=None)"
      ]
    },
    {
      "cell_type": "markdown",
      "metadata": {
        "id": "HIWb2wDf1QL4"
      },
      "source": [
        "A simple check to see if we've saved the datasets correctly."
      ]
    },
    {
      "cell_type": "code",
      "execution_count": null,
      "metadata": {
        "colab": {
          "base_uri": "https://localhost:8080/"
        },
        "id": "wNTCQWyN1Gth",
        "outputId": "0ef2d575-366a-4d91-893c-2dee29a4ed0c"
      },
      "outputs": [
        {
          "name": "stdout",
          "output_type": "stream",
          "text": [
            "Posting\n",
            "notes\n",
            "online\n",
            "on\n",
            "Quercus.\n"
          ]
        }
      ],
      "source": [
        "dataset[0].response\n",
        "cnt = 0\n",
        "for line in dataset[0].response:\n",
        "  print(line)\n",
        "  cnt+=1\n",
        "  if cnt == 10:\n",
        "    break"
      ]
    },
    {
      "cell_type": "markdown",
      "metadata": {
        "id": "SAOrYUJY1Uln"
      },
      "source": [
        "Here's where the padding is applied."
      ]
    },
    {
      "cell_type": "code",
      "execution_count": null,
      "metadata": {
        "id": "LzVjmY6sL_ZB"
      },
      "outputs": [],
      "source": [
        "train_iter = torchtext.data.BucketIterator(train,\n",
        "                                           batch_size=32,\n",
        "                                           sort_key=lambda x: len(x.response), # to minimize padding\n",
        "                                           sort_within_batch=True,        # sort within each batch\n",
        "                                           repeat=False)                  # repeat the iterator for many epochs"
      ]
    },
    {
      "cell_type": "code",
      "execution_count": null,
      "metadata": {
        "colab": {
          "base_uri": "https://localhost:8080/"
        },
        "id": "pirVwKbF_Bsw",
        "outputId": "a9f5b4c9-4c2c-48ac-994b-b46a7f2ea910"
      },
      "outputs": [
        {
          "name": "stdout",
          "output_type": "stream",
          "text": [
            "<torchtext.data.example.Example object at 0x7ffab2359be0>\n"
          ]
        }
      ],
      "source": [
        "for line in train:\n",
        "  print(line)\n",
        "  break"
      ]
    },
    {
      "cell_type": "markdown",
      "metadata": {
        "id": "Z0Fo8xMku3eb"
      },
      "source": [
        "### Ignore This"
      ]
    },
    {
      "cell_type": "code",
      "execution_count": null,
      "metadata": {
        "colab": {
          "base_uri": "https://localhost:8080/",
          "height": 231
        },
        "id": "SQH2QpFWri1P",
        "outputId": "1571c9a9-b75c-4c85-d9cb-1218cec69d1d"
      },
      "outputs": [
        {
          "ename": "ValueError",
          "evalue": "ignored",
          "output_type": "error",
          "traceback": [
            "\u001b[0;31m---------------------------------------------------------------------------\u001b[0m",
            "\u001b[0;31mValueError\u001b[0m                                Traceback (most recent call last)",
            "\u001b[0;32m<ipython-input-39-64fc2466fe40>\u001b[0m in \u001b[0;36m<module>\u001b[0;34m()\u001b[0m\n\u001b[1;32m      1\u001b[0m \u001b[0mglove_emb\u001b[0m \u001b[0;34m=\u001b[0m \u001b[0mnn\u001b[0m\u001b[0;34m.\u001b[0m\u001b[0mEmbedding\u001b[0m\u001b[0;34m.\u001b[0m\u001b[0mfrom_pretrained\u001b[0m\u001b[0;34m(\u001b[0m\u001b[0mglove\u001b[0m\u001b[0;34m.\u001b[0m\u001b[0mvectors\u001b[0m\u001b[0;34m)\u001b[0m\u001b[0;34m\u001b[0m\u001b[0;34m\u001b[0m\u001b[0m\n\u001b[1;32m      2\u001b[0m \u001b[0;34m\u001b[0m\u001b[0m\n\u001b[0;32m----> 3\u001b[0;31m \u001b[0mresponse\u001b[0m\u001b[0;34m,\u001b[0m \u001b[0mlabel\u001b[0m \u001b[0;34m=\u001b[0m \u001b[0mtrain\u001b[0m\u001b[0;34m\u001b[0m\u001b[0;34m\u001b[0m\u001b[0m\n\u001b[0m\u001b[1;32m      4\u001b[0m \u001b[0mprint\u001b[0m\u001b[0;34m(\u001b[0m\u001b[0mresponse\u001b[0m\u001b[0;34m)\u001b[0m\u001b[0;34m\u001b[0m\u001b[0;34m\u001b[0m\u001b[0m\n\u001b[1;32m      5\u001b[0m \u001b[0mprint\u001b[0m\u001b[0;34m(\u001b[0m\u001b[0mlabel\u001b[0m\u001b[0;34m)\u001b[0m\u001b[0;34m\u001b[0m\u001b[0;34m\u001b[0m\u001b[0m\n",
            "\u001b[0;31mValueError\u001b[0m: too many values to unpack (expected 2)"
          ]
        }
      ],
      "source": [
        "glove_emb = nn.Embedding.from_pretrained(glove.vectors)\n",
        "\n",
        "response, label = train\n",
        "print(response)\n",
        "print(label)\n",
        "\n",
        "# Example: we use the forward function of glove_emb to lookup the\n",
        "# embedding of each word in `tweet`\n",
        "tweet_emb = glove_emb(tweet)\n",
        "tweet_emb.shape"
      ]
    },
    {
      "cell_type": "markdown",
      "metadata": {
        "id": "fKX0bgwp08KU"
      },
      "source": [
        "Let's check our padding."
      ]
    },
    {
      "cell_type": "code",
      "execution_count": null,
      "metadata": {
        "id": "bfnPyqE7rAJC"
      },
      "outputs": [],
      "source": [
        "class TweetRNN(nn.Module):\n",
        "    def __init__(self, input_size, hidden_size, num_classes):\n",
        "        super(TweetRNN, self).__init__()\n",
        "        self.emb = nn.Embedding.from_pretrained(glove.vectors)\n",
        "        self.hidden_size = hidden_size\n",
        "        self.rnn = nn.RNN(input_size, hidden_size, batch_first=True)\n",
        "        self.fc = nn.Linear(hidden_size, num_classes)\n",
        "    \n",
        "    def forward(self, x):\n",
        "        # Look up the embedding\n",
        "        x = self.emb(x)\n",
        "        # Set an initial hidden state\n",
        "        h0 = torch.zeros(1, x.size(0), self.hidden_size)\n",
        "        # Forward propagate the RNN\n",
        "        out, _ = self.rnn(x, h0)\n",
        "        # Pass the output of the last time step to the classifier\n",
        "        out = self.fc(out[:, -1, :])\n",
        "        return out\n",
        "\n",
        "model = TweetRNN(50, 50, 3)"
      ]
    },
    {
      "cell_type": "markdown",
      "metadata": {
        "id": "mhmYA1F7u8EA"
      },
      "source": [
        "### Continue"
      ]
    },
    {
      "cell_type": "markdown",
      "metadata": {
        "id": "qyC0rgL51Y8D"
      },
      "source": [
        "We define our first neural network."
      ]
    },
    {
      "cell_type": "code",
      "execution_count": null,
      "metadata": {
        "id": "3lsn-4qNPR6a"
      },
      "outputs": [],
      "source": [
        "##### Using torch.cat CODE #############################################################\n",
        "\n",
        "# RNN Architecture\n",
        "class ResponseRNN(nn.Module):\n",
        "\n",
        "  def __init__(self, input_size, hidden_size, num_classes):\n",
        "    super(ResponseRNN, self).__init__()\n",
        "    #self.emb = nn.Embedding.from_pretrained(glove.vectors)  ## This is your embedding lmao you had it here \n",
        "    self.ident = torch.eye(input_size) \n",
        "    self.hidden_size = hidden_size\n",
        "    self.num_classes = num_classes\n",
        "    self.rnn = nn.RNN(input_size, hidden_size, num_classes, batch_first=True)\n",
        "    self.fc = nn.Linear(hidden_size*2, num_classes)\n",
        "\n",
        "  def forward(self, x):\n",
        "    # Look up the embedding\n",
        "    #x = self.emb(x)\n",
        "    x = self.ident[x]    ## This is your one hot encode? So it's passing in the character as x\n",
        "    # Set an initial hidden state\n",
        "    h0 = torch.zeros(self.num_classes, x.size(0), self.hidden_size)  # Initial Hidden State initialized to 0\n",
        "    # Forward propagate the RNN\n",
        "    out, _ = self.rnn(x, h0)\n",
        "    # Pass the output of the last time step to the classifier\n",
        "\n",
        "    # Hyperparameter 0 \n",
        "    #output = self.fc(out[:, -1, :])\n",
        "\n",
        "    # Hyperparameter 1\n",
        "    #output = self.fc(torch.max(out, dim=1)[0])\n",
        "\n",
        "    # Hyperparameter 2\n",
        "    out = torch.cat([torch.max(out, dim=1)[0], torch.mean(out, dim=1)], dim=1)\n",
        "    output = self.fc(out)   # Output passed to classifier to make decision\n",
        "    return output\n",
        "\n",
        "###############################################################################"
      ]
    },
    {
      "cell_type": "markdown",
      "metadata": {
        "id": "lV6qMCqsq4Xa"
      },
      "source": [
        "We define our second neural network."
      ]
    },
    {
      "cell_type": "code",
      "execution_count": null,
      "metadata": {
        "id": "hjiXYFVLq7yg"
      },
      "outputs": [],
      "source": [
        "class ResponseLSTM(nn.Module):\n",
        "    def __init__(self, input_size, hidden_size, num_classes):\n",
        "        super(ResponseLSTM, self).__init__()\n",
        "        #self.emb = nn.Embedding.from_pretrained(glove.vectors)  ## This is your embedding lmao you had it here \n",
        "        self.ident = torch.eye(input_size) \n",
        "        self.hidden_size = hidden_size\n",
        "        self.num_classes = num_classes\n",
        "        self.rnn = nn.LSTM(input_size, hidden_size, num_classes, batch_first=True)\n",
        "        self.fc = nn.Linear(hidden_size, num_classes)\n",
        "    \n",
        "    def forward(self, x):\n",
        "        # Look up the embedding\n",
        "        #x = self.emb(x)\n",
        "        x = self.ident[x]    ## This is your one hot encode? So it's passing in the character as x\n",
        "        # Set an initial hidden state and cell state\n",
        "        h0 = torch.zeros(self.num_classes, x.size(0), self.hidden_size)\n",
        "        c0 = torch.zeros(self.num_classes, x.size(0), self.hidden_size)\n",
        "        # Forward propagate the LSTM\n",
        "        out, _ = self.rnn(x, (h0, c0))  # This does the chain of rnn things for you \n",
        "        # Pass the output of the last time step to the classifier\n",
        "        out = self.fc(out[:, -1, :])\n",
        "        out = torch.cat([torch.max(out, dim=1)[0], torch.mean(out, dim=1)], dim=1)  \n",
        "        output = self.fc(out)        # THis is the final output that tells you the classification\n",
        "        return output"
      ]
    },
    {
      "cell_type": "markdown",
      "metadata": {
        "id": "w4bAhGw91a2u"
      },
      "source": [
        "We define the accuracy and training functions."
      ]
    },
    {
      "cell_type": "code",
      "execution_count": null,
      "metadata": {
        "id": "1PBr17vispTs"
      },
      "outputs": [],
      "source": [
        "def get_accuracy(model, data, batch_size = 32):\n",
        "    \"\"\" Compute the accuracy of the `model` across a dataset `data`\n",
        "    \n",
        "    Example usage:\n",
        "    \n",
        "    >>> model = MyRNN() # to be defined\n",
        "    >>> get_accuracy(model, valid) # the variable `valid` is from above\n",
        "    \"\"\"\n",
        "    data_iter = torchtext.data.BucketIterator(data,\n",
        "                              batch_size=batch_size,\n",
        "                              sort_key=lambda x: len(x.response), # to minimize padding\n",
        "                              sort_within_batch=True, # sort within each batch\n",
        "                              repeat=False) # repeat the iterator for many epochs\n",
        "    correct, total = 0, 0\n",
        "    for batch in data_iter:\n",
        "        output = model(batch.response[0])\n",
        "        pred = output.max(1, keepdim=True)[1]\n",
        "        correct += pred.eq(batch.label.view_as(pred)).sum().item()\n",
        "        total += batch.response[1].shape[0]\n",
        "    return correct / total"
      ]
    },
    {
      "cell_type": "code",
      "execution_count": null,
      "metadata": {
        "id": "pD_nr50esrI9"
      },
      "outputs": [],
      "source": [
        "\n",
        "def train_rnn_network(model, train, valid, batch_size=32, num_epochs=30, learning_rate=1e-5):\n",
        "  criterion = nn.CrossEntropyLoss()\n",
        "  optimizer = torch.optim.Adam(model.parameters(), lr=learning_rate)\n",
        "\n",
        "  # Lists for Plotting\n",
        "  iters, losses, train_acc, val_acc = [], [], [], []\n",
        "\n",
        "\n",
        "  train_loader = torchtext.data.BucketIterator(train,\n",
        "                          batch_size=batch_size,\n",
        "                          sort_key=lambda x: len(x.response), # to minimize padding\n",
        "                          sort_within_batch=True, # sort within each batch\n",
        "                          repeat=False) # repeat the iterator for many epochs\n",
        "\n",
        "  valid_loader = torchtext.data.BucketIterator(valid,\n",
        "                          batch_size=batch_size,\n",
        "                          sort_key=lambda x: len(x.response), # to minimize padding\n",
        "                          sort_within_batch=True, # sort within each batch\n",
        "                          repeat=False) # repeat the iterator for many epochs\n",
        "\n",
        "  # training\n",
        "  print (\"Training Started...\")\n",
        "  n = 0 # the number of iterations\n",
        "  for epoch in range(num_epochs):\n",
        "    for batch in train_loader:\n",
        "      optimizer.zero_grad()\n",
        "      pred = model(batch.response[0])\n",
        "      loss = criterion(pred, batch.label)\n",
        "      loss.backward()\n",
        "      optimizer.step()\n",
        "      n+=1\n",
        "\n",
        "    # track accuracy\n",
        "    iters.append(n)\n",
        "    losses.append(float(loss)/batch_size)                 # compute average loss\n",
        "    train_acc.append(get_accuracy(model, train))   # compute training accuracy\n",
        "    val_acc.append(get_accuracy(model, valid))       # compute valiation accuracy\n",
        "    print(epoch, train_acc[-1], val_acc[-1])\n",
        "\n",
        "    #print(\"epoch: \", epoch, end = \" \")\n",
        "    #print(\"train acc: \", get_accuracy(model, train), end = \" \")\n",
        "    #print(\"val acc: \", get_accuracy(model, valid))\n",
        "\n",
        "  # plotting\n",
        "  plt.title(\"Training Curve\")\n",
        "  plt.plot(iters, losses, label=\"Train\")\n",
        "  plt.xlabel(\"Iterations\")\n",
        "  plt.ylabel(\"Loss\")\n",
        "  plt.show()\n",
        "\n",
        "  plt.title(\"Training Curve\")\n",
        "  plt.plot(iters, train_acc, label=\"Train\")\n",
        "  plt.plot(iters, val_acc, label=\"Validation\")\n",
        "  plt.xlabel(\"Iterations\")\n",
        "  plt.ylabel(\"Training Accuracy\")\n",
        "  plt.legend(loc='best')\n",
        "  plt.show()\n",
        "\n",
        "  print(\"Final Training Accuracy: {}\".format(train_acc[-1]))\n",
        "  print(\"Final Validation Accuracy: {}\".format(val_acc[-1]))\n",
        "\n",
        "  return train_acc, val_acc\n",
        "  #############################################################################"
      ]
    },
    {
      "cell_type": "markdown",
      "metadata": {
        "id": "QL6rCRtmmc_4"
      },
      "source": [
        "Build up a vocabulary."
      ]
    },
    {
      "cell_type": "code",
      "execution_count": null,
      "metadata": {
        "id": "WtpqpMEcmcML"
      },
      "outputs": [],
      "source": [
        "text_field.build_vocab(train)"
      ]
    },
    {
      "cell_type": "markdown",
      "metadata": {
        "id": "CDvpAwA0dyjG"
      },
      "source": [
        "Make an instance of the model and run the training."
      ]
    },
    {
      "cell_type": "code",
      "execution_count": null,
      "metadata": {
        "colab": {
          "base_uri": "https://localhost:8080/",
          "height": 1000
        },
        "id": "MOyR0cB5hAYI",
        "outputId": "d5556003-6a0b-4391-bf26-bff485ca85f1"
      },
      "outputs": [
        {
          "name": "stdout",
          "output_type": "stream",
          "text": [
            "Training Started...\n",
            "0 0.6582781456953642 0.6932270916334662\n",
            "1 0.6582781456953642 0.6932270916334662\n",
            "2 0.6582781456953642 0.6932270916334662\n",
            "3 0.766887417218543 0.7250996015936255\n",
            "4 0.9006622516556292 0.7888446215139442\n",
            "5 0.952317880794702 0.7768924302788844\n",
            "6 0.9549668874172186 0.796812749003984\n",
            "7 0.9854304635761589 0.7529880478087649\n",
            "8 0.9960264900662251 0.7848605577689243\n",
            "9 1.0 0.796812749003984\n"
          ]
        },
        {
          "data": {
            "image/png": "[encoded data removed]",
            "text/plain": [
              "<Figure size 432x288 with 1 Axes>"
            ]
          },
          "metadata": {
            "needs_background": "light",
            "tags": []
          },
          "output_type": "display_data"
        },
        {
          "data": {
            "image/png": "[encoded data removed]",
            "text/plain": [
              "<Figure size 432x288 with 1 Axes>"
            ]
          },
          "metadata": {
            "needs_background": "light",
            "tags": []
          },
          "output_type": "display_data"
        },
        {
          "name": "stdout",
          "output_type": "stream",
          "text": [
            "Final Training Accuracy: 1.0\n",
            "Final Validation Accuracy: 0.796812749003984\n"
          ]
        },
        {
          "data": {
            "text/plain": [
              "([0.6582781456953642,\n",
              "  0.6582781456953642,\n",
              "  0.6582781456953642,\n",
              "  0.766887417218543,\n",
              "  0.9006622516556292,\n",
              "  0.952317880794702,\n",
              "  0.9549668874172186,\n",
              "  0.9854304635761589,\n",
              "  0.9960264900662251,\n",
              "  1.0],\n",
              " [0.6932270916334662,\n",
              "  0.6932270916334662,\n",
              "  0.6932270916334662,\n",
              "  0.7250996015936255,\n",
              "  0.7888446215139442,\n",
              "  0.7768924302788844,\n",
              "  0.796812749003984,\n",
              "  0.7529880478087649,\n",
              "  0.7848605577689243,\n",
              "  0.796812749003984])"
            ]
          },
          "execution_count": 28,
          "metadata": {
            "tags": []
          },
          "output_type": "execute_result"
        }
      ],
      "source": [
        "model_100 = ResponseRNN(input_size=len(text_field.vocab), hidden_size=25, num_classes=2)\n",
        "train_rnn_network(model_100, train, valid, batch_size=16, num_epochs=10, learning_rate=1e-3)"
      ]
    },
    {
      "cell_type": "code",
      "execution_count": null,
      "metadata": {
        "colab": {
          "base_uri": "https://localhost:8080/",
          "height": 1000
        },
        "id": "EK03aM4YdyFd",
        "outputId": "e323c266-ca36-4878-dfde-2afe1020f553"
      },
      "outputs": [
        {
          "name": "stdout",
          "output_type": "stream",
          "text": [
            "Training Started...\n",
            "0 0.6582781456953642 0.6932270916334662\n",
            "1 0.6582781456953642 0.6932270916334662\n",
            "2 0.6582781456953642 0.6932270916334662\n",
            "3 0.6993377483443709 0.7450199203187251\n",
            "4 0.9033112582781457 0.7250996015936255\n",
            "5 0.9390728476821192 0.7529880478087649\n",
            "6 0.9655629139072848 0.7689243027888446\n",
            "7 0.9576158940397351 0.6892430278884463\n",
            "8 0.9867549668874173 0.7529880478087649\n",
            "9 0.9933774834437086 0.7768924302788844\n"
          ]
        },
        {
          "data": {
            "image/png": "[encoded data removed]",
            "text/plain": [
              "<Figure size 432x288 with 1 Axes>"
            ]
          },
          "metadata": {
            "needs_background": "light",
            "tags": []
          },
          "output_type": "display_data"
        },
        {
          "data": {
            "image/png": "[encoded data removed]",
            "text/plain": [
              "<Figure size 432x288 with 1 Axes>"
            ]
          },
          "metadata": {
            "needs_background": "light",
            "tags": []
          },
          "output_type": "display_data"
        },
        {
          "name": "stdout",
          "output_type": "stream",
          "text": [
            "Final Training Accuracy: 0.9933774834437086\n",
            "Final Validation Accuracy: 0.7768924302788844\n"
          ]
        },
        {
          "data": {
            "text/plain": [
              "([0.6582781456953642,\n",
              "  0.6582781456953642,\n",
              "  0.6582781456953642,\n",
              "  0.6993377483443709,\n",
              "  0.9033112582781457,\n",
              "  0.9390728476821192,\n",
              "  0.9655629139072848,\n",
              "  0.9576158940397351,\n",
              "  0.9867549668874173,\n",
              "  0.9933774834437086],\n",
              " [0.6932270916334662,\n",
              "  0.6932270916334662,\n",
              "  0.6932270916334662,\n",
              "  0.7450199203187251,\n",
              "  0.7250996015936255,\n",
              "  0.7529880478087649,\n",
              "  0.7689243027888446,\n",
              "  0.6892430278884463,\n",
              "  0.7529880478087649,\n",
              "  0.7768924302788844])"
            ]
          },
          "execution_count": 29,
          "metadata": {
            "tags": []
          },
          "output_type": "execute_result"
        }
      ],
      "source": [
        "model_10 = ResponseRNN(input_size=len(text_field.vocab), hidden_size=18, num_classes=2)\n",
        "train_rnn_network(model_10, train, valid, batch_size=16, num_epochs=10, learning_rate=1e-3)"
      ]
    },
    {
      "cell_type": "code",
      "execution_count": null,
      "metadata": {
        "id": "22cEwIGsWCk9"
      },
      "outputs": [],
      "source": [
        "torch.save(model_10.state_dict(), '/content/drive/My Drive/Colab Notebooks/UnERD/Model_V2/Saves/model_10.pt')"
      ]
    },
    {
      "cell_type": "code",
      "execution_count": null,
      "metadata": {
        "id": "T5x_yx6mWbMd"
      },
      "outputs": [],
      "source": [
        "model = ResponseRNN(input_size=len(text_field.vocab), hidden_size=25, num_classes=2)\n",
        "model.load_state_dict(torch.load('/content/drive/My Drive/Colab Notebooks/UnERD/Model_V2/Saves/model_10.pt'))\n",
        "model.eval()"
      ]
    },
    {
      "cell_type": "markdown",
      "metadata": {
        "id": "LDBZw1N7XNGx"
      },
      "source": [
        "\n",
        "\n",
        "```\n",
        "# Specify a path\n",
        "PATH = \"state_dict_model.pt\"\n",
        "\n",
        "# Save\n",
        "torch.save(net.state_dict(), PATH)\n",
        "\n",
        "# Load\n",
        "model = Net()\n",
        "model.load_state_dict(torch.load(PATH))\n",
        "model.eval()\n",
        "```\n",
        "\n"
      ]
    },
    {
      "cell_type": "code",
      "execution_count": null,
      "metadata": {
        "id": "mUIgPudY8wlU"
      },
      "outputs": [],
      "source": [
        "torch.save(model_11.state_dict(), '/content/drive/My Drive/Colab Notebooks/UnERD/Model_V2/Saves/model_10.pt')"
      ]
    },
    {
      "cell_type": "code",
      "execution_count": null,
      "metadata": {
        "id": "B4EVQIVmKoba"
      },
      "outputs": [],
      "source": [
        "model = ResponseRNN(input_size=len(text_field.vocab), hidden_size=25, num_classes=2)\n",
        "model.load_state_dict(torch.load('/content/drive/My Drive/Colab Notebooks/UnERD/Model_V2/Saves/model_10.pt'))\n",
        "model.eval()"
      ]
    },
    {
      "cell_type": "code",
      "execution_count": null,
      "metadata": {
        "colab": {
          "base_uri": "https://localhost:8080/",
          "height": 34
        },
        "id": "EviawVv888Pr",
        "outputId": "07f8dfc9-d624-4822-dff1-6ce8181d84bb"
      },
      "outputs": [
        {
          "name": "stdout",
          "output_type": "stream",
          "text": [
            "The Test Accuracy is: 0.8055555555555556\n"
          ]
        }
      ],
      "source": [
        "# Do the test set now:\n",
        "test_accuracy = get_accuracy(model, test)\n",
        "print(\"The Test Accuracy is: {}\".format(test_accuracy))"
      ]
    },
    {
      "cell_type": "code",
      "execution_count": null,
      "metadata": {
        "colab": {
          "base_uri": "https://localhost:8080/",
          "height": 1000
        },
        "id": "6bQOAPLB8nnx",
        "outputId": "fc31ce0b-e267-47b1-84e3-41e0edb97ba5"
      },
      "outputs": [
        {
          "name": "stdout",
          "output_type": "stream",
          "text": [
            "Training Started...\n",
            "0 0.6437086092715232 0.6932270916334662\n",
            "1 0.6437086092715232 0.6932270916334662\n",
            "2 0.6437086092715232 0.6932270916334662\n",
            "3 0.6437086092715232 0.6932270916334662\n",
            "4 0.6437086092715232 0.6932270916334662\n",
            "5 0.6437086092715232 0.6932270916334662\n",
            "6 0.6437086092715232 0.6932270916334662\n",
            "7 0.7072847682119205 0.7211155378486056\n",
            "8 0.7841059602649006 0.601593625498008\n",
            "9 0.9059602649006623 0.7529880478087649\n",
            "10 0.928476821192053 0.7330677290836654\n",
            "11 0.9615894039735099 0.7808764940239044\n",
            "12 0.9655629139072848 0.7928286852589641\n",
            "13 0.9774834437086093 0.7689243027888446\n",
            "14 0.9867549668874173 0.8087649402390438\n"
          ]
        },
        {
          "data": {
            "image/png": "[encoded data removed]",
            "text/plain": [
              "<Figure size 432x288 with 1 Axes>"
            ]
          },
          "metadata": {
            "needs_background": "light",
            "tags": []
          },
          "output_type": "display_data"
        },
        {
          "data": {
            "image/png": "[encoded data removed]",
            "text/plain": [
              "<Figure size 432x288 with 1 Axes>"
            ]
          },
          "metadata": {
            "needs_background": "light",
            "tags": []
          },
          "output_type": "display_data"
        },
        {
          "name": "stdout",
          "output_type": "stream",
          "text": [
            "Final Training Accuracy: 0.9867549668874173\n",
            "Final Validation Accuracy: 0.8087649402390438\n"
          ]
        },
        {
          "data": {
            "text/plain": [
              "([0.6437086092715232,\n",
              "  0.6437086092715232,\n",
              "  0.6437086092715232,\n",
              "  0.6437086092715232,\n",
              "  0.6437086092715232,\n",
              "  0.6437086092715232,\n",
              "  0.6437086092715232,\n",
              "  0.7072847682119205,\n",
              "  0.7841059602649006,\n",
              "  0.9059602649006623,\n",
              "  0.928476821192053,\n",
              "  0.9615894039735099,\n",
              "  0.9655629139072848,\n",
              "  0.9774834437086093,\n",
              "  0.9867549668874173],\n",
              " [0.6932270916334662,\n",
              "  0.6932270916334662,\n",
              "  0.6932270916334662,\n",
              "  0.6932270916334662,\n",
              "  0.6932270916334662,\n",
              "  0.6932270916334662,\n",
              "  0.6932270916334662,\n",
              "  0.7211155378486056,\n",
              "  0.601593625498008,\n",
              "  0.7529880478087649,\n",
              "  0.7330677290836654,\n",
              "  0.7808764940239044,\n",
              "  0.7928286852589641,\n",
              "  0.7689243027888446,\n",
              "  0.8087649402390438])"
            ]
          },
          "execution_count": 31,
          "metadata": {
            "tags": []
          },
          "output_type": "execute_result"
        }
      ],
      "source": [
        "model_14 = ResponseRNN(input_size=len(text_field.vocab), hidden_size=25, num_classes=2)\n",
        "train_rnn_network(model_14, train, valid, batch_size=64, num_epochs=15, learning_rate=1e-3)"
      ]
    },
    {
      "cell_type": "code",
      "execution_count": null,
      "metadata": {
        "colab": {
          "base_uri": "https://localhost:8080/",
          "height": 1000
        },
        "id": "ba-7vwIl-Ieu",
        "outputId": "0ccaf062-5f4a-4a59-857a-622c1172d342"
      },
      "outputs": [
        {
          "name": "stdout",
          "output_type": "stream",
          "text": [
            "Training Started...\n",
            "0 0.6582781456953642 0.6932270916334662\n",
            "1 0.6582781456953642 0.6932270916334662\n",
            "2 0.6582781456953642 0.6932270916334662\n",
            "3 0.6582781456953642 0.6932270916334662\n",
            "4 0.6582781456953642 0.6932270916334662\n",
            "5 0.6582781456953642 0.6932270916334662\n",
            "6 0.6582781456953642 0.6932270916334662\n",
            "7 0.6582781456953642 0.6932270916334662\n",
            "8 0.6609271523178808 0.6972111553784861\n",
            "9 0.7960264900662252 0.7330677290836654\n",
            "10 0.8291390728476821 0.7370517928286853\n",
            "11 0.8105960264900662 0.6254980079681275\n",
            "12 0.871523178807947 0.6892430278884463\n",
            "13 0.8821192052980132 0.7450199203187251\n",
            "14 0.9205298013245033 0.7569721115537849\n",
            "15 0.9245033112582781 0.7330677290836654\n",
            "16 0.9364238410596026 0.7370517928286853\n",
            "17 0.9470198675496688 0.7410358565737052\n",
            "18 0.9589403973509933 0.7529880478087649\n",
            "19 0.9668874172185431 0.7569721115537849\n",
            "20 0.9682119205298013 0.7649402390438247\n",
            "21 0.9748344370860927 0.7729083665338645\n",
            "22 0.9748344370860927 0.7768924302788844\n",
            "23 0.9417218543046357 0.7569721115537849\n",
            "24 0.9841059602649007 0.7729083665338645\n",
            "25 0.9814569536423841 0.7649402390438247\n",
            "26 0.9894039735099338 0.7808764940239044\n",
            "27 0.9894039735099338 0.7888446215139442\n",
            "28 0.9920529801324504 0.7928286852589641\n",
            "29 0.9920529801324504 0.7928286852589641\n",
            "30 0.9920529801324504 0.796812749003984\n",
            "31 0.9933774834437086 0.796812749003984\n",
            "32 0.9933774834437086 0.796812749003984\n",
            "33 0.9947019867549669 0.796812749003984\n",
            "34 0.9960264900662251 0.8007968127490039\n"
          ]
        },
        {
          "data": {
            "image/png": "[encoded data removed]",
            "text/plain": [
              "<Figure size 432x288 with 1 Axes>"
            ]
          },
          "metadata": {
            "needs_background": "light",
            "tags": []
          },
          "output_type": "display_data"
        },
        {
          "data": {
            "image/png": "[encoded data removed]",
            "text/plain": [
              "<Figure size 432x288 with 1 Axes>"
            ]
          },
          "metadata": {
            "needs_background": "light",
            "tags": []
          },
          "output_type": "display_data"
        },
        {
          "name": "stdout",
          "output_type": "stream",
          "text": [
            "Final Training Accuracy: 0.9960264900662251\n",
            "Final Validation Accuracy: 0.8007968127490039\n"
          ]
        },
        {
          "data": {
            "text/plain": [
              "([0.6582781456953642,\n",
              "  0.6582781456953642,\n",
              "  0.6582781456953642,\n",
              "  0.6582781456953642,\n",
              "  0.6582781456953642,\n",
              "  0.6582781456953642,\n",
              "  0.6582781456953642,\n",
              "  0.6582781456953642,\n",
              "  0.6609271523178808,\n",
              "  0.7960264900662252,\n",
              "  0.8291390728476821,\n",
              "  0.8105960264900662,\n",
              "  0.871523178807947,\n",
              "  0.8821192052980132,\n",
              "  0.9205298013245033,\n",
              "  0.9245033112582781,\n",
              "  0.9364238410596026,\n",
              "  0.9470198675496688,\n",
              "  0.9589403973509933,\n",
              "  0.9668874172185431,\n",
              "  0.9682119205298013,\n",
              "  0.9748344370860927,\n",
              "  0.9748344370860927,\n",
              "  0.9417218543046357,\n",
              "  0.9841059602649007,\n",
              "  0.9814569536423841,\n",
              "  0.9894039735099338,\n",
              "  0.9894039735099338,\n",
              "  0.9920529801324504,\n",
              "  0.9920529801324504,\n",
              "  0.9920529801324504,\n",
              "  0.9933774834437086,\n",
              "  0.9933774834437086,\n",
              "  0.9947019867549669,\n",
              "  0.9960264900662251],\n",
              " [0.6932270916334662,\n",
              "  0.6932270916334662,\n",
              "  0.6932270916334662,\n",
              "  0.6932270916334662,\n",
              "  0.6932270916334662,\n",
              "  0.6932270916334662,\n",
              "  0.6932270916334662,\n",
              "  0.6932270916334662,\n",
              "  0.6972111553784861,\n",
              "  0.7330677290836654,\n",
              "  0.7370517928286853,\n",
              "  0.6254980079681275,\n",
              "  0.6892430278884463,\n",
              "  0.7450199203187251,\n",
              "  0.7569721115537849,\n",
              "  0.7330677290836654,\n",
              "  0.7370517928286853,\n",
              "  0.7410358565737052,\n",
              "  0.7529880478087649,\n",
              "  0.7569721115537849,\n",
              "  0.7649402390438247,\n",
              "  0.7729083665338645,\n",
              "  0.7768924302788844,\n",
              "  0.7569721115537849,\n",
              "  0.7729083665338645,\n",
              "  0.7649402390438247,\n",
              "  0.7808764940239044,\n",
              "  0.7888446215139442,\n",
              "  0.7928286852589641,\n",
              "  0.7928286852589641,\n",
              "  0.796812749003984,\n",
              "  0.796812749003984,\n",
              "  0.796812749003984,\n",
              "  0.796812749003984,\n",
              "  0.8007968127490039])"
            ]
          },
          "execution_count": 36,
          "metadata": {
            "tags": []
          },
          "output_type": "execute_result"
        }
      ],
      "source": [
        "model_14 = ResponseRNN(input_size=len(text_field.vocab), hidden_size=10, num_classes=2)\n",
        "train_rnn_network(model_14, train, valid, batch_size=80, num_epochs=35, learning_rate=1e-3)"
      ]
    },
    {
      "cell_type": "markdown",
      "metadata": {
        "id": "qqKxGK8v8jrc"
      },
      "source": [
        "# Real Data"
      ]
    },
    {
      "cell_type": "markdown",
      "metadata": {
        "id": "RRgKhK5FnhcU"
      },
      "source": [
        "Sentiment Analysis on New Responses"
      ]
    },
    {
      "cell_type": "code",
      "execution_count": null,
      "metadata": {
        "id": "RFqmy4vboOn1"
      },
      "outputs": [],
      "source": [
        "def split_tweet(tweet):\n",
        "    # separate punctuations\n",
        "    tweet = tweet.replace(\".\", \" . \") \\\n",
        "                 .replace(\",\", \" , \") \\\n",
        "                 .replace(\";\", \" ; \") \\\n",
        "                 .replace(\"?\", \" ? \")\n",
        "    return tweet.lower().split()"
      ]
    },
    {
      "cell_type": "code",
      "execution_count": null,
      "metadata": {
        "colab": {
          "base_uri": "https://localhost:8080/"
        },
        "id": "W9eQ8eo6orzl",
        "outputId": "4be037c3-2816-4794-8b2c-bee82e0b6c9f"
      },
      "outputs": [
        {
          "name": "stderr",
          "output_type": "stream",
          "text": [
            ".vector_cache/glove.6B.zip: 862MB [06:42, 2.14MB/s]                          \n",
            "100%|█████████▉| 399469/400000 [00:14<00:00, 26884.77it/s]"
          ]
        }
      ],
      "source": [
        "glove = torchtext.vocab.GloVe(name=\"6B\", dim=50)"
      ]
    },
    {
      "cell_type": "code",
      "execution_count": null,
      "metadata": {
        "id": "6hAb8Dr0nobn"
      },
      "outputs": [],
      "source": [
        "def get_new_tweet(glove_vector, sample_tweet):\n",
        "    tweet = sample_tweet\n",
        "    idxs = [glove_vector.stoi[w]        # lookup the index of word\n",
        "            for w in split_tweet(tweet)\n",
        "            if w in glove_vector.stoi] # keep words that has an embedding\n",
        "    idxs = torch.tensor(idxs) # convert list to pytorch tensor\n",
        "    return idxs"
      ]
    },
    {
      "cell_type": "code",
      "execution_count": null,
      "metadata": {
        "colab": {
          "base_uri": "https://localhost:8080/"
        },
        "id": "u486X7y6nrZG",
        "outputId": "df2078a7-f4d3-4aa4-a329-6b6447c56da2"
      },
      "outputs": [
        {
          "name": "stdout",
          "output_type": "stream",
          "text": [
            "torch.Size([3])\n",
            "tensor([[2]])\n"
          ]
        }
      ],
      "source": [
        "new_tweet = get_new_tweet(glove, \"This is bad\")\n",
        "print(new_tweet.shape)\n",
        "\n",
        "out = torch.sigmoid(model(new_tweet.unsqueeze(0)))\n",
        "pred = out.max(1, keepdim=True)[1]\n",
        "print(pred)"
      ]
    },
    {
      "cell_type": "code",
      "execution_count": null,
      "metadata": {
        "colab": {
          "base_uri": "https://localhost:8080/"
        },
        "id": "IKDMe1i8nu5J",
        "outputId": "20aeb0a9-981f-4701-87f8-f140eec38c8e"
      },
      "outputs": [
        {
          "name": "stdout",
          "output_type": "stream",
          "text": [
            "torch.Size([8])\n",
            "tensor([[2]])\n"
          ]
        }
      ],
      "source": [
        "new_tweet = get_new_tweet(glove, \"This is the best day of my life\")\n",
        "print(new_tweet.shape)\n",
        "\n",
        "out = torch.sigmoid(model(new_tweet.unsqueeze(0)))\n",
        "pred = out.max(1, keepdim=True)[1]\n",
        "print(pred)"
      ]
    },
    {
      "cell_type": "code",
      "execution_count": null,
      "metadata": {
        "id": "lD6YTVke7zOr"
      },
      "outputs": [],
      "source": []
    }
  ],
  "metadata": {
    "colab": {
      "collapsed_sections": [
        "lfaSfzlgRYDH"
      ],
      "name": "ModelV3",
      "provenance": []
    },
    "kernelspec": {
      "display_name": "Python 3.10.4 64-bit",
      "language": "python",
      "name": "python3"
    },
    "language_info": {
      "name": "python",
      "version": "3.10.4"
    },
    "vscode": {
      "interpreter": {
        "hash": "6a6d6db9694305e110445908428f78851d0d4f681eb81b5f3cc121d452b2ba86"
      }
    }
  },
  "nbformat": 4,
  "nbformat_minor": 0
}
