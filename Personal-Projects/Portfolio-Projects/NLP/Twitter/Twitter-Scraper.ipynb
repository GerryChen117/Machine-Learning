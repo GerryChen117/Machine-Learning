{
 "cells": [
  {
   "cell_type": "markdown",
   "metadata": {},
   "source": [
    "# Twitter Scraper"
   ]
  },
  {
   "cell_type": "code",
   "execution_count": 18,
   "metadata": {},
   "outputs": [],
   "source": [
    "from twitter_scraper import get_tweets\n",
    "\n",
    "test = get_tweets('#influencer')"
   ]
  },
  {
   "cell_type": "code",
   "execution_count": 17,
   "metadata": {},
   "outputs": [
    {
     "ename": "ValueError",
     "evalue": "Oops! Either \"%23influencer\" does not exist or is private.",
     "output_type": "error",
     "traceback": [
      "\u001b[1;31m---------------------------------------------------------------------------\u001b[0m",
      "\u001b[1;31mKeyError\u001b[0m                                  Traceback (most recent call last)",
      "File \u001b[1;32mc:\\Users\\gerry\\AppData\\Local\\Programs\\Python\\Python310\\lib\\site-packages\\twitter_scraper\\modules\\tweets.py:37\u001b[0m, in \u001b[0;36mget_tweets.<locals>.gen_tweets\u001b[1;34m(pages)\u001b[0m\n\u001b[0;32m     35\u001b[0m \u001b[39mtry\u001b[39;00m:\n\u001b[0;32m     36\u001b[0m     html \u001b[39m=\u001b[39m HTML(\n\u001b[1;32m---> 37\u001b[0m         html\u001b[39m=\u001b[39mr\u001b[39m.\u001b[39;49mjson()[\u001b[39m\"\u001b[39;49m\u001b[39mitems_html\u001b[39;49m\u001b[39m\"\u001b[39;49m], url\u001b[39m=\u001b[39m\u001b[39m\"\u001b[39m\u001b[39mbunk\u001b[39m\u001b[39m\"\u001b[39m, default_encoding\u001b[39m=\u001b[39m\u001b[39m\"\u001b[39m\u001b[39mutf-8\u001b[39m\u001b[39m\"\u001b[39m\n\u001b[0;32m     38\u001b[0m     )\n\u001b[0;32m     39\u001b[0m \u001b[39mexcept\u001b[39;00m \u001b[39mKeyError\u001b[39;00m:\n",
      "\u001b[1;31mKeyError\u001b[0m: 'items_html'",
      "\nDuring handling of the above exception, another exception occurred:\n",
      "\u001b[1;31mValueError\u001b[0m                                Traceback (most recent call last)",
      "\u001b[1;32md:\\GitHub\\My-Machine-Learning-Projects\\Personal-Projects\\Portfolio-Projects\\NLP\\Twitter\\Twitter-Scraper.ipynb Cell 3'\u001b[0m in \u001b[0;36m<cell line: 1>\u001b[1;34m()\u001b[0m\n\u001b[1;32m----> <a href='vscode-notebook-cell:/d%3A/GitHub/My-Machine-Learning-Projects/Personal-Projects/Portfolio-Projects/NLP/Twitter/Twitter-Scraper.ipynb#ch0000002?line=0'>1</a>\u001b[0m \u001b[39mfor\u001b[39;00m item \u001b[39min\u001b[39;00m test:\n\u001b[0;32m      <a href='vscode-notebook-cell:/d%3A/GitHub/My-Machine-Learning-Projects/Personal-Projects/Portfolio-Projects/NLP/Twitter/Twitter-Scraper.ipynb#ch0000002?line=1'>2</a>\u001b[0m     \u001b[39mprint\u001b[39m(item[\u001b[39m'\u001b[39m\u001b[39mtweetId\u001b[39m\u001b[39m'\u001b[39m])\n",
      "File \u001b[1;32mc:\\Users\\gerry\\AppData\\Local\\Programs\\Python\\Python310\\lib\\site-packages\\twitter_scraper\\modules\\tweets.py:170\u001b[0m, in \u001b[0;36mget_tweets\u001b[1;34m(query, pages)\u001b[0m\n\u001b[0;32m    167\u001b[0m         r \u001b[39m=\u001b[39m session\u001b[39m.\u001b[39mget(url, params\u001b[39m=\u001b[39m{\u001b[39m\"\u001b[39m\u001b[39mmax_position\u001b[39m\u001b[39m\"\u001b[39m: last_tweet}, headers\u001b[39m=\u001b[39mheaders)\n\u001b[0;32m    168\u001b[0m         pages \u001b[39m+\u001b[39m\u001b[39m=\u001b[39m \u001b[39m-\u001b[39m\u001b[39m1\u001b[39m\n\u001b[1;32m--> 170\u001b[0m \u001b[39myield from\u001b[39;00m gen_tweets(pages)\n",
      "File \u001b[1;32mc:\\Users\\gerry\\AppData\\Local\\Programs\\Python\\Python310\\lib\\site-packages\\twitter_scraper\\modules\\tweets.py:40\u001b[0m, in \u001b[0;36mget_tweets.<locals>.gen_tweets\u001b[1;34m(pages)\u001b[0m\n\u001b[0;32m     36\u001b[0m     html \u001b[39m=\u001b[39m HTML(\n\u001b[0;32m     37\u001b[0m         html\u001b[39m=\u001b[39mr\u001b[39m.\u001b[39mjson()[\u001b[39m\"\u001b[39m\u001b[39mitems_html\u001b[39m\u001b[39m\"\u001b[39m], url\u001b[39m=\u001b[39m\u001b[39m\"\u001b[39m\u001b[39mbunk\u001b[39m\u001b[39m\"\u001b[39m, default_encoding\u001b[39m=\u001b[39m\u001b[39m\"\u001b[39m\u001b[39mutf-8\u001b[39m\u001b[39m\"\u001b[39m\n\u001b[0;32m     38\u001b[0m     )\n\u001b[0;32m     39\u001b[0m \u001b[39mexcept\u001b[39;00m \u001b[39mKeyError\u001b[39;00m:\n\u001b[1;32m---> 40\u001b[0m     \u001b[39mraise\u001b[39;00m \u001b[39mValueError\u001b[39;00m(\n\u001b[0;32m     41\u001b[0m         \u001b[39mf\u001b[39m\u001b[39m'\u001b[39m\u001b[39mOops! Either \u001b[39m\u001b[39m\"\u001b[39m\u001b[39m{\u001b[39;00mquery\u001b[39m}\u001b[39;00m\u001b[39m\"\u001b[39m\u001b[39m does not exist or is private.\u001b[39m\u001b[39m'\u001b[39m\n\u001b[0;32m     42\u001b[0m     )\n\u001b[0;32m     43\u001b[0m \u001b[39mexcept\u001b[39;00m ParserError:\n\u001b[0;32m     44\u001b[0m     \u001b[39mbreak\u001b[39;00m\n",
      "\u001b[1;31mValueError\u001b[0m: Oops! Either \"%23influencer\" does not exist or is private."
     ]
    }
   ],
   "source": [
    "for item in test:\n",
    "    print(item['tweetId'])"
   ]
  },
  {
   "cell_type": "code",
   "execution_count": null,
   "metadata": {},
   "outputs": [],
   "source": []
  }
 ],
 "metadata": {
  "kernelspec": {
   "display_name": "Python 3.10.4 64-bit",
   "language": "python",
   "name": "python3"
  },
  "language_info": {
   "codemirror_mode": {
    "name": "ipython",
    "version": 3
   },
   "file_extension": ".py",
   "mimetype": "text/x-python",
   "name": "python",
   "nbconvert_exporter": "python",
   "pygments_lexer": "ipython3",
   "version": "3.10.4"
  },
  "orig_nbformat": 4,
  "vscode": {
   "interpreter": {
    "hash": "6a6d6db9694305e110445908428f78851d0d4f681eb81b5f3cc121d452b2ba86"
   }
  }
 },
 "nbformat": 4,
 "nbformat_minor": 2
}
