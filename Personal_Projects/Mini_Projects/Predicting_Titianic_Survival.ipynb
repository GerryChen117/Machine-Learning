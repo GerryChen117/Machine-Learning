{
  "nbformat": 4,
  "nbformat_minor": 0,
  "metadata": {
    "colab": {
      "name": "Logistic Regression Project: Kaggle Predict Titanic Survival.ipynb",
      "provenance": [],
      "collapsed_sections": []
    },
    "kernelspec": {
      "name": "python3",
      "display_name": "Python 3"
    }
  },
  "cells": [
    {
      "cell_type": "markdown",
      "metadata": {
        "id": "UzWwdYgZ81yH"
      },
      "source": [
        "# Overview"
      ]
    },
    {
      "cell_type": "markdown",
      "metadata": {
        "id": "4ISEmQ_z84DG"
      },
      "source": [
        "In this project, I create a Logistic Regression model that predicts which passengers survived the sinking of the Titanic based on features like age and class. The data we will be using for training our model is provided by Kaggle."
      ]
    },
    {
      "cell_type": "markdown",
      "metadata": {
        "id": "UVHhU9xzLX_J"
      },
      "source": [
        "## The Set Up"
      ]
    },
    {
      "cell_type": "code",
      "metadata": {
        "id": "oZpC4SmBJt4m",
        "outputId": "e8c361f2-a275-4cfa-f816-14101920ad09",
        "colab": {
          "base_uri": "https://localhost:8080/"
        }
      },
      "source": [
        "# Mount the drive for file upload\n",
        "from google.colab import drive\n",
        "drive.mount('/content/drive')"
      ],
      "execution_count": null,
      "outputs": [
        {
          "output_type": "stream",
          "text": [
            "Mounted at /content/drive\n"
          ],
          "name": "stdout"
        }
      ]
    },
    {
      "cell_type": "code",
      "metadata": {
        "id": "jnr7crg93eVa"
      },
      "source": [
        "import pandas as pd\n",
        "import numpy as np\n",
        "import matplotlib.pyplot as plt\n",
        "from sklearn.linear_model import LogisticRegression\n",
        "from sklearn.model_selection import train_test_split\n",
        "from sklearn.preprocessing import StandardScaler"
      ],
      "execution_count": null,
      "outputs": []
    },
    {
      "cell_type": "markdown",
      "metadata": {
        "id": "lg6sMIc_Lbk3"
      },
      "source": [
        "The data from kaggle comes presorted into a training set and a testing set (which is left untouched until the very end). We still need to split the training set into a training and validation set. Let's first see what type of data we are working with. "
      ]
    },
    {
      "cell_type": "code",
      "metadata": {
        "id": "sqqwCdVyJ2T9"
      },
      "source": [
        "location = \"/content/drive/My Drive/Colab Notebooks/Codacademy Machine Learning/Logistic Regression/titanic/\"\n",
        "training_set = \"/content/drive/My Drive/Colab Notebooks/Codacademy Machine Learning/Logistic Regression/titanic/train.csv\"\n",
        "test_set = \"/content/drive/My Drive/Colab Notebooks/Codacademy Machine Learning/Logistic Regression/titanic/test.csv\""
      ],
      "execution_count": null,
      "outputs": []
    },
    {
      "cell_type": "code",
      "metadata": {
        "id": "P7bkVonMKpcA",
        "outputId": "9cba12c6-e080-41a5-8b79-172c72356524",
        "colab": {
          "base_uri": "https://localhost:8080/"
        }
      },
      "source": [
        "passengers = pd.read_csv(training_set)\n",
        "print(passengers.head())"
      ],
      "execution_count": null,
      "outputs": [
        {
          "output_type": "stream",
          "text": [
            "   PassengerId  Survived  Pclass  ...     Fare Cabin  Embarked\n",
            "0            1         0       3  ...   7.2500   NaN         S\n",
            "1            2         1       1  ...  71.2833   C85         C\n",
            "2            3         1       3  ...   7.9250   NaN         S\n",
            "3            4         1       1  ...  53.1000  C123         S\n",
            "4            5         0       3  ...   8.0500   NaN         S\n",
            "\n",
            "[5 rows x 12 columns]\n"
          ],
          "name": "stdout"
        }
      ]
    },
    {
      "cell_type": "code",
      "metadata": {
        "id": "jg4k8XQZKwbB",
        "outputId": "af266c96-c355-4045-dbbd-a810e466d0d7",
        "colab": {
          "base_uri": "https://localhost:8080/"
        }
      },
      "source": [
        "print(passengers.columns)"
      ],
      "execution_count": null,
      "outputs": [
        {
          "output_type": "stream",
          "text": [
            "Index(['PassengerId', 'Survived', 'Pclass', 'Name', 'Sex', 'Age', 'SibSp',\n",
            "       'Parch', 'Ticket', 'Fare', 'Cabin', 'Embarked'],\n",
            "      dtype='object')\n"
          ],
          "name": "stdout"
        }
      ]
    },
    {
      "cell_type": "markdown",
      "metadata": {
        "id": "RXtugQB6LVut"
      },
      "source": [
        "It seems we're using features like passenger class, sex, and other stuff to determine survivability. "
      ]
    },
    {
      "cell_type": "markdown",
      "metadata": {
        "id": "u-IRlqWAL8X-"
      },
      "source": [
        "## Cleaning the Data"
      ]
    },
    {
      "cell_type": "markdown",
      "metadata": {
        "id": "VWQnSfoMOy6f"
      },
      "source": [
        "In history class, we learned that the safety of women and children on the Titanic were prioritized. Perhaps Sex and Age are good features to predict one's survival. Let's update the Sex column such that the text values become numerical values: 'male' maps to '0' and 'female' maps to '1'. This makes our analysis easier. "
      ]
    },
    {
      "cell_type": "code",
      "metadata": {
        "id": "ZeIpy240LLCi",
        "outputId": "fa4587d2-cb9b-42d2-c60e-2afdba63695b",
        "colab": {
          "base_uri": "https://localhost:8080/"
        }
      },
      "source": [
        "print(passengers['Sex'])"
      ],
      "execution_count": null,
      "outputs": [
        {
          "output_type": "stream",
          "text": [
            "0        male\n",
            "1      female\n",
            "2      female\n",
            "3      female\n",
            "4        male\n",
            "        ...  \n",
            "886      male\n",
            "887    female\n",
            "888    female\n",
            "889      male\n",
            "890      male\n",
            "Name: Sex, Length: 891, dtype: object\n"
          ],
          "name": "stdout"
        }
      ]
    },
    {
      "cell_type": "code",
      "metadata": {
        "id": "Z06f4-BiMlZb"
      },
      "source": [
        "passengers['Sex'] = passengers['Sex'].map({'male':'0', 'female':'1'})"
      ],
      "execution_count": null,
      "outputs": []
    },
    {
      "cell_type": "code",
      "metadata": {
        "id": "vbi9Ax_ZPMXj",
        "outputId": "bd4f1bfc-69e8-49e4-8166-679cf1b7f912",
        "colab": {
          "base_uri": "https://localhost:8080/"
        }
      },
      "source": [
        "print(passengers['Sex'])"
      ],
      "execution_count": null,
      "outputs": [
        {
          "output_type": "stream",
          "text": [
            "0      0\n",
            "1      1\n",
            "2      1\n",
            "3      1\n",
            "4      0\n",
            "      ..\n",
            "886    0\n",
            "887    1\n",
            "888    1\n",
            "889    0\n",
            "890    0\n",
            "Name: Sex, Length: 891, dtype: object\n"
          ],
          "name": "stdout"
        }
      ]
    },
    {
      "cell_type": "markdown",
      "metadata": {
        "id": "whIx-0XBPUzV"
      },
      "source": [
        "Great! The column of 'Sex' is cleaned. Next, we should clean the 'age' column because if we take a look at the age column, we see that some values are Nan. Let's clean this by filling in all the empty Age values with the mean age. "
      ]
    },
    {
      "cell_type": "code",
      "metadata": {
        "id": "taYGMt0qPN8u",
        "outputId": "021489a8-8bb7-4e2c-f8e5-a7ff761be9c0",
        "colab": {
          "base_uri": "https://localhost:8080/"
        }
      },
      "source": [
        "print(passengers['Age'].values)  # .values isolates only the values of the column of interest"
      ],
      "execution_count": null,
      "outputs": [
        {
          "output_type": "stream",
          "text": [
            "[22.   38.   26.   35.   35.     nan 54.    2.   27.   14.    4.   58.\n",
            " 20.   39.   14.   55.    2.     nan 31.     nan 35.   34.   15.   28.\n",
            "  8.   38.     nan 19.     nan   nan 40.     nan   nan 66.   28.   42.\n",
            "   nan 21.   18.   14.   40.   27.     nan  3.   19.     nan   nan   nan\n",
            "   nan 18.    7.   21.   49.   29.   65.     nan 21.   28.5   5.   11.\n",
            " 22.   38.   45.    4.     nan   nan 29.   19.   17.   26.   32.   16.\n",
            " 21.   26.   32.   25.     nan   nan  0.83 30.   22.   29.     nan 28.\n",
            " 17.   33.   16.     nan 23.   24.   29.   20.   46.   26.   59.     nan\n",
            " 71.   23.   34.   34.   28.     nan 21.   33.   37.   28.   21.     nan\n",
            " 38.     nan 47.   14.5  22.   20.   17.   21.   70.5  29.   24.    2.\n",
            " 21.     nan 32.5  32.5  54.   12.     nan 24.     nan 45.   33.   20.\n",
            " 47.   29.   25.   23.   19.   37.   16.   24.     nan 22.   24.   19.\n",
            " 18.   19.   27.    9.   36.5  42.   51.   22.   55.5  40.5    nan 51.\n",
            " 16.   30.     nan   nan 44.   40.   26.   17.    1.    9.     nan 45.\n",
            "   nan 28.   61.    4.    1.   21.   56.   18.     nan 50.   30.   36.\n",
            "   nan   nan  9.    1.    4.     nan   nan 45.   40.   36.   32.   19.\n",
            " 19.    3.   44.   58.     nan 42.     nan 24.   28.     nan 34.   45.5\n",
            " 18.    2.   32.   26.   16.   40.   24.   35.   22.   30.     nan 31.\n",
            " 27.   42.   32.   30.   16.   27.   51.     nan 38.   22.   19.   20.5\n",
            " 18.     nan 35.   29.   59.    5.   24.     nan 44.    8.   19.   33.\n",
            "   nan   nan 29.   22.   30.   44.   25.   24.   37.   54.     nan 29.\n",
            " 62.   30.   41.   29.     nan 30.   35.   50.     nan  3.   52.   40.\n",
            "   nan 36.   16.   25.   58.   35.     nan 25.   41.   37.     nan 63.\n",
            " 45.     nan  7.   35.   65.   28.   16.   19.     nan 33.   30.   22.\n",
            " 42.   22.   26.   19.   36.   24.   24.     nan 23.5   2.     nan 50.\n",
            "   nan   nan 19.     nan   nan  0.92   nan 17.   30.   30.   24.   18.\n",
            " 26.   28.   43.   26.   24.   54.   31.   40.   22.   27.   30.   22.\n",
            "   nan 36.   61.   36.   31.   16.     nan 45.5  38.   16.     nan   nan\n",
            " 29.   41.   45.   45.    2.   24.   28.   25.   36.   24.   40.     nan\n",
            "  3.   42.   23.     nan 15.   25.     nan 28.   22.   38.     nan   nan\n",
            " 40.   29.   45.   35.     nan 30.   60.     nan   nan 24.   25.   18.\n",
            " 19.   22.    3.     nan 22.   27.   20.   19.   42.    1.   32.   35.\n",
            "   nan 18.    1.   36.     nan 17.   36.   21.   28.   23.   24.   22.\n",
            " 31.   46.   23.   28.   39.   26.   21.   28.   20.   34.   51.    3.\n",
            " 21.     nan   nan   nan 33.     nan 44.     nan 34.   18.   30.   10.\n",
            "   nan 21.   29.   28.   18.     nan 28.   19.     nan 32.   28.     nan\n",
            " 42.   17.   50.   14.   21.   24.   64.   31.   45.   20.   25.   28.\n",
            "   nan  4.   13.   34.    5.   52.   36.     nan 30.   49.     nan 29.\n",
            " 65.     nan 50.     nan 48.   34.   47.   48.     nan 38.     nan 56.\n",
            "   nan  0.75   nan 38.   33.   23.   22.     nan 34.   29.   22.    2.\n",
            "  9.     nan 50.   63.   25.     nan 35.   58.   30.    9.     nan 21.\n",
            " 55.   71.   21.     nan 54.     nan 25.   24.   17.   21.     nan 37.\n",
            " 16.   18.   33.     nan 28.   26.   29.     nan 36.   54.   24.   47.\n",
            " 34.     nan 36.   32.   30.   22.     nan 44.     nan 40.5  50.     nan\n",
            " 39.   23.    2.     nan 17.     nan 30.    7.   45.   30.     nan 22.\n",
            " 36.    9.   11.   32.   50.   64.   19.     nan 33.    8.   17.   27.\n",
            "   nan 22.   22.   62.   48.     nan 39.   36.     nan 40.   28.     nan\n",
            "   nan 24.   19.   29.     nan 32.   62.   53.   36.     nan 16.   19.\n",
            " 34.   39.     nan 32.   25.   39.   54.   36.     nan 18.   47.   60.\n",
            " 22.     nan 35.   52.   47.     nan 37.   36.     nan 49.     nan 49.\n",
            " 24.     nan   nan 44.   35.   36.   30.   27.   22.   40.   39.     nan\n",
            "   nan   nan 35.   24.   34.   26.    4.   26.   27.   42.   20.   21.\n",
            " 21.   61.   57.   21.   26.     nan 80.   51.   32.     nan  9.   28.\n",
            " 32.   31.   41.     nan 20.   24.    2.     nan  0.75 48.   19.   56.\n",
            "   nan 23.     nan 18.   21.     nan 18.   24.     nan 32.   23.   58.\n",
            " 50.   40.   47.   36.   20.   32.   25.     nan 43.     nan 40.   31.\n",
            " 70.   31.     nan 18.   24.5  18.   43.   36.     nan 27.   20.   14.\n",
            " 60.   25.   14.   19.   18.   15.   31.    4.     nan 25.   60.   52.\n",
            " 44.     nan 49.   42.   18.   35.   18.   25.   26.   39.   45.   42.\n",
            " 22.     nan 24.     nan 48.   29.   52.   19.   38.   27.     nan 33.\n",
            "  6.   17.   34.   50.   27.   20.   30.     nan 25.   25.   29.   11.\n",
            "   nan 23.   23.   28.5  48.   35.     nan   nan   nan 36.   21.   24.\n",
            " 31.   70.   16.   30.   19.   31.    4.    6.   33.   23.   48.    0.67\n",
            " 28.   18.   34.   33.     nan 41.   20.   36.   16.   51.     nan 30.5\n",
            "   nan 32.   24.   48.   57.     nan 54.   18.     nan  5.     nan 43.\n",
            " 13.   17.   29.     nan 25.   25.   18.    8.    1.   46.     nan 16.\n",
            "   nan   nan 25.   39.   49.   31.   30.   30.   34.   31.   11.    0.42\n",
            " 27.   31.   39.   18.   39.   33.   26.   39.   35.    6.   30.5    nan\n",
            " 23.   31.   43.   10.   52.   27.   38.   27.    2.     nan   nan  1.\n",
            "   nan 62.   15.    0.83   nan 23.   18.   39.   21.     nan 32.     nan\n",
            " 20.   16.   30.   34.5  17.   42.     nan 35.   28.     nan  4.   74.\n",
            "  9.   16.   44.   18.   45.   51.   24.     nan 41.   21.   48.     nan\n",
            " 24.   42.   27.   31.     nan  4.   26.   47.   33.   47.   28.   15.\n",
            " 20.   19.     nan 56.   25.   33.   22.   28.   25.   39.   27.   19.\n",
            "   nan 26.   32.  ]\n"
          ],
          "name": "stdout"
        }
      ]
    },
    {
      "cell_type": "code",
      "metadata": {
        "id": "_ApEgJcYRgNg",
        "outputId": "b3557cb7-6b2e-4bdc-bc5a-e26980512604",
        "colab": {
          "base_uri": "https://localhost:8080/"
        }
      },
      "source": [
        "print(passengers['Age'].describe())   # Gives us the characteristics of the values in the column"
      ],
      "execution_count": null,
      "outputs": [
        {
          "output_type": "stream",
          "text": [
            "count    714.000000\n",
            "mean      29.699118\n",
            "std       14.526497\n",
            "min        0.420000\n",
            "25%       20.125000\n",
            "50%       28.000000\n",
            "75%       38.000000\n",
            "max       80.000000\n",
            "Name: Age, dtype: float64\n"
          ],
          "name": "stdout"
        }
      ]
    },
    {
      "cell_type": "markdown",
      "metadata": {
        "id": "aQotSsEsk0MG"
      },
      "source": [
        "From the line above, we can see that the mean age is around 30. We can fill in nan with the mean age via:"
      ]
    },
    {
      "cell_type": "code",
      "metadata": {
        "id": "EEoirdoMP-DG"
      },
      "source": [
        "passengers['Age'].fillna(value = 30, inplace=True)"
      ],
      "execution_count": null,
      "outputs": []
    },
    {
      "cell_type": "code",
      "metadata": {
        "id": "ntsy8lLURxv-",
        "outputId": "16f87034-2b29-4bc6-8c5a-1b5ba1e2ffab",
        "colab": {
          "base_uri": "https://localhost:8080/"
        }
      },
      "source": [
        "print(passengers['Age'].values)"
      ],
      "execution_count": null,
      "outputs": [
        {
          "output_type": "stream",
          "text": [
            "[22.   38.   26.   35.   35.   30.   54.    2.   27.   14.    4.   58.\n",
            " 20.   39.   14.   55.    2.   30.   31.   30.   35.   34.   15.   28.\n",
            "  8.   38.   30.   19.   30.   30.   40.   30.   30.   66.   28.   42.\n",
            " 30.   21.   18.   14.   40.   27.   30.    3.   19.   30.   30.   30.\n",
            " 30.   18.    7.   21.   49.   29.   65.   30.   21.   28.5   5.   11.\n",
            " 22.   38.   45.    4.   30.   30.   29.   19.   17.   26.   32.   16.\n",
            " 21.   26.   32.   25.   30.   30.    0.83 30.   22.   29.   30.   28.\n",
            " 17.   33.   16.   30.   23.   24.   29.   20.   46.   26.   59.   30.\n",
            " 71.   23.   34.   34.   28.   30.   21.   33.   37.   28.   21.   30.\n",
            " 38.   30.   47.   14.5  22.   20.   17.   21.   70.5  29.   24.    2.\n",
            " 21.   30.   32.5  32.5  54.   12.   30.   24.   30.   45.   33.   20.\n",
            " 47.   29.   25.   23.   19.   37.   16.   24.   30.   22.   24.   19.\n",
            " 18.   19.   27.    9.   36.5  42.   51.   22.   55.5  40.5  30.   51.\n",
            " 16.   30.   30.   30.   44.   40.   26.   17.    1.    9.   30.   45.\n",
            " 30.   28.   61.    4.    1.   21.   56.   18.   30.   50.   30.   36.\n",
            " 30.   30.    9.    1.    4.   30.   30.   45.   40.   36.   32.   19.\n",
            " 19.    3.   44.   58.   30.   42.   30.   24.   28.   30.   34.   45.5\n",
            " 18.    2.   32.   26.   16.   40.   24.   35.   22.   30.   30.   31.\n",
            " 27.   42.   32.   30.   16.   27.   51.   30.   38.   22.   19.   20.5\n",
            " 18.   30.   35.   29.   59.    5.   24.   30.   44.    8.   19.   33.\n",
            " 30.   30.   29.   22.   30.   44.   25.   24.   37.   54.   30.   29.\n",
            " 62.   30.   41.   29.   30.   30.   35.   50.   30.    3.   52.   40.\n",
            " 30.   36.   16.   25.   58.   35.   30.   25.   41.   37.   30.   63.\n",
            " 45.   30.    7.   35.   65.   28.   16.   19.   30.   33.   30.   22.\n",
            " 42.   22.   26.   19.   36.   24.   24.   30.   23.5   2.   30.   50.\n",
            " 30.   30.   19.   30.   30.    0.92 30.   17.   30.   30.   24.   18.\n",
            " 26.   28.   43.   26.   24.   54.   31.   40.   22.   27.   30.   22.\n",
            " 30.   36.   61.   36.   31.   16.   30.   45.5  38.   16.   30.   30.\n",
            " 29.   41.   45.   45.    2.   24.   28.   25.   36.   24.   40.   30.\n",
            "  3.   42.   23.   30.   15.   25.   30.   28.   22.   38.   30.   30.\n",
            " 40.   29.   45.   35.   30.   30.   60.   30.   30.   24.   25.   18.\n",
            " 19.   22.    3.   30.   22.   27.   20.   19.   42.    1.   32.   35.\n",
            " 30.   18.    1.   36.   30.   17.   36.   21.   28.   23.   24.   22.\n",
            " 31.   46.   23.   28.   39.   26.   21.   28.   20.   34.   51.    3.\n",
            " 21.   30.   30.   30.   33.   30.   44.   30.   34.   18.   30.   10.\n",
            " 30.   21.   29.   28.   18.   30.   28.   19.   30.   32.   28.   30.\n",
            " 42.   17.   50.   14.   21.   24.   64.   31.   45.   20.   25.   28.\n",
            " 30.    4.   13.   34.    5.   52.   36.   30.   30.   49.   30.   29.\n",
            " 65.   30.   50.   30.   48.   34.   47.   48.   30.   38.   30.   56.\n",
            " 30.    0.75 30.   38.   33.   23.   22.   30.   34.   29.   22.    2.\n",
            "  9.   30.   50.   63.   25.   30.   35.   58.   30.    9.   30.   21.\n",
            " 55.   71.   21.   30.   54.   30.   25.   24.   17.   21.   30.   37.\n",
            " 16.   18.   33.   30.   28.   26.   29.   30.   36.   54.   24.   47.\n",
            " 34.   30.   36.   32.   30.   22.   30.   44.   30.   40.5  50.   30.\n",
            " 39.   23.    2.   30.   17.   30.   30.    7.   45.   30.   30.   22.\n",
            " 36.    9.   11.   32.   50.   64.   19.   30.   33.    8.   17.   27.\n",
            " 30.   22.   22.   62.   48.   30.   39.   36.   30.   40.   28.   30.\n",
            " 30.   24.   19.   29.   30.   32.   62.   53.   36.   30.   16.   19.\n",
            " 34.   39.   30.   32.   25.   39.   54.   36.   30.   18.   47.   60.\n",
            " 22.   30.   35.   52.   47.   30.   37.   36.   30.   49.   30.   49.\n",
            " 24.   30.   30.   44.   35.   36.   30.   27.   22.   40.   39.   30.\n",
            " 30.   30.   35.   24.   34.   26.    4.   26.   27.   42.   20.   21.\n",
            " 21.   61.   57.   21.   26.   30.   80.   51.   32.   30.    9.   28.\n",
            " 32.   31.   41.   30.   20.   24.    2.   30.    0.75 48.   19.   56.\n",
            " 30.   23.   30.   18.   21.   30.   18.   24.   30.   32.   23.   58.\n",
            " 50.   40.   47.   36.   20.   32.   25.   30.   43.   30.   40.   31.\n",
            " 70.   31.   30.   18.   24.5  18.   43.   36.   30.   27.   20.   14.\n",
            " 60.   25.   14.   19.   18.   15.   31.    4.   30.   25.   60.   52.\n",
            " 44.   30.   49.   42.   18.   35.   18.   25.   26.   39.   45.   42.\n",
            " 22.   30.   24.   30.   48.   29.   52.   19.   38.   27.   30.   33.\n",
            "  6.   17.   34.   50.   27.   20.   30.   30.   25.   25.   29.   11.\n",
            " 30.   23.   23.   28.5  48.   35.   30.   30.   30.   36.   21.   24.\n",
            " 31.   70.   16.   30.   19.   31.    4.    6.   33.   23.   48.    0.67\n",
            " 28.   18.   34.   33.   30.   41.   20.   36.   16.   51.   30.   30.5\n",
            " 30.   32.   24.   48.   57.   30.   54.   18.   30.    5.   30.   43.\n",
            " 13.   17.   29.   30.   25.   25.   18.    8.    1.   46.   30.   16.\n",
            " 30.   30.   25.   39.   49.   31.   30.   30.   34.   31.   11.    0.42\n",
            " 27.   31.   39.   18.   39.   33.   26.   39.   35.    6.   30.5  30.\n",
            " 23.   31.   43.   10.   52.   27.   38.   27.    2.   30.   30.    1.\n",
            " 30.   62.   15.    0.83 30.   23.   18.   39.   21.   30.   32.   30.\n",
            " 20.   16.   30.   34.5  17.   42.   30.   35.   28.   30.    4.   74.\n",
            "  9.   16.   44.   18.   45.   51.   24.   30.   41.   21.   48.   30.\n",
            " 24.   42.   27.   31.   30.    4.   26.   47.   33.   47.   28.   15.\n",
            " 20.   19.   30.   56.   25.   33.   22.   28.   25.   39.   27.   19.\n",
            " 30.   26.   32.  ]\n"
          ],
          "name": "stdout"
        }
      ]
    },
    {
      "cell_type": "markdown",
      "metadata": {
        "id": "Ht28JgMDk6Lx"
      },
      "source": [
        "Great! There are no more Nan values."
      ]
    },
    {
      "cell_type": "markdown",
      "metadata": {
        "id": "9RKag75Kk4o1"
      },
      "source": [
        "The class of the passengers is also known to have contributed to their survival rate. Let's create a new column named FirstClass that stores 1 for all passengers in first class and 0 for all other passengers. We can do this via:"
      ]
    },
    {
      "cell_type": "code",
      "metadata": {
        "id": "FhCIwz0FR0MA"
      },
      "source": [
        "passengers['FirstClass'] = passengers['Pclass'].apply(lambda x: 1 if x == 1 else 0)"
      ],
      "execution_count": null,
      "outputs": []
    },
    {
      "cell_type": "markdown",
      "metadata": {
        "id": "e6396qUDV0vP"
      },
      "source": [
        "\n",
        "Now let's create a new column named SecondClass that stores 1 for all passengers in second class and 0 for all other passengers."
      ]
    },
    {
      "cell_type": "code",
      "metadata": {
        "id": "V5xbblr2Vojd"
      },
      "source": [
        "passengers['SecondClass'] = passengers['Pclass'].apply(lambda x: 1 if x == 2 else 0)"
      ],
      "execution_count": null,
      "outputs": []
    },
    {
      "cell_type": "code",
      "metadata": {
        "id": "RGT6IuA1V6B2",
        "outputId": "0bdf030c-9260-4b0a-c21d-305f148e64db",
        "colab": {
          "base_uri": "https://localhost:8080/"
        }
      },
      "source": [
        "print(passengers)"
      ],
      "execution_count": null,
      "outputs": [
        {
          "output_type": "stream",
          "text": [
            "     PassengerId  Survived  Pclass  ... Embarked FirstClass  SecondClass\n",
            "0              1         0       3  ...        S          0            0\n",
            "1              2         1       1  ...        C          1            0\n",
            "2              3         1       3  ...        S          0            0\n",
            "3              4         1       1  ...        S          1            0\n",
            "4              5         0       3  ...        S          0            0\n",
            "..           ...       ...     ...  ...      ...        ...          ...\n",
            "886          887         0       2  ...        S          0            1\n",
            "887          888         1       1  ...        S          1            0\n",
            "888          889         0       3  ...        S          0            0\n",
            "889          890         1       1  ...        C          1            0\n",
            "890          891         0       3  ...        Q          0            0\n",
            "\n",
            "[891 rows x 14 columns]\n"
          ],
          "name": "stdout"
        }
      ]
    },
    {
      "cell_type": "markdown",
      "metadata": {
        "id": "k7BTKbo5WgU7"
      },
      "source": [
        "As we can see, we have created 2 new features at the end of our original table: FirstClass and SecondClass."
      ]
    },
    {
      "cell_type": "markdown",
      "metadata": {
        "id": "IAmnmt1YlCaK"
      },
      "source": [
        "Great! Now that we've got the features we want to use, let's put them all together into one variable. Don't forget, we also need the labels (of whether someone survived or not), so we need the column 'Survived' as another variable. We can do this via: "
      ]
    },
    {
      "cell_type": "code",
      "metadata": {
        "id": "vmWpKDLyWc1u"
      },
      "source": [
        "features = passengers[['Sex','Age','FirstClass','SecondClass']] # features...\n",
        "survival = passengers['Survived']  # labels..."
      ],
      "execution_count": null,
      "outputs": []
    },
    {
      "cell_type": "markdown",
      "metadata": {
        "id": "xdx7USI9W7TW"
      },
      "source": [
        "### Splitting the Data"
      ]
    },
    {
      "cell_type": "markdown",
      "metadata": {
        "id": "0T15hZwEW8wq"
      },
      "source": [
        "Let's use Sklearn's built in function to accomplish the splitting."
      ]
    },
    {
      "cell_type": "code",
      "metadata": {
        "id": "ZoE0m9LxW8Xg"
      },
      "source": [
        "from sklearn.model_selection import train_test_split\n",
        "\n",
        "X_train, X_val, y_train, y_val = train_test_split(features, survival, train_size = 0.8, test_size = 0.2, random_state = 1) "
      ],
      "execution_count": null,
      "outputs": []
    },
    {
      "cell_type": "markdown",
      "metadata": {
        "id": "1kTF5t-eYeme"
      },
      "source": [
        "Note: I chose test data to be validation because that's what it should be.."
      ]
    },
    {
      "cell_type": "markdown",
      "metadata": {
        "id": "Ic32FJaAXRIE"
      },
      "source": [
        "### Normalization"
      ]
    },
    {
      "cell_type": "markdown",
      "metadata": {
        "id": "iszO59bjlJHF"
      },
      "source": [
        "It's always a good idea when working with data of different magnitudes to normalize the data. Plus, sklearn's logistics regression implementation uses Regularization, so we need to normalize. To do so, we can use a function from sklearn.preprocessing called StandardScaler."
      ]
    },
    {
      "cell_type": "code",
      "metadata": {
        "id": "yiJMQ5mMXJfX"
      },
      "source": [
        "scaler = StandardScaler()\n",
        "\n",
        "train_features = scaler.fit_transform(X_train)\n",
        "val_features = scaler.transform(X_val)"
      ],
      "execution_count": null,
      "outputs": []
    },
    {
      "cell_type": "markdown",
      "metadata": {
        "id": "pY4Zq7-LYkhG"
      },
      "source": [
        "### Creating and Evaluating the Model with Sklearn"
      ]
    },
    {
      "cell_type": "markdown",
      "metadata": {
        "id": "PLK3rGPyZBez"
      },
      "source": [
        "Fitting the model will perform gradient descent to find the feature coefficients that minimize the log-loss for the training data."
      ]
    },
    {
      "cell_type": "code",
      "metadata": {
        "id": "Ph15wynUYbKJ"
      },
      "source": [
        "regressor = LogisticRegression()\n",
        "model = regressor.fit(train_features, y_train)"
      ],
      "execution_count": null,
      "outputs": []
    },
    {
      "cell_type": "markdown",
      "metadata": {
        "id": "HkPZC-D4Y7Q-"
      },
      "source": [
        "Scoring the model on the training data will run the data through the model and make final classifications on survival for each passenger in the training set. The score returned is the percentage of correct classifications, or the accuracy."
      ]
    },
    {
      "cell_type": "code",
      "metadata": {
        "id": "TM4t6vtAY0yX",
        "outputId": "381f5ec8-66a0-47a8-98bc-77d3f85e963b",
        "colab": {
          "base_uri": "https://localhost:8080/"
        }
      },
      "source": [
        "print(model.score(train_features,y_train))"
      ],
      "execution_count": null,
      "outputs": [
        {
          "output_type": "stream",
          "text": [
            "0.797752808988764\n"
          ],
          "name": "stdout"
        }
      ]
    },
    {
      "cell_type": "markdown",
      "metadata": {
        "id": "n7hZxn8tZS_r"
      },
      "source": [
        "Similarly, scoring the model on the validation data will run the data through the model and make final classifications on survival for each passenger in the test set."
      ]
    },
    {
      "cell_type": "code",
      "metadata": {
        "id": "jTm0KR6hZVGr",
        "outputId": "49e80e9a-bca9-4e7f-db84-db912e4f1e55",
        "colab": {
          "base_uri": "https://localhost:8080/"
        }
      },
      "source": [
        "print(model.score(val_features,y_val))"
      ],
      "execution_count": null,
      "outputs": [
        {
          "output_type": "stream",
          "text": [
            "0.8044692737430168\n"
          ],
          "name": "stdout"
        }
      ]
    },
    {
      "cell_type": "markdown",
      "metadata": {
        "id": "tm006kOiZK70"
      },
      "source": [
        "We've achieved around 80% accuracy!"
      ]
    },
    {
      "cell_type": "markdown",
      "metadata": {
        "id": "mpr86TQSZoOx"
      },
      "source": [
        "Let's now print the feature coefficients to determine which of those features is most important in predicting survival on the sinking of the Titanic."
      ]
    },
    {
      "cell_type": "code",
      "metadata": {
        "id": "2RD95uhjZJrx",
        "outputId": "1cb70a89-d097-44b2-be22-6552f7f520b0",
        "colab": {
          "base_uri": "https://localhost:8080/"
        }
      },
      "source": [
        "print(list(zip(['Sex','Age','FirstClass','SecondClass'],model.coef_[0])))"
      ],
      "execution_count": null,
      "outputs": [
        {
          "output_type": "stream",
          "text": [
            "[('Sex', 1.250754825947456), ('Age', -0.45746091838718184), ('FirstClass', 1.0279337564210598), ('SecondClass', 0.5513094353122898)]\n"
          ],
          "name": "stdout"
        }
      ]
    },
    {
      "cell_type": "markdown",
      "metadata": {
        "id": "2ZPcKZ9ZlbqE"
      },
      "source": [
        "It seems 'Sex' and being 'FirstClass' really influences your likelihood of survival!"
      ]
    },
    {
      "cell_type": "markdown",
      "metadata": {
        "id": "w2y-cypuZ_Gs"
      },
      "source": [
        "### Making Predictions with the Model"
      ]
    },
    {
      "cell_type": "markdown",
      "metadata": {
        "id": "Srjczkajaf32"
      },
      "source": [
        "![image.png](data:image/png;base64,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)"
      ]
    },
    {
      "cell_type": "code",
      "metadata": {
        "id": "7BvSbRGRZyKg"
      },
      "source": [
        "# Sample passenger features\n",
        "Jack = np.array([0.0,20.0,0.0,0.0])\n",
        "Rose = np.array([1.0,17.0,1.0,0.0])\n",
        "You = np.array([0.0,20,0.0,1.0])"
      ],
      "execution_count": null,
      "outputs": []
    },
    {
      "cell_type": "markdown",
      "metadata": {
        "id": "RcaStGR7a0xO"
      },
      "source": [
        "Let's combine Jack, Rose, and You into a single NumPy array."
      ]
    },
    {
      "cell_type": "code",
      "metadata": {
        "id": "U8dl6vICazUm",
        "outputId": "48ac28f7-0a58-4ffd-e4d2-25acac286249",
        "colab": {
          "base_uri": "https://localhost:8080/"
        }
      },
      "source": [
        "combined_arrays = np.array([Jack,Rose,You])\n",
        "print(combined_arrays)"
      ],
      "execution_count": null,
      "outputs": [
        {
          "output_type": "stream",
          "text": [
            "[[ 0. 20.  0.  0.]\n",
            " [ 1. 17.  1.  0.]\n",
            " [ 0. 20.  0.  1.]]\n"
          ],
          "name": "stdout"
        }
      ]
    },
    {
      "cell_type": "markdown",
      "metadata": {
        "id": "2njdS_NHa-lq"
      },
      "source": [
        "Since our Logistic Regression model was trained on scaled feature data, we must also scale the feature data we are making predictions on. Using the StandardScaler object created earlier, apply its .transform() method to combined_arrays and save the result to sample_passengers.\n",
        "\n",
        "We can then print sample_passengers to view the scaled features."
      ]
    },
    {
      "cell_type": "code",
      "metadata": {
        "id": "CyKliNBLa4mV"
      },
      "source": [
        "sample_passengers = scaler.transform(combined_arrays)"
      ],
      "execution_count": null,
      "outputs": []
    },
    {
      "cell_type": "code",
      "metadata": {
        "id": "gOEMO8PPbewS",
        "outputId": "daeb244f-2d50-4242-93a7-7f57883c5725",
        "colab": {
          "base_uri": "https://localhost:8080/"
        }
      },
      "source": [
        "print(sample_passengers)"
      ],
      "execution_count": null,
      "outputs": [
        {
          "output_type": "stream",
          "text": [
            "[[-0.73334642 -0.76427714 -0.56870034 -0.51662744]\n",
            " [ 1.36361202 -0.9905595   1.7583953  -0.51662744]\n",
            " [-0.73334642 -0.76427714 -0.56870034  1.93563082]]\n"
          ],
          "name": "stdout"
        }
      ]
    },
    {
      "cell_type": "markdown",
      "metadata": {
        "id": "vZ3mU3xBbzE_"
      },
      "source": [
        "Now let's make the prediction to see who survives..."
      ]
    },
    {
      "cell_type": "code",
      "metadata": {
        "id": "_-BKF3VEbnj3"
      },
      "source": [
        "prediction = model.predict(sample_passengers)"
      ],
      "execution_count": null,
      "outputs": []
    },
    {
      "cell_type": "code",
      "metadata": {
        "id": "UJy-E89Jb12K",
        "outputId": "2f24fc2c-e58b-44b6-a0eb-ace474eef830",
        "colab": {
          "base_uri": "https://localhost:8080/"
        }
      },
      "source": [
        "print(list(zip(['Jack','Rose','You'],prediction)))"
      ],
      "execution_count": null,
      "outputs": [
        {
          "output_type": "stream",
          "text": [
            "[('Jack', 0), ('Rose', 1), ('You', 0)]\n"
          ],
          "name": "stdout"
        }
      ]
    },
    {
      "cell_type": "markdown",
      "metadata": {
        "id": "dEJcWJ2PcPf2"
      },
      "source": [
        "It seems like I could not survive.... Let's see the probabilities with the left one being death and the right being survival."
      ]
    },
    {
      "cell_type": "code",
      "metadata": {
        "id": "V_tJSDUFcqD2",
        "outputId": "cc91dcb6-e732-4223-8733-29da58a507d1",
        "colab": {
          "base_uri": "https://localhost:8080/"
        }
      },
      "source": [
        "print(model.predict_proba(sample_passengers))"
      ],
      "execution_count": null,
      "outputs": [
        {
          "output_type": "stream",
          "text": [
            "[[0.8944327  0.1055673 ]\n",
            " [0.04826613 0.95173387]\n",
            " [0.68673261 0.31326739]]\n"
          ],
          "name": "stdout"
        }
      ]
    },
    {
      "cell_type": "markdown",
      "metadata": {
        "id": "2u9HM3__l3oC"
      },
      "source": [
        "**The end.**"
      ]
    }
  ]
}